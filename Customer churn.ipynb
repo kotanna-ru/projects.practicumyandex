{
 "cells": [
  {
   "cell_type": "markdown",
   "metadata": {
    "toc": true
   },
   "source": [
    "<h1>Содержание<span class=\"tocSkip\"></span></h1>\n",
    "<div class=\"toc\"><ul class=\"toc-item\"><li><span><a href=\"#Подготовка-данных\" data-toc-modified-id=\"Подготовка-данных-1\"><span class=\"toc-item-num\">1&nbsp;&nbsp;</span>Подготовка данных</a></span><ul class=\"toc-item\"><li><span><a href=\"#Импортируем-библиотеки.-Считаем-данные-из-csv-файла-в-датафрейм-и-сохраним-в-переменную-data_cow.\" data-toc-modified-id=\"Импортируем-библиотеки.-Считаем-данные-из-csv-файла-в-датафрейм-и-сохраним-в-переменную-data_cow.-1.1\"><span class=\"toc-item-num\">1.1&nbsp;&nbsp;</span>Импортируем библиотеки. Считаем данные из csv-файла в датафрейм и сохраним в переменную data_cow.</a></span></li><li><span><a href=\"#Предобработка-данных\" data-toc-modified-id=\"Предобработка-данных-1.2\"><span class=\"toc-item-num\">1.2&nbsp;&nbsp;</span>Предобработка данных</a></span></li><li><span><a href=\"#Обработки-категориальных-признаков\" data-toc-modified-id=\"Обработки-категориальных-признаков-1.3\"><span class=\"toc-item-num\">1.3&nbsp;&nbsp;</span>Обработки категориальных признаков</a></span></li><li><span><a href=\"#Разобьем-данные-на-выборки\" data-toc-modified-id=\"Разобьем-данные-на-выборки-1.4\"><span class=\"toc-item-num\">1.4&nbsp;&nbsp;</span>Разобьем данные на выборки</a></span></li><li><span><a href=\"#Стандартизация-данных\" data-toc-modified-id=\"Стандартизация-данных-1.5\"><span class=\"toc-item-num\">1.5&nbsp;&nbsp;</span>Стандартизация данных</a></span></li></ul></li><li><span><a href=\"#Исследование-задачи\" data-toc-modified-id=\"Исследование-задачи-2\"><span class=\"toc-item-num\">2&nbsp;&nbsp;</span>Исследование задачи</a></span><ul class=\"toc-item\"><li><span><a href=\"#DecisionTreeClassifier-модель-для-классификации-деревом-решений\" data-toc-modified-id=\"DecisionTreeClassifier-модель-для-классификации-деревом-решений-2.1\"><span class=\"toc-item-num\">2.1&nbsp;&nbsp;</span>DecisionTreeClassifier модель для классификации деревом решений</a></span></li><li><span><a href=\"#RandomForestClassifier-модель-для-классификации-алгоритмом-случайного-леса\" data-toc-modified-id=\"RandomForestClassifier-модель-для-классификации-алгоритмом-случайного-леса-2.2\"><span class=\"toc-item-num\">2.2&nbsp;&nbsp;</span>RandomForestClassifier модель для классификации алгоритмом случайного леса</a></span></li><li><span><a href=\"#Модель-LogisticRegression---логистическая-регрессия\" data-toc-modified-id=\"Модель-LogisticRegression---логистическая-регрессия-2.3\"><span class=\"toc-item-num\">2.3&nbsp;&nbsp;</span>Модель LogisticRegression - логистическая регрессия</a></span></li></ul></li><li><span><a href=\"#Борьба-с-дисбалансом\" data-toc-modified-id=\"Борьба-с-дисбалансом-3\"><span class=\"toc-item-num\">3&nbsp;&nbsp;</span>Борьба с дисбалансом</a></span><ul class=\"toc-item\"><li><span><a href=\"#DecisionTreeClassifier\" data-toc-modified-id=\"DecisionTreeClassifier-3.1\"><span class=\"toc-item-num\">3.1&nbsp;&nbsp;</span>DecisionTreeClassifier</a></span></li><li><span><a href=\"#RandomForestClassifier\" data-toc-modified-id=\"RandomForestClassifier-3.2\"><span class=\"toc-item-num\">3.2&nbsp;&nbsp;</span>RandomForestClassifier</a></span></li><li><span><a href=\"#Модель-LogisticRegression\" data-toc-modified-id=\"Модель-LogisticRegression-3.3\"><span class=\"toc-item-num\">3.3&nbsp;&nbsp;</span>Модель LogisticRegression</a></span></li></ul></li><li><span><a href=\"#Тестирование-модели\" data-toc-modified-id=\"Тестирование-модели-4\"><span class=\"toc-item-num\">4&nbsp;&nbsp;</span>Тестирование модели</a></span></li></ul></div>"
   ]
  },
  {
   "cell_type": "markdown",
   "metadata": {},
   "source": [
    "# Отток клиентов"
   ]
  },
  {
   "cell_type": "markdown",
   "metadata": {},
   "source": [
    "Из «Бета-Банка» стали уходить клиенты. Каждый месяц. Немного, но заметно. Банковские маркетологи посчитали: сохранять текущих клиентов дешевле, чем привлекать новых.\n",
    "\n",
    "Нужно спрогнозировать, уйдёт клиент из банка в ближайшее время или нет. Вам предоставлены исторические данные о поведении клиентов и расторжении договоров с банком. \n",
    "\n",
    "Постройте модель с предельно большим значением *F1*-меры. Чтобы сдать проект успешно, нужно довести метрику до 0.59. Проверьте *F1*-меру на тестовой выборке самостоятельно.\n",
    "\n",
    "Дополнительно измеряйте *AUC-ROC*, сравнивайте её значение с *F1*-мерой.\n",
    "\n",
    "Источник данных: [https://www.kaggle.com/barelydedicated/bank-customer-churn-modeling](https://www.kaggle.com/barelydedicated/bank-customer-churn-modeling)"
   ]
  },
  {
   "cell_type": "markdown",
   "metadata": {},
   "source": [
    "## Подготовка данных"
   ]
  },
  {
   "cell_type": "markdown",
   "metadata": {},
   "source": [
    "###  Импортируем библиотеки. Считаем данные из csv-файла в датафрейм и сохраним в переменную data_cow."
   ]
  },
  {
   "cell_type": "code",
   "execution_count": 1,
   "metadata": {},
   "outputs": [],
   "source": [
    "import pandas as pd\n",
    "import seaborn as sns\n",
    "import numpy as np\n",
    "from sklearn.model_selection import GridSearchCV\n",
    "from sklearn.tree import DecisionTreeClassifier\n",
    "from sklearn.ensemble import RandomForestClassifier\n",
    "from sklearn.dummy import DummyClassifier\n",
    "from sklearn.model_selection import train_test_split\n",
    "from sklearn.preprocessing import OrdinalEncoder, StandardScaler\n",
    "import matplotlib.pyplot as plt\n",
    "from sklearn.linear_model import LogisticRegression\n",
    "from sklearn.metrics import (\n",
    "    precision_recall_curve, \n",
    "    accuracy_score, \n",
    "    confusion_matrix, \n",
    "    ConfusionMatrixDisplay,\n",
    "    precision_score, \n",
    "    recall_score, \n",
    "    f1_score, \n",
    "    roc_auc_score, \n",
    "    roc_curve\n",
    ")\n",
    "from sklearn.utils import shuffle\n",
    "from tqdm import tqdm \n",
    "from joblib import dump\n",
    "pd.options.mode.chained_assignment = None\n",
    "\n",
    "import sys\n",
    "if not sys.warnoptions:\n",
    "    import warnings\n",
    "    warnings.simplefilter(\"ignore\")"
   ]
  },
  {
   "cell_type": "code",
   "execution_count": 2,
   "metadata": {},
   "outputs": [],
   "source": [
    "try:\n",
    "    raw_data = pd.read_csv('D:\\\\Мои документы\\\\DS\\\\Churn.csv')\n",
    "except:\n",
    "    raw_data = pd.read_csv('/datasets/Churn.csv')"
   ]
  },
  {
   "cell_type": "code",
   "execution_count": 3,
   "metadata": {},
   "outputs": [
    {
     "name": "stdout",
     "output_type": "stream",
     "text": [
      "<class 'pandas.core.frame.DataFrame'>\n",
      "RangeIndex: 10000 entries, 0 to 9999\n",
      "Data columns (total 14 columns):\n",
      " #   Column           Non-Null Count  Dtype  \n",
      "---  ------           --------------  -----  \n",
      " 0   RowNumber        10000 non-null  int64  \n",
      " 1   CustomerId       10000 non-null  int64  \n",
      " 2   Surname          10000 non-null  object \n",
      " 3   CreditScore      10000 non-null  int64  \n",
      " 4   Geography        10000 non-null  object \n",
      " 5   Gender           10000 non-null  object \n",
      " 6   Age              10000 non-null  int64  \n",
      " 7   Tenure           9091 non-null   float64\n",
      " 8   Balance          10000 non-null  float64\n",
      " 9   NumOfProducts    10000 non-null  int64  \n",
      " 10  HasCrCard        10000 non-null  int64  \n",
      " 11  IsActiveMember   10000 non-null  int64  \n",
      " 12  EstimatedSalary  10000 non-null  float64\n",
      " 13  Exited           10000 non-null  int64  \n",
      "dtypes: float64(3), int64(8), object(3)\n",
      "memory usage: 1.1+ MB\n"
     ]
    }
   ],
   "source": [
    "raw_data.info()"
   ]
  },
  {
   "cell_type": "code",
   "execution_count": 4,
   "metadata": {},
   "outputs": [
    {
     "data": {
      "text/html": [
       "<div>\n",
       "<style scoped>\n",
       "    .dataframe tbody tr th:only-of-type {\n",
       "        vertical-align: middle;\n",
       "    }\n",
       "\n",
       "    .dataframe tbody tr th {\n",
       "        vertical-align: top;\n",
       "    }\n",
       "\n",
       "    .dataframe thead th {\n",
       "        text-align: right;\n",
       "    }\n",
       "</style>\n",
       "<table border=\"1\" class=\"dataframe\">\n",
       "  <thead>\n",
       "    <tr style=\"text-align: right;\">\n",
       "      <th></th>\n",
       "      <th>RowNumber</th>\n",
       "      <th>CustomerId</th>\n",
       "      <th>Surname</th>\n",
       "      <th>CreditScore</th>\n",
       "      <th>Geography</th>\n",
       "      <th>Gender</th>\n",
       "      <th>Age</th>\n",
       "      <th>Tenure</th>\n",
       "      <th>Balance</th>\n",
       "      <th>NumOfProducts</th>\n",
       "      <th>HasCrCard</th>\n",
       "      <th>IsActiveMember</th>\n",
       "      <th>EstimatedSalary</th>\n",
       "      <th>Exited</th>\n",
       "    </tr>\n",
       "  </thead>\n",
       "  <tbody>\n",
       "    <tr>\n",
       "      <th>0</th>\n",
       "      <td>1</td>\n",
       "      <td>15634602</td>\n",
       "      <td>Hargrave</td>\n",
       "      <td>619</td>\n",
       "      <td>France</td>\n",
       "      <td>Female</td>\n",
       "      <td>42</td>\n",
       "      <td>2.0</td>\n",
       "      <td>0.00</td>\n",
       "      <td>1</td>\n",
       "      <td>1</td>\n",
       "      <td>1</td>\n",
       "      <td>101348.88</td>\n",
       "      <td>1</td>\n",
       "    </tr>\n",
       "    <tr>\n",
       "      <th>1</th>\n",
       "      <td>2</td>\n",
       "      <td>15647311</td>\n",
       "      <td>Hill</td>\n",
       "      <td>608</td>\n",
       "      <td>Spain</td>\n",
       "      <td>Female</td>\n",
       "      <td>41</td>\n",
       "      <td>1.0</td>\n",
       "      <td>83807.86</td>\n",
       "      <td>1</td>\n",
       "      <td>0</td>\n",
       "      <td>1</td>\n",
       "      <td>112542.58</td>\n",
       "      <td>0</td>\n",
       "    </tr>\n",
       "    <tr>\n",
       "      <th>2</th>\n",
       "      <td>3</td>\n",
       "      <td>15619304</td>\n",
       "      <td>Onio</td>\n",
       "      <td>502</td>\n",
       "      <td>France</td>\n",
       "      <td>Female</td>\n",
       "      <td>42</td>\n",
       "      <td>8.0</td>\n",
       "      <td>159660.80</td>\n",
       "      <td>3</td>\n",
       "      <td>1</td>\n",
       "      <td>0</td>\n",
       "      <td>113931.57</td>\n",
       "      <td>1</td>\n",
       "    </tr>\n",
       "    <tr>\n",
       "      <th>3</th>\n",
       "      <td>4</td>\n",
       "      <td>15701354</td>\n",
       "      <td>Boni</td>\n",
       "      <td>699</td>\n",
       "      <td>France</td>\n",
       "      <td>Female</td>\n",
       "      <td>39</td>\n",
       "      <td>1.0</td>\n",
       "      <td>0.00</td>\n",
       "      <td>2</td>\n",
       "      <td>0</td>\n",
       "      <td>0</td>\n",
       "      <td>93826.63</td>\n",
       "      <td>0</td>\n",
       "    </tr>\n",
       "    <tr>\n",
       "      <th>4</th>\n",
       "      <td>5</td>\n",
       "      <td>15737888</td>\n",
       "      <td>Mitchell</td>\n",
       "      <td>850</td>\n",
       "      <td>Spain</td>\n",
       "      <td>Female</td>\n",
       "      <td>43</td>\n",
       "      <td>2.0</td>\n",
       "      <td>125510.82</td>\n",
       "      <td>1</td>\n",
       "      <td>1</td>\n",
       "      <td>1</td>\n",
       "      <td>79084.10</td>\n",
       "      <td>0</td>\n",
       "    </tr>\n",
       "    <tr>\n",
       "      <th>5</th>\n",
       "      <td>6</td>\n",
       "      <td>15574012</td>\n",
       "      <td>Chu</td>\n",
       "      <td>645</td>\n",
       "      <td>Spain</td>\n",
       "      <td>Male</td>\n",
       "      <td>44</td>\n",
       "      <td>8.0</td>\n",
       "      <td>113755.78</td>\n",
       "      <td>2</td>\n",
       "      <td>1</td>\n",
       "      <td>0</td>\n",
       "      <td>149756.71</td>\n",
       "      <td>1</td>\n",
       "    </tr>\n",
       "    <tr>\n",
       "      <th>6</th>\n",
       "      <td>7</td>\n",
       "      <td>15592531</td>\n",
       "      <td>Bartlett</td>\n",
       "      <td>822</td>\n",
       "      <td>France</td>\n",
       "      <td>Male</td>\n",
       "      <td>50</td>\n",
       "      <td>7.0</td>\n",
       "      <td>0.00</td>\n",
       "      <td>2</td>\n",
       "      <td>1</td>\n",
       "      <td>1</td>\n",
       "      <td>10062.80</td>\n",
       "      <td>0</td>\n",
       "    </tr>\n",
       "    <tr>\n",
       "      <th>7</th>\n",
       "      <td>8</td>\n",
       "      <td>15656148</td>\n",
       "      <td>Obinna</td>\n",
       "      <td>376</td>\n",
       "      <td>Germany</td>\n",
       "      <td>Female</td>\n",
       "      <td>29</td>\n",
       "      <td>4.0</td>\n",
       "      <td>115046.74</td>\n",
       "      <td>4</td>\n",
       "      <td>1</td>\n",
       "      <td>0</td>\n",
       "      <td>119346.88</td>\n",
       "      <td>1</td>\n",
       "    </tr>\n",
       "    <tr>\n",
       "      <th>8</th>\n",
       "      <td>9</td>\n",
       "      <td>15792365</td>\n",
       "      <td>He</td>\n",
       "      <td>501</td>\n",
       "      <td>France</td>\n",
       "      <td>Male</td>\n",
       "      <td>44</td>\n",
       "      <td>4.0</td>\n",
       "      <td>142051.07</td>\n",
       "      <td>2</td>\n",
       "      <td>0</td>\n",
       "      <td>1</td>\n",
       "      <td>74940.50</td>\n",
       "      <td>0</td>\n",
       "    </tr>\n",
       "    <tr>\n",
       "      <th>9</th>\n",
       "      <td>10</td>\n",
       "      <td>15592389</td>\n",
       "      <td>H?</td>\n",
       "      <td>684</td>\n",
       "      <td>France</td>\n",
       "      <td>Male</td>\n",
       "      <td>27</td>\n",
       "      <td>2.0</td>\n",
       "      <td>134603.88</td>\n",
       "      <td>1</td>\n",
       "      <td>1</td>\n",
       "      <td>1</td>\n",
       "      <td>71725.73</td>\n",
       "      <td>0</td>\n",
       "    </tr>\n",
       "    <tr>\n",
       "      <th>10</th>\n",
       "      <td>11</td>\n",
       "      <td>15767821</td>\n",
       "      <td>Bearce</td>\n",
       "      <td>528</td>\n",
       "      <td>France</td>\n",
       "      <td>Male</td>\n",
       "      <td>31</td>\n",
       "      <td>6.0</td>\n",
       "      <td>102016.72</td>\n",
       "      <td>2</td>\n",
       "      <td>0</td>\n",
       "      <td>0</td>\n",
       "      <td>80181.12</td>\n",
       "      <td>0</td>\n",
       "    </tr>\n",
       "    <tr>\n",
       "      <th>11</th>\n",
       "      <td>12</td>\n",
       "      <td>15737173</td>\n",
       "      <td>Andrews</td>\n",
       "      <td>497</td>\n",
       "      <td>Spain</td>\n",
       "      <td>Male</td>\n",
       "      <td>24</td>\n",
       "      <td>3.0</td>\n",
       "      <td>0.00</td>\n",
       "      <td>2</td>\n",
       "      <td>1</td>\n",
       "      <td>0</td>\n",
       "      <td>76390.01</td>\n",
       "      <td>0</td>\n",
       "    </tr>\n",
       "    <tr>\n",
       "      <th>12</th>\n",
       "      <td>13</td>\n",
       "      <td>15632264</td>\n",
       "      <td>Kay</td>\n",
       "      <td>476</td>\n",
       "      <td>France</td>\n",
       "      <td>Female</td>\n",
       "      <td>34</td>\n",
       "      <td>10.0</td>\n",
       "      <td>0.00</td>\n",
       "      <td>2</td>\n",
       "      <td>1</td>\n",
       "      <td>0</td>\n",
       "      <td>26260.98</td>\n",
       "      <td>0</td>\n",
       "    </tr>\n",
       "    <tr>\n",
       "      <th>13</th>\n",
       "      <td>14</td>\n",
       "      <td>15691483</td>\n",
       "      <td>Chin</td>\n",
       "      <td>549</td>\n",
       "      <td>France</td>\n",
       "      <td>Female</td>\n",
       "      <td>25</td>\n",
       "      <td>5.0</td>\n",
       "      <td>0.00</td>\n",
       "      <td>2</td>\n",
       "      <td>0</td>\n",
       "      <td>0</td>\n",
       "      <td>190857.79</td>\n",
       "      <td>0</td>\n",
       "    </tr>\n",
       "    <tr>\n",
       "      <th>14</th>\n",
       "      <td>15</td>\n",
       "      <td>15600882</td>\n",
       "      <td>Scott</td>\n",
       "      <td>635</td>\n",
       "      <td>Spain</td>\n",
       "      <td>Female</td>\n",
       "      <td>35</td>\n",
       "      <td>7.0</td>\n",
       "      <td>0.00</td>\n",
       "      <td>2</td>\n",
       "      <td>1</td>\n",
       "      <td>1</td>\n",
       "      <td>65951.65</td>\n",
       "      <td>0</td>\n",
       "    </tr>\n",
       "    <tr>\n",
       "      <th>15</th>\n",
       "      <td>16</td>\n",
       "      <td>15643966</td>\n",
       "      <td>Goforth</td>\n",
       "      <td>616</td>\n",
       "      <td>Germany</td>\n",
       "      <td>Male</td>\n",
       "      <td>45</td>\n",
       "      <td>3.0</td>\n",
       "      <td>143129.41</td>\n",
       "      <td>2</td>\n",
       "      <td>0</td>\n",
       "      <td>1</td>\n",
       "      <td>64327.26</td>\n",
       "      <td>0</td>\n",
       "    </tr>\n",
       "    <tr>\n",
       "      <th>16</th>\n",
       "      <td>17</td>\n",
       "      <td>15737452</td>\n",
       "      <td>Romeo</td>\n",
       "      <td>653</td>\n",
       "      <td>Germany</td>\n",
       "      <td>Male</td>\n",
       "      <td>58</td>\n",
       "      <td>1.0</td>\n",
       "      <td>132602.88</td>\n",
       "      <td>1</td>\n",
       "      <td>1</td>\n",
       "      <td>0</td>\n",
       "      <td>5097.67</td>\n",
       "      <td>1</td>\n",
       "    </tr>\n",
       "    <tr>\n",
       "      <th>17</th>\n",
       "      <td>18</td>\n",
       "      <td>15788218</td>\n",
       "      <td>Henderson</td>\n",
       "      <td>549</td>\n",
       "      <td>Spain</td>\n",
       "      <td>Female</td>\n",
       "      <td>24</td>\n",
       "      <td>9.0</td>\n",
       "      <td>0.00</td>\n",
       "      <td>2</td>\n",
       "      <td>1</td>\n",
       "      <td>1</td>\n",
       "      <td>14406.41</td>\n",
       "      <td>0</td>\n",
       "    </tr>\n",
       "    <tr>\n",
       "      <th>18</th>\n",
       "      <td>19</td>\n",
       "      <td>15661507</td>\n",
       "      <td>Muldrow</td>\n",
       "      <td>587</td>\n",
       "      <td>Spain</td>\n",
       "      <td>Male</td>\n",
       "      <td>45</td>\n",
       "      <td>6.0</td>\n",
       "      <td>0.00</td>\n",
       "      <td>1</td>\n",
       "      <td>0</td>\n",
       "      <td>0</td>\n",
       "      <td>158684.81</td>\n",
       "      <td>0</td>\n",
       "    </tr>\n",
       "    <tr>\n",
       "      <th>19</th>\n",
       "      <td>20</td>\n",
       "      <td>15568982</td>\n",
       "      <td>Hao</td>\n",
       "      <td>726</td>\n",
       "      <td>France</td>\n",
       "      <td>Female</td>\n",
       "      <td>24</td>\n",
       "      <td>6.0</td>\n",
       "      <td>0.00</td>\n",
       "      <td>2</td>\n",
       "      <td>1</td>\n",
       "      <td>1</td>\n",
       "      <td>54724.03</td>\n",
       "      <td>0</td>\n",
       "    </tr>\n",
       "  </tbody>\n",
       "</table>\n",
       "</div>"
      ],
      "text/plain": [
       "    RowNumber  CustomerId    Surname  CreditScore Geography  Gender  Age  \\\n",
       "0           1    15634602   Hargrave          619    France  Female   42   \n",
       "1           2    15647311       Hill          608     Spain  Female   41   \n",
       "2           3    15619304       Onio          502    France  Female   42   \n",
       "3           4    15701354       Boni          699    France  Female   39   \n",
       "4           5    15737888   Mitchell          850     Spain  Female   43   \n",
       "5           6    15574012        Chu          645     Spain    Male   44   \n",
       "6           7    15592531   Bartlett          822    France    Male   50   \n",
       "7           8    15656148     Obinna          376   Germany  Female   29   \n",
       "8           9    15792365         He          501    France    Male   44   \n",
       "9          10    15592389         H?          684    France    Male   27   \n",
       "10         11    15767821     Bearce          528    France    Male   31   \n",
       "11         12    15737173    Andrews          497     Spain    Male   24   \n",
       "12         13    15632264        Kay          476    France  Female   34   \n",
       "13         14    15691483       Chin          549    France  Female   25   \n",
       "14         15    15600882      Scott          635     Spain  Female   35   \n",
       "15         16    15643966    Goforth          616   Germany    Male   45   \n",
       "16         17    15737452      Romeo          653   Germany    Male   58   \n",
       "17         18    15788218  Henderson          549     Spain  Female   24   \n",
       "18         19    15661507    Muldrow          587     Spain    Male   45   \n",
       "19         20    15568982        Hao          726    France  Female   24   \n",
       "\n",
       "    Tenure    Balance  NumOfProducts  HasCrCard  IsActiveMember  \\\n",
       "0      2.0       0.00              1          1               1   \n",
       "1      1.0   83807.86              1          0               1   \n",
       "2      8.0  159660.80              3          1               0   \n",
       "3      1.0       0.00              2          0               0   \n",
       "4      2.0  125510.82              1          1               1   \n",
       "5      8.0  113755.78              2          1               0   \n",
       "6      7.0       0.00              2          1               1   \n",
       "7      4.0  115046.74              4          1               0   \n",
       "8      4.0  142051.07              2          0               1   \n",
       "9      2.0  134603.88              1          1               1   \n",
       "10     6.0  102016.72              2          0               0   \n",
       "11     3.0       0.00              2          1               0   \n",
       "12    10.0       0.00              2          1               0   \n",
       "13     5.0       0.00              2          0               0   \n",
       "14     7.0       0.00              2          1               1   \n",
       "15     3.0  143129.41              2          0               1   \n",
       "16     1.0  132602.88              1          1               0   \n",
       "17     9.0       0.00              2          1               1   \n",
       "18     6.0       0.00              1          0               0   \n",
       "19     6.0       0.00              2          1               1   \n",
       "\n",
       "    EstimatedSalary  Exited  \n",
       "0         101348.88       1  \n",
       "1         112542.58       0  \n",
       "2         113931.57       1  \n",
       "3          93826.63       0  \n",
       "4          79084.10       0  \n",
       "5         149756.71       1  \n",
       "6          10062.80       0  \n",
       "7         119346.88       1  \n",
       "8          74940.50       0  \n",
       "9          71725.73       0  \n",
       "10         80181.12       0  \n",
       "11         76390.01       0  \n",
       "12         26260.98       0  \n",
       "13        190857.79       0  \n",
       "14         65951.65       0  \n",
       "15         64327.26       0  \n",
       "16          5097.67       1  \n",
       "17         14406.41       0  \n",
       "18        158684.81       0  \n",
       "19         54724.03       0  "
      ]
     },
     "execution_count": 4,
     "metadata": {},
     "output_type": "execute_result"
    }
   ],
   "source": [
    "raw_data.head(20)"
   ]
  },
  {
   "cell_type": "markdown",
   "metadata": {},
   "source": [
    "**Согласно документации в датафрейме содержится следующая информация:**\n",
    "\n",
    "**Признаки**\n",
    "- RowNumber — индекс строки в данных\n",
    "- CustomerId — уникальный идентификатор клиента\n",
    "- Surname — фамилия\n",
    "- CreditScore — кредитный рейтинг\n",
    "- Geography — страна проживания\n",
    "- Gender — пол\n",
    "- Age — возраст\n",
    "- Tenure — сколько лет человек является клиентом банка\n",
    "- Balance — баланс на счёте\n",
    "- NumOfProducts — количество продуктов банка, используемых клиентом\n",
    "- HasCrCard — наличие кредитной карты\n",
    "- IsActiveMember — активность клиента\n",
    "- EstimatedSalary — предполагаемая зарплата\n",
    "\n",
    "**Целевой признак**\n",
    "- Exited — факт ухода клиента"
   ]
  },
  {
   "cell_type": "code",
   "execution_count": 5,
   "metadata": {},
   "outputs": [
    {
     "data": {
      "image/png": "[encoded data removed]",
      "text/plain": [
       "<Figure size 1080x1440 with 12 Axes>"
      ]
     },
     "metadata": {
      "needs_background": "light"
     },
     "output_type": "display_data"
    }
   ],
   "source": [
    "raw_data.hist(figsize=(15, 20));"
   ]
  },
  {
   "cell_type": "markdown",
   "metadata": {},
   "source": [
    "**Вывод**\n",
    "- Всего в датасете 10 тыс. строк и 14 столбцов. Из них 3 колонки с признаками типа object.\n",
    "- Наименования колонок не соответствуют \"змеиному\" стилю.\n",
    "- Названия колонок соответствуют документации.\n",
    "- Пропущенные значения имеются в столбе ``Tenure — сколько лет человек является клиентом банка.``\n",
    "- Столбец ``Tenure`` хранятся с типом float64\n"
   ]
  },
  {
   "cell_type": "markdown",
   "metadata": {},
   "source": [
    "### Предобработка данных"
   ]
  },
  {
   "cell_type": "markdown",
   "metadata": {},
   "source": [
    "Перед началом, создадим копию данных и присвоим название \"data\""
   ]
  },
  {
   "cell_type": "code",
   "execution_count": 6,
   "metadata": {},
   "outputs": [],
   "source": [
    "data=raw_data.copy()"
   ]
  },
  {
   "cell_type": "markdown",
   "metadata": {},
   "source": [
    "Переименуем колонки, приведем к нижнему регистру."
   ]
  },
  {
   "cell_type": "code",
   "execution_count": 7,
   "metadata": {},
   "outputs": [],
   "source": [
    "data = data.rename(columns={'RowNumber':'row_number', 'CustomerId':'customer_id', 'Surname':'surname',\n",
    "                            'CreditScore':'credit_score', 'Geography':'geography','Gender':'gender',\n",
    "                            'Age':'age', 'Tenure':'tenure', 'Balance':'balance', 'NumOfProducts':'num_of_products',\n",
    "                            'HasCrCard':'has_cr_card','IsActiveMember':'is_active_member', \n",
    "                            'EstimatedSalary':'estimated_salary','Exited':'exited'}) "
   ]
  },
  {
   "cell_type": "code",
   "execution_count": 8,
   "metadata": {},
   "outputs": [
    {
     "data": {
      "text/plain": [
       "Index(['row_number', 'customer_id', 'surname', 'credit_score', 'geography',\n",
       "       'gender', 'age', 'tenure', 'balance', 'num_of_products', 'has_cr_card',\n",
       "       'is_active_member', 'estimated_salary', 'exited'],\n",
       "      dtype='object')"
      ]
     },
     "execution_count": 8,
     "metadata": {},
     "output_type": "execute_result"
    }
   ],
   "source": [
    "data.columns"
   ]
  },
  {
   "cell_type": "code",
   "execution_count": 9,
   "metadata": {},
   "outputs": [
    {
     "name": "stdout",
     "output_type": "stream",
     "text": [
      "Количество дубликатов -  0\n"
     ]
    }
   ],
   "source": [
    "print(f'Количество дубликатов -  {data.duplicated().sum()}')"
   ]
  },
  {
   "cell_type": "markdown",
   "metadata": {},
   "source": [
    "Посмотрим на пропуски"
   ]
  },
  {
   "cell_type": "code",
   "execution_count": 10,
   "metadata": {},
   "outputs": [
    {
     "data": {
      "text/html": [
       "<div>\n",
       "<style scoped>\n",
       "    .dataframe tbody tr th:only-of-type {\n",
       "        vertical-align: middle;\n",
       "    }\n",
       "\n",
       "    .dataframe tbody tr th {\n",
       "        vertical-align: top;\n",
       "    }\n",
       "\n",
       "    .dataframe thead th {\n",
       "        text-align: right;\n",
       "    }\n",
       "</style>\n",
       "<table border=\"1\" class=\"dataframe\">\n",
       "  <thead>\n",
       "    <tr style=\"text-align: right;\">\n",
       "      <th></th>\n",
       "      <th>row_number</th>\n",
       "      <th>customer_id</th>\n",
       "      <th>surname</th>\n",
       "      <th>credit_score</th>\n",
       "      <th>geography</th>\n",
       "      <th>gender</th>\n",
       "      <th>age</th>\n",
       "      <th>tenure</th>\n",
       "      <th>balance</th>\n",
       "      <th>num_of_products</th>\n",
       "      <th>has_cr_card</th>\n",
       "      <th>is_active_member</th>\n",
       "      <th>estimated_salary</th>\n",
       "      <th>exited</th>\n",
       "    </tr>\n",
       "  </thead>\n",
       "  <tbody>\n",
       "    <tr>\n",
       "      <th>30</th>\n",
       "      <td>31</td>\n",
       "      <td>15589475</td>\n",
       "      <td>Azikiwe</td>\n",
       "      <td>591</td>\n",
       "      <td>Spain</td>\n",
       "      <td>Female</td>\n",
       "      <td>39</td>\n",
       "      <td>NaN</td>\n",
       "      <td>0.00</td>\n",
       "      <td>3</td>\n",
       "      <td>1</td>\n",
       "      <td>0</td>\n",
       "      <td>140469.38</td>\n",
       "      <td>1</td>\n",
       "    </tr>\n",
       "    <tr>\n",
       "      <th>48</th>\n",
       "      <td>49</td>\n",
       "      <td>15766205</td>\n",
       "      <td>Yin</td>\n",
       "      <td>550</td>\n",
       "      <td>Germany</td>\n",
       "      <td>Male</td>\n",
       "      <td>38</td>\n",
       "      <td>NaN</td>\n",
       "      <td>103391.38</td>\n",
       "      <td>1</td>\n",
       "      <td>0</td>\n",
       "      <td>1</td>\n",
       "      <td>90878.13</td>\n",
       "      <td>0</td>\n",
       "    </tr>\n",
       "    <tr>\n",
       "      <th>51</th>\n",
       "      <td>52</td>\n",
       "      <td>15768193</td>\n",
       "      <td>Trevisani</td>\n",
       "      <td>585</td>\n",
       "      <td>Germany</td>\n",
       "      <td>Male</td>\n",
       "      <td>36</td>\n",
       "      <td>NaN</td>\n",
       "      <td>146050.97</td>\n",
       "      <td>2</td>\n",
       "      <td>0</td>\n",
       "      <td>0</td>\n",
       "      <td>86424.57</td>\n",
       "      <td>0</td>\n",
       "    </tr>\n",
       "    <tr>\n",
       "      <th>53</th>\n",
       "      <td>54</td>\n",
       "      <td>15702298</td>\n",
       "      <td>Parkhill</td>\n",
       "      <td>655</td>\n",
       "      <td>Germany</td>\n",
       "      <td>Male</td>\n",
       "      <td>41</td>\n",
       "      <td>NaN</td>\n",
       "      <td>125561.97</td>\n",
       "      <td>1</td>\n",
       "      <td>0</td>\n",
       "      <td>0</td>\n",
       "      <td>164040.94</td>\n",
       "      <td>1</td>\n",
       "    </tr>\n",
       "    <tr>\n",
       "      <th>60</th>\n",
       "      <td>61</td>\n",
       "      <td>15651280</td>\n",
       "      <td>Hunter</td>\n",
       "      <td>742</td>\n",
       "      <td>Germany</td>\n",
       "      <td>Male</td>\n",
       "      <td>35</td>\n",
       "      <td>NaN</td>\n",
       "      <td>136857.00</td>\n",
       "      <td>1</td>\n",
       "      <td>0</td>\n",
       "      <td>0</td>\n",
       "      <td>84509.57</td>\n",
       "      <td>0</td>\n",
       "    </tr>\n",
       "    <tr>\n",
       "      <th>82</th>\n",
       "      <td>83</td>\n",
       "      <td>15641732</td>\n",
       "      <td>Mills</td>\n",
       "      <td>543</td>\n",
       "      <td>France</td>\n",
       "      <td>Female</td>\n",
       "      <td>36</td>\n",
       "      <td>NaN</td>\n",
       "      <td>0.00</td>\n",
       "      <td>2</td>\n",
       "      <td>0</td>\n",
       "      <td>0</td>\n",
       "      <td>26019.59</td>\n",
       "      <td>0</td>\n",
       "    </tr>\n",
       "    <tr>\n",
       "      <th>85</th>\n",
       "      <td>86</td>\n",
       "      <td>15805254</td>\n",
       "      <td>Ndukaku</td>\n",
       "      <td>652</td>\n",
       "      <td>Spain</td>\n",
       "      <td>Female</td>\n",
       "      <td>75</td>\n",
       "      <td>NaN</td>\n",
       "      <td>0.00</td>\n",
       "      <td>2</td>\n",
       "      <td>1</td>\n",
       "      <td>1</td>\n",
       "      <td>114675.75</td>\n",
       "      <td>0</td>\n",
       "    </tr>\n",
       "    <tr>\n",
       "      <th>94</th>\n",
       "      <td>95</td>\n",
       "      <td>15676966</td>\n",
       "      <td>Capon</td>\n",
       "      <td>730</td>\n",
       "      <td>Spain</td>\n",
       "      <td>Male</td>\n",
       "      <td>42</td>\n",
       "      <td>NaN</td>\n",
       "      <td>0.00</td>\n",
       "      <td>2</td>\n",
       "      <td>0</td>\n",
       "      <td>1</td>\n",
       "      <td>85982.47</td>\n",
       "      <td>0</td>\n",
       "    </tr>\n",
       "    <tr>\n",
       "      <th>99</th>\n",
       "      <td>100</td>\n",
       "      <td>15633059</td>\n",
       "      <td>Fanucci</td>\n",
       "      <td>413</td>\n",
       "      <td>France</td>\n",
       "      <td>Male</td>\n",
       "      <td>34</td>\n",
       "      <td>NaN</td>\n",
       "      <td>0.00</td>\n",
       "      <td>2</td>\n",
       "      <td>0</td>\n",
       "      <td>0</td>\n",
       "      <td>6534.18</td>\n",
       "      <td>0</td>\n",
       "    </tr>\n",
       "    <tr>\n",
       "      <th>111</th>\n",
       "      <td>112</td>\n",
       "      <td>15665790</td>\n",
       "      <td>Rowntree</td>\n",
       "      <td>538</td>\n",
       "      <td>Germany</td>\n",
       "      <td>Male</td>\n",
       "      <td>39</td>\n",
       "      <td>NaN</td>\n",
       "      <td>108055.10</td>\n",
       "      <td>2</td>\n",
       "      <td>1</td>\n",
       "      <td>0</td>\n",
       "      <td>27231.26</td>\n",
       "      <td>0</td>\n",
       "    </tr>\n",
       "  </tbody>\n",
       "</table>\n",
       "</div>"
      ],
      "text/plain": [
       "     row_number  customer_id    surname  credit_score geography  gender  age  \\\n",
       "30           31     15589475    Azikiwe           591     Spain  Female   39   \n",
       "48           49     15766205        Yin           550   Germany    Male   38   \n",
       "51           52     15768193  Trevisani           585   Germany    Male   36   \n",
       "53           54     15702298   Parkhill           655   Germany    Male   41   \n",
       "60           61     15651280     Hunter           742   Germany    Male   35   \n",
       "82           83     15641732      Mills           543    France  Female   36   \n",
       "85           86     15805254    Ndukaku           652     Spain  Female   75   \n",
       "94           95     15676966      Capon           730     Spain    Male   42   \n",
       "99          100     15633059    Fanucci           413    France    Male   34   \n",
       "111         112     15665790   Rowntree           538   Germany    Male   39   \n",
       "\n",
       "     tenure    balance  num_of_products  has_cr_card  is_active_member  \\\n",
       "30      NaN       0.00                3            1                 0   \n",
       "48      NaN  103391.38                1            0                 1   \n",
       "51      NaN  146050.97                2            0                 0   \n",
       "53      NaN  125561.97                1            0                 0   \n",
       "60      NaN  136857.00                1            0                 0   \n",
       "82      NaN       0.00                2            0                 0   \n",
       "85      NaN       0.00                2            1                 1   \n",
       "94      NaN       0.00                2            0                 1   \n",
       "99      NaN       0.00                2            0                 0   \n",
       "111     NaN  108055.10                2            1                 0   \n",
       "\n",
       "     estimated_salary  exited  \n",
       "30          140469.38       1  \n",
       "48           90878.13       0  \n",
       "51           86424.57       0  \n",
       "53          164040.94       1  \n",
       "60           84509.57       0  \n",
       "82           26019.59       0  \n",
       "85          114675.75       0  \n",
       "94           85982.47       0  \n",
       "99            6534.18       0  \n",
       "111          27231.26       0  "
      ]
     },
     "execution_count": 10,
     "metadata": {},
     "output_type": "execute_result"
    }
   ],
   "source": [
    "data[data['tenure'].isna()].head(10)"
   ]
  },
  {
   "cell_type": "code",
   "execution_count": 11,
   "metadata": {},
   "outputs": [
    {
     "data": {
      "text/plain": [
       "1.0     952\n",
       "2.0     950\n",
       "8.0     933\n",
       "3.0     928\n",
       "5.0     927\n",
       "7.0     925\n",
       "NaN     909\n",
       "4.0     885\n",
       "9.0     882\n",
       "6.0     881\n",
       "10.0    446\n",
       "0.0     382\n",
       "Name: tenure, dtype: int64"
      ]
     },
     "execution_count": 11,
     "metadata": {},
     "output_type": "execute_result"
    }
   ],
   "source": [
    "data['tenure'].value_counts(dropna=False)"
   ]
  },
  {
   "cell_type": "code",
   "execution_count": 12,
   "metadata": {},
   "outputs": [
    {
     "name": "stdout",
     "output_type": "stream",
     "text": [
      "Количество пропущеных данных в стобце tenure -  9.09% от объёма данных\n"
     ]
    }
   ],
   "source": [
    "print(f'Количество пропущеных данных в стобце tenure -  {data[\"tenure\"].isna().mean()*100}% от объёма данных')"
   ]
  },
  {
   "cell_type": "markdown",
   "metadata": {},
   "source": [
    " Это количество не  превышает 10% от изначального объёма данных. Можно их удалить"
   ]
  },
  {
   "cell_type": "code",
   "execution_count": 13,
   "metadata": {},
   "outputs": [],
   "source": [
    "data=data.dropna(subset=['tenure'])"
   ]
  },
  {
   "cell_type": "markdown",
   "metadata": {},
   "source": [
    "В столбце ``tenure`` переведем данные в формат int."
   ]
  },
  {
   "cell_type": "code",
   "execution_count": 14,
   "metadata": {},
   "outputs": [
    {
     "data": {
      "text/plain": [
       "Int64Dtype()"
      ]
     },
     "execution_count": 14,
     "metadata": {},
     "output_type": "execute_result"
    }
   ],
   "source": [
    "data['tenure'] = pd.array(data['tenure'], dtype=pd.Int64Dtype())\n",
    "data['tenure'].dtypes"
   ]
  },
  {
   "cell_type": "markdown",
   "metadata": {},
   "source": [
    "**Вывод**\n",
    "- Наименования колонок приведены к \"змеиному\" стилю.\n",
    "- Данные в столбце ``tenure`` приведены к типу, в соответствии с хранящейся в нем информацией.\n",
    "- Пропущенные значения удалены.\n"
   ]
  },
  {
   "cell_type": "markdown",
   "metadata": {},
   "source": [
    "### Обработки категориальных признаков"
   ]
  },
  {
   "cell_type": "code",
   "execution_count": 15,
   "metadata": {},
   "outputs": [],
   "source": [
    "data['gender'] = pd.get_dummies(data['gender'], drop_first=True)\n",
    "data= pd.get_dummies (data, columns=['geography'], drop_first=True)"
   ]
  },
  {
   "cell_type": "code",
   "execution_count": 16,
   "metadata": {},
   "outputs": [
    {
     "data": {
      "text/html": [
       "<div>\n",
       "<style scoped>\n",
       "    .dataframe tbody tr th:only-of-type {\n",
       "        vertical-align: middle;\n",
       "    }\n",
       "\n",
       "    .dataframe tbody tr th {\n",
       "        vertical-align: top;\n",
       "    }\n",
       "\n",
       "    .dataframe thead th {\n",
       "        text-align: right;\n",
       "    }\n",
       "</style>\n",
       "<table border=\"1\" class=\"dataframe\">\n",
       "  <thead>\n",
       "    <tr style=\"text-align: right;\">\n",
       "      <th></th>\n",
       "      <th>row_number</th>\n",
       "      <th>customer_id</th>\n",
       "      <th>surname</th>\n",
       "      <th>credit_score</th>\n",
       "      <th>gender</th>\n",
       "      <th>age</th>\n",
       "      <th>tenure</th>\n",
       "      <th>balance</th>\n",
       "      <th>num_of_products</th>\n",
       "      <th>has_cr_card</th>\n",
       "      <th>is_active_member</th>\n",
       "      <th>estimated_salary</th>\n",
       "      <th>exited</th>\n",
       "      <th>geography_Germany</th>\n",
       "      <th>geography_Spain</th>\n",
       "    </tr>\n",
       "  </thead>\n",
       "  <tbody>\n",
       "    <tr>\n",
       "      <th>0</th>\n",
       "      <td>1</td>\n",
       "      <td>15634602</td>\n",
       "      <td>Hargrave</td>\n",
       "      <td>619</td>\n",
       "      <td>0</td>\n",
       "      <td>42</td>\n",
       "      <td>2</td>\n",
       "      <td>0.00</td>\n",
       "      <td>1</td>\n",
       "      <td>1</td>\n",
       "      <td>1</td>\n",
       "      <td>101348.88</td>\n",
       "      <td>1</td>\n",
       "      <td>0</td>\n",
       "      <td>0</td>\n",
       "    </tr>\n",
       "    <tr>\n",
       "      <th>1</th>\n",
       "      <td>2</td>\n",
       "      <td>15647311</td>\n",
       "      <td>Hill</td>\n",
       "      <td>608</td>\n",
       "      <td>0</td>\n",
       "      <td>41</td>\n",
       "      <td>1</td>\n",
       "      <td>83807.86</td>\n",
       "      <td>1</td>\n",
       "      <td>0</td>\n",
       "      <td>1</td>\n",
       "      <td>112542.58</td>\n",
       "      <td>0</td>\n",
       "      <td>0</td>\n",
       "      <td>1</td>\n",
       "    </tr>\n",
       "    <tr>\n",
       "      <th>2</th>\n",
       "      <td>3</td>\n",
       "      <td>15619304</td>\n",
       "      <td>Onio</td>\n",
       "      <td>502</td>\n",
       "      <td>0</td>\n",
       "      <td>42</td>\n",
       "      <td>8</td>\n",
       "      <td>159660.80</td>\n",
       "      <td>3</td>\n",
       "      <td>1</td>\n",
       "      <td>0</td>\n",
       "      <td>113931.57</td>\n",
       "      <td>1</td>\n",
       "      <td>0</td>\n",
       "      <td>0</td>\n",
       "    </tr>\n",
       "    <tr>\n",
       "      <th>3</th>\n",
       "      <td>4</td>\n",
       "      <td>15701354</td>\n",
       "      <td>Boni</td>\n",
       "      <td>699</td>\n",
       "      <td>0</td>\n",
       "      <td>39</td>\n",
       "      <td>1</td>\n",
       "      <td>0.00</td>\n",
       "      <td>2</td>\n",
       "      <td>0</td>\n",
       "      <td>0</td>\n",
       "      <td>93826.63</td>\n",
       "      <td>0</td>\n",
       "      <td>0</td>\n",
       "      <td>0</td>\n",
       "    </tr>\n",
       "    <tr>\n",
       "      <th>4</th>\n",
       "      <td>5</td>\n",
       "      <td>15737888</td>\n",
       "      <td>Mitchell</td>\n",
       "      <td>850</td>\n",
       "      <td>0</td>\n",
       "      <td>43</td>\n",
       "      <td>2</td>\n",
       "      <td>125510.82</td>\n",
       "      <td>1</td>\n",
       "      <td>1</td>\n",
       "      <td>1</td>\n",
       "      <td>79084.10</td>\n",
       "      <td>0</td>\n",
       "      <td>0</td>\n",
       "      <td>1</td>\n",
       "    </tr>\n",
       "    <tr>\n",
       "      <th>...</th>\n",
       "      <td>...</td>\n",
       "      <td>...</td>\n",
       "      <td>...</td>\n",
       "      <td>...</td>\n",
       "      <td>...</td>\n",
       "      <td>...</td>\n",
       "      <td>...</td>\n",
       "      <td>...</td>\n",
       "      <td>...</td>\n",
       "      <td>...</td>\n",
       "      <td>...</td>\n",
       "      <td>...</td>\n",
       "      <td>...</td>\n",
       "      <td>...</td>\n",
       "      <td>...</td>\n",
       "    </tr>\n",
       "    <tr>\n",
       "      <th>9994</th>\n",
       "      <td>9995</td>\n",
       "      <td>15719294</td>\n",
       "      <td>Wood</td>\n",
       "      <td>800</td>\n",
       "      <td>0</td>\n",
       "      <td>29</td>\n",
       "      <td>2</td>\n",
       "      <td>0.00</td>\n",
       "      <td>2</td>\n",
       "      <td>0</td>\n",
       "      <td>0</td>\n",
       "      <td>167773.55</td>\n",
       "      <td>0</td>\n",
       "      <td>0</td>\n",
       "      <td>0</td>\n",
       "    </tr>\n",
       "    <tr>\n",
       "      <th>9995</th>\n",
       "      <td>9996</td>\n",
       "      <td>15606229</td>\n",
       "      <td>Obijiaku</td>\n",
       "      <td>771</td>\n",
       "      <td>1</td>\n",
       "      <td>39</td>\n",
       "      <td>5</td>\n",
       "      <td>0.00</td>\n",
       "      <td>2</td>\n",
       "      <td>1</td>\n",
       "      <td>0</td>\n",
       "      <td>96270.64</td>\n",
       "      <td>0</td>\n",
       "      <td>0</td>\n",
       "      <td>0</td>\n",
       "    </tr>\n",
       "    <tr>\n",
       "      <th>9996</th>\n",
       "      <td>9997</td>\n",
       "      <td>15569892</td>\n",
       "      <td>Johnstone</td>\n",
       "      <td>516</td>\n",
       "      <td>1</td>\n",
       "      <td>35</td>\n",
       "      <td>10</td>\n",
       "      <td>57369.61</td>\n",
       "      <td>1</td>\n",
       "      <td>1</td>\n",
       "      <td>1</td>\n",
       "      <td>101699.77</td>\n",
       "      <td>0</td>\n",
       "      <td>0</td>\n",
       "      <td>0</td>\n",
       "    </tr>\n",
       "    <tr>\n",
       "      <th>9997</th>\n",
       "      <td>9998</td>\n",
       "      <td>15584532</td>\n",
       "      <td>Liu</td>\n",
       "      <td>709</td>\n",
       "      <td>0</td>\n",
       "      <td>36</td>\n",
       "      <td>7</td>\n",
       "      <td>0.00</td>\n",
       "      <td>1</td>\n",
       "      <td>0</td>\n",
       "      <td>1</td>\n",
       "      <td>42085.58</td>\n",
       "      <td>1</td>\n",
       "      <td>0</td>\n",
       "      <td>0</td>\n",
       "    </tr>\n",
       "    <tr>\n",
       "      <th>9998</th>\n",
       "      <td>9999</td>\n",
       "      <td>15682355</td>\n",
       "      <td>Sabbatini</td>\n",
       "      <td>772</td>\n",
       "      <td>1</td>\n",
       "      <td>42</td>\n",
       "      <td>3</td>\n",
       "      <td>75075.31</td>\n",
       "      <td>2</td>\n",
       "      <td>1</td>\n",
       "      <td>0</td>\n",
       "      <td>92888.52</td>\n",
       "      <td>1</td>\n",
       "      <td>1</td>\n",
       "      <td>0</td>\n",
       "    </tr>\n",
       "  </tbody>\n",
       "</table>\n",
       "<p>9091 rows × 15 columns</p>\n",
       "</div>"
      ],
      "text/plain": [
       "      row_number  customer_id    surname  credit_score  gender  age  tenure  \\\n",
       "0              1     15634602   Hargrave           619       0   42       2   \n",
       "1              2     15647311       Hill           608       0   41       1   \n",
       "2              3     15619304       Onio           502       0   42       8   \n",
       "3              4     15701354       Boni           699       0   39       1   \n",
       "4              5     15737888   Mitchell           850       0   43       2   \n",
       "...          ...          ...        ...           ...     ...  ...     ...   \n",
       "9994        9995     15719294       Wood           800       0   29       2   \n",
       "9995        9996     15606229   Obijiaku           771       1   39       5   \n",
       "9996        9997     15569892  Johnstone           516       1   35      10   \n",
       "9997        9998     15584532        Liu           709       0   36       7   \n",
       "9998        9999     15682355  Sabbatini           772       1   42       3   \n",
       "\n",
       "        balance  num_of_products  has_cr_card  is_active_member  \\\n",
       "0          0.00                1            1                 1   \n",
       "1      83807.86                1            0                 1   \n",
       "2     159660.80                3            1                 0   \n",
       "3          0.00                2            0                 0   \n",
       "4     125510.82                1            1                 1   \n",
       "...         ...              ...          ...               ...   \n",
       "9994       0.00                2            0                 0   \n",
       "9995       0.00                2            1                 0   \n",
       "9996   57369.61                1            1                 1   \n",
       "9997       0.00                1            0                 1   \n",
       "9998   75075.31                2            1                 0   \n",
       "\n",
       "      estimated_salary  exited  geography_Germany  geography_Spain  \n",
       "0            101348.88       1                  0                0  \n",
       "1            112542.58       0                  0                1  \n",
       "2            113931.57       1                  0                0  \n",
       "3             93826.63       0                  0                0  \n",
       "4             79084.10       0                  0                1  \n",
       "...                ...     ...                ...              ...  \n",
       "9994         167773.55       0                  0                0  \n",
       "9995          96270.64       0                  0                0  \n",
       "9996         101699.77       0                  0                0  \n",
       "9997          42085.58       1                  0                0  \n",
       "9998          92888.52       1                  1                0  \n",
       "\n",
       "[9091 rows x 15 columns]"
      ]
     },
     "execution_count": 16,
     "metadata": {},
     "output_type": "execute_result"
    }
   ],
   "source": [
    "data"
   ]
  },
  {
   "cell_type": "markdown",
   "metadata": {},
   "source": [
    "**Вывод**\n",
    "- Столбцы ``tenure``, ``gender`` обработаны методом OHE (приведены к числу).\n",
    "- Значения в столбце ``gender``: Female (Женский) - 0, Male (Мужской) - 1"
   ]
  },
  {
   "cell_type": "markdown",
   "metadata": {},
   "source": [
    "### Разобьем данные на выборки"
   ]
  },
  {
   "cell_type": "code",
   "execution_count": 17,
   "metadata": {},
   "outputs": [
    {
     "data": {
      "image/png": "[encoded data removed]",
      "text/plain": [
       "<Figure size 1080x432 with 2 Axes>"
      ]
     },
     "metadata": {
      "needs_background": "light"
     },
     "output_type": "display_data"
    }
   ],
   "source": [
    "plt.figure(figsize=(15, 6))\n",
    "plt.title('Матрица корреляций')\n",
    "sns.heatmap(data.corr(), annot = True)\n",
    "plt.show()"
   ]
  },
  {
   "cell_type": "markdown",
   "metadata": {},
   "source": [
    "- Параметр ``exited`` слабо коррелирует с остальными параметрами.\n",
    "- Больше всего коррелирует параметр   ``exited``с ``age``, но всего на 0,28. Возраста сильнее всего влияет на уход клиента из банка."
   ]
  },
  {
   "cell_type": "code",
   "execution_count": 18,
   "metadata": {},
   "outputs": [
    {
     "data": {
      "image/png": "[encoded data removed]",
      "text/plain": [
       "<Figure size 576x432 with 1 Axes>"
      ]
     },
     "metadata": {
      "needs_background": "light"
     },
     "output_type": "display_data"
    }
   ],
   "source": [
    "plt.figure()\n",
    "data['exited'].hist(figsize=(8,6))\n",
    "plt.title('Отношение ушедших клиентов к оставшимся', fontsize='x-large')\n",
    "plt.xlabel('Факт ухода клиента', fontsize='x-large')\n",
    "plt.ylabel('Количество клиентов', fontsize='x-large')\n",
    "plt.show()"
   ]
  },
  {
   "cell_type": "code",
   "execution_count": 19,
   "metadata": {},
   "outputs": [
    {
     "name": "stdout",
     "output_type": "stream",
     "text": [
      "Доля ушедших клиентов : 20% от общего числа клиентов банка\n"
     ]
    }
   ],
   "source": [
    "print('Доля ушедших клиентов : {:.0f}% от общего числа клиентов банка'.format(sum(data['exited'])/len(data['exited'])*100) )"
   ]
  },
  {
   "cell_type": "markdown",
   "metadata": {},
   "source": [
    "Для выборки с признаками отбросим столбцы, которые никак не связаны с расчетом модели машинного обучения:\n",
    "\n",
    "- ``row_number`` — индекс строки в данных\n",
    "- ``customer_id`` — уникальный идентификатор клиента\n",
    "- ``surname`` — фамилия"
   ]
  },
  {
   "cell_type": "code",
   "execution_count": 20,
   "metadata": {},
   "outputs": [],
   "source": [
    "target = data['exited']\n",
    "features = data.drop(['exited','row_number', 'customer_id', 'surname'], axis=1)"
   ]
  },
  {
   "cell_type": "code",
   "execution_count": 21,
   "metadata": {},
   "outputs": [],
   "source": [
    "features_train, features_valid, target_train, target_valid, = train_test_split(\n",
    "    features, target, test_size=0.40, random_state=12345)# отделим 60% данных для обучающей выборки\n",
    "features_valid, features_test, target_valid,target_test = train_test_split(\n",
    "    features_valid, target_valid, test_size=0.50, random_state=12345)# разделим поровну (по 20% от данных) для валидационной и тестовой выборки"
   ]
  },
  {
   "cell_type": "markdown",
   "metadata": {},
   "source": [
    "**Вывод** - Исходный датасет разделен на обучающую, валидационную и тестовую выборки:"
   ]
  },
  {
   "cell_type": "code",
   "execution_count": 22,
   "metadata": {},
   "outputs": [
    {
     "name": "stdout",
     "output_type": "stream",
     "text": [
      "размер обучающей выборки: (5454, 11)\n",
      "размер валидационной выборки: (1818, 11)\n",
      "размер тестовой выборки: (1819, 11)\n"
     ]
    }
   ],
   "source": [
    "print('размер обучающей выборки:',features_train.shape)\n",
    "print('размер валидационной выборки:',features_valid.shape)\n",
    "print('размер тестовой выборки:',features_test.shape)"
   ]
  },
  {
   "cell_type": "markdown",
   "metadata": {},
   "source": [
    "### Стандартизация данных"
   ]
  },
  {
   "cell_type": "code",
   "execution_count": 23,
   "metadata": {},
   "outputs": [
    {
     "data": {
      "text/html": [
       "<div>\n",
       "<style scoped>\n",
       "    .dataframe tbody tr th:only-of-type {\n",
       "        vertical-align: middle;\n",
       "    }\n",
       "\n",
       "    .dataframe tbody tr th {\n",
       "        vertical-align: top;\n",
       "    }\n",
       "\n",
       "    .dataframe thead th {\n",
       "        text-align: right;\n",
       "    }\n",
       "</style>\n",
       "<table border=\"1\" class=\"dataframe\">\n",
       "  <thead>\n",
       "    <tr style=\"text-align: right;\">\n",
       "      <th></th>\n",
       "      <th>count</th>\n",
       "      <th>mean</th>\n",
       "      <th>std</th>\n",
       "      <th>min</th>\n",
       "      <th>25%</th>\n",
       "      <th>50%</th>\n",
       "      <th>75%</th>\n",
       "      <th>max</th>\n",
       "    </tr>\n",
       "  </thead>\n",
       "  <tbody>\n",
       "    <tr>\n",
       "      <th>credit_score</th>\n",
       "      <td>5454</td>\n",
       "      <td>648</td>\n",
       "      <td>96</td>\n",
       "      <td>350</td>\n",
       "      <td>582</td>\n",
       "      <td>650</td>\n",
       "      <td>716</td>\n",
       "      <td>850</td>\n",
       "    </tr>\n",
       "    <tr>\n",
       "      <th>gender</th>\n",
       "      <td>5454</td>\n",
       "      <td>0</td>\n",
       "      <td>0</td>\n",
       "      <td>0</td>\n",
       "      <td>0</td>\n",
       "      <td>1</td>\n",
       "      <td>1</td>\n",
       "      <td>1</td>\n",
       "    </tr>\n",
       "    <tr>\n",
       "      <th>age</th>\n",
       "      <td>5454</td>\n",
       "      <td>39</td>\n",
       "      <td>10</td>\n",
       "      <td>18</td>\n",
       "      <td>32</td>\n",
       "      <td>37</td>\n",
       "      <td>44</td>\n",
       "      <td>92</td>\n",
       "    </tr>\n",
       "    <tr>\n",
       "      <th>tenure</th>\n",
       "      <td>5454</td>\n",
       "      <td>4</td>\n",
       "      <td>2</td>\n",
       "      <td>0</td>\n",
       "      <td>2</td>\n",
       "      <td>5</td>\n",
       "      <td>7</td>\n",
       "      <td>10</td>\n",
       "    </tr>\n",
       "    <tr>\n",
       "      <th>balance</th>\n",
       "      <td>5454</td>\n",
       "      <td>76640</td>\n",
       "      <td>61921</td>\n",
       "      <td>0</td>\n",
       "      <td>0</td>\n",
       "      <td>97380</td>\n",
       "      <td>127260</td>\n",
       "      <td>238387</td>\n",
       "    </tr>\n",
       "    <tr>\n",
       "      <th>num_of_products</th>\n",
       "      <td>5454</td>\n",
       "      <td>1</td>\n",
       "      <td>0</td>\n",
       "      <td>1</td>\n",
       "      <td>1</td>\n",
       "      <td>1</td>\n",
       "      <td>2</td>\n",
       "      <td>4</td>\n",
       "    </tr>\n",
       "    <tr>\n",
       "      <th>has_cr_card</th>\n",
       "      <td>5454</td>\n",
       "      <td>0</td>\n",
       "      <td>0</td>\n",
       "      <td>0</td>\n",
       "      <td>0</td>\n",
       "      <td>1</td>\n",
       "      <td>1</td>\n",
       "      <td>1</td>\n",
       "    </tr>\n",
       "    <tr>\n",
       "      <th>is_active_member</th>\n",
       "      <td>5454</td>\n",
       "      <td>0</td>\n",
       "      <td>0</td>\n",
       "      <td>0</td>\n",
       "      <td>0</td>\n",
       "      <td>1</td>\n",
       "      <td>1</td>\n",
       "      <td>1</td>\n",
       "    </tr>\n",
       "    <tr>\n",
       "      <th>estimated_salary</th>\n",
       "      <td>5454</td>\n",
       "      <td>100300</td>\n",
       "      <td>58093</td>\n",
       "      <td>11</td>\n",
       "      <td>50812</td>\n",
       "      <td>99953</td>\n",
       "      <td>150633</td>\n",
       "      <td>199953</td>\n",
       "    </tr>\n",
       "    <tr>\n",
       "      <th>geography_Germany</th>\n",
       "      <td>5454</td>\n",
       "      <td>0</td>\n",
       "      <td>0</td>\n",
       "      <td>0</td>\n",
       "      <td>0</td>\n",
       "      <td>0</td>\n",
       "      <td>1</td>\n",
       "      <td>1</td>\n",
       "    </tr>\n",
       "    <tr>\n",
       "      <th>geography_Spain</th>\n",
       "      <td>5454</td>\n",
       "      <td>0</td>\n",
       "      <td>0</td>\n",
       "      <td>0</td>\n",
       "      <td>0</td>\n",
       "      <td>0</td>\n",
       "      <td>0</td>\n",
       "      <td>1</td>\n",
       "    </tr>\n",
       "  </tbody>\n",
       "</table>\n",
       "</div>"
      ],
      "text/plain": [
       "                   count    mean    std  min    25%    50%     75%     max\n",
       "credit_score        5454     648     96  350    582    650     716     850\n",
       "gender              5454       0      0    0      0      1       1       1\n",
       "age                 5454      39     10   18     32     37      44      92\n",
       "tenure              5454       4      2    0      2      5       7      10\n",
       "balance             5454   76640  61921    0      0  97380  127260  238387\n",
       "num_of_products     5454       1      0    1      1      1       2       4\n",
       "has_cr_card         5454       0      0    0      0      1       1       1\n",
       "is_active_member    5454       0      0    0      0      1       1       1\n",
       "estimated_salary    5454  100300  58093   11  50812  99953  150633  199953\n",
       "geography_Germany   5454       0      0    0      0      0       1       1\n",
       "geography_Spain     5454       0      0    0      0      0       0       1"
      ]
     },
     "execution_count": 23,
     "metadata": {},
     "output_type": "execute_result"
    }
   ],
   "source": [
    "features_train.describe().astype('int').T "
   ]
  },
  {
   "cell_type": "markdown",
   "metadata": {},
   "source": [
    "Исходные признаки имеют разный масштаб.Стандартизируем признаки - ``credit_score``, ``age``, ``tenure``, ``balance``, ``estimated_salary``."
   ]
  },
  {
   "cell_type": "code",
   "execution_count": 24,
   "metadata": {},
   "outputs": [],
   "source": [
    "numeric = ['credit_score', 'age', 'tenure', 'balance', 'estimated_salary']\n",
    "\n",
    "scaler = StandardScaler()\n",
    "scaler.fit(features_train[numeric]) \n",
    "\n",
    "features_train[numeric] = scaler.transform(features_train[numeric])\n",
    "features_valid[numeric] = scaler.transform(features_valid[numeric])\n",
    "features_test[numeric] = scaler.transform(features_test[numeric])\n"
   ]
  },
  {
   "cell_type": "markdown",
   "metadata": {},
   "source": [
    "посмотрим уже после стандартизации"
   ]
  },
  {
   "cell_type": "code",
   "execution_count": 25,
   "metadata": {},
   "outputs": [
    {
     "data": {
      "text/html": [
       "<div>\n",
       "<style scoped>\n",
       "    .dataframe tbody tr th:only-of-type {\n",
       "        vertical-align: middle;\n",
       "    }\n",
       "\n",
       "    .dataframe tbody tr th {\n",
       "        vertical-align: top;\n",
       "    }\n",
       "\n",
       "    .dataframe thead th {\n",
       "        text-align: right;\n",
       "    }\n",
       "</style>\n",
       "<table border=\"1\" class=\"dataframe\">\n",
       "  <thead>\n",
       "    <tr style=\"text-align: right;\">\n",
       "      <th></th>\n",
       "      <th>count</th>\n",
       "      <th>mean</th>\n",
       "      <th>std</th>\n",
       "      <th>min</th>\n",
       "      <th>25%</th>\n",
       "      <th>50%</th>\n",
       "      <th>75%</th>\n",
       "      <th>max</th>\n",
       "    </tr>\n",
       "  </thead>\n",
       "  <tbody>\n",
       "    <tr>\n",
       "      <th>credit_score</th>\n",
       "      <td>5454</td>\n",
       "      <td>0</td>\n",
       "      <td>1</td>\n",
       "      <td>-3</td>\n",
       "      <td>0</td>\n",
       "      <td>0</td>\n",
       "      <td>0</td>\n",
       "      <td>2</td>\n",
       "    </tr>\n",
       "    <tr>\n",
       "      <th>gender</th>\n",
       "      <td>5454</td>\n",
       "      <td>0</td>\n",
       "      <td>0</td>\n",
       "      <td>0</td>\n",
       "      <td>0</td>\n",
       "      <td>1</td>\n",
       "      <td>1</td>\n",
       "      <td>1</td>\n",
       "    </tr>\n",
       "    <tr>\n",
       "      <th>age</th>\n",
       "      <td>5454</td>\n",
       "      <td>0</td>\n",
       "      <td>1</td>\n",
       "      <td>-1</td>\n",
       "      <td>0</td>\n",
       "      <td>0</td>\n",
       "      <td>0</td>\n",
       "      <td>4</td>\n",
       "    </tr>\n",
       "    <tr>\n",
       "      <th>tenure</th>\n",
       "      <td>5454</td>\n",
       "      <td>0</td>\n",
       "      <td>1</td>\n",
       "      <td>-1</td>\n",
       "      <td>-1</td>\n",
       "      <td>0</td>\n",
       "      <td>0</td>\n",
       "      <td>1</td>\n",
       "    </tr>\n",
       "    <tr>\n",
       "      <th>balance</th>\n",
       "      <td>5454</td>\n",
       "      <td>0</td>\n",
       "      <td>1</td>\n",
       "      <td>-1</td>\n",
       "      <td>-1</td>\n",
       "      <td>0</td>\n",
       "      <td>0</td>\n",
       "      <td>2</td>\n",
       "    </tr>\n",
       "    <tr>\n",
       "      <th>num_of_products</th>\n",
       "      <td>5454</td>\n",
       "      <td>1</td>\n",
       "      <td>0</td>\n",
       "      <td>1</td>\n",
       "      <td>1</td>\n",
       "      <td>1</td>\n",
       "      <td>2</td>\n",
       "      <td>4</td>\n",
       "    </tr>\n",
       "    <tr>\n",
       "      <th>has_cr_card</th>\n",
       "      <td>5454</td>\n",
       "      <td>0</td>\n",
       "      <td>0</td>\n",
       "      <td>0</td>\n",
       "      <td>0</td>\n",
       "      <td>1</td>\n",
       "      <td>1</td>\n",
       "      <td>1</td>\n",
       "    </tr>\n",
       "    <tr>\n",
       "      <th>is_active_member</th>\n",
       "      <td>5454</td>\n",
       "      <td>0</td>\n",
       "      <td>0</td>\n",
       "      <td>0</td>\n",
       "      <td>0</td>\n",
       "      <td>1</td>\n",
       "      <td>1</td>\n",
       "      <td>1</td>\n",
       "    </tr>\n",
       "    <tr>\n",
       "      <th>estimated_salary</th>\n",
       "      <td>5454</td>\n",
       "      <td>0</td>\n",
       "      <td>1</td>\n",
       "      <td>-1</td>\n",
       "      <td>0</td>\n",
       "      <td>0</td>\n",
       "      <td>0</td>\n",
       "      <td>1</td>\n",
       "    </tr>\n",
       "    <tr>\n",
       "      <th>geography_Germany</th>\n",
       "      <td>5454</td>\n",
       "      <td>0</td>\n",
       "      <td>0</td>\n",
       "      <td>0</td>\n",
       "      <td>0</td>\n",
       "      <td>0</td>\n",
       "      <td>1</td>\n",
       "      <td>1</td>\n",
       "    </tr>\n",
       "    <tr>\n",
       "      <th>geography_Spain</th>\n",
       "      <td>5454</td>\n",
       "      <td>0</td>\n",
       "      <td>0</td>\n",
       "      <td>0</td>\n",
       "      <td>0</td>\n",
       "      <td>0</td>\n",
       "      <td>0</td>\n",
       "      <td>1</td>\n",
       "    </tr>\n",
       "  </tbody>\n",
       "</table>\n",
       "</div>"
      ],
      "text/plain": [
       "                   count  mean  std  min  25%  50%  75%  max\n",
       "credit_score        5454     0    1   -3    0    0    0    2\n",
       "gender              5454     0    0    0    0    1    1    1\n",
       "age                 5454     0    1   -1    0    0    0    4\n",
       "tenure              5454     0    1   -1   -1    0    0    1\n",
       "balance             5454     0    1   -1   -1    0    0    2\n",
       "num_of_products     5454     1    0    1    1    1    2    4\n",
       "has_cr_card         5454     0    0    0    0    1    1    1\n",
       "is_active_member    5454     0    0    0    0    1    1    1\n",
       "estimated_salary    5454     0    1   -1    0    0    0    1\n",
       "geography_Germany   5454     0    0    0    0    0    1    1\n",
       "geography_Spain     5454     0    0    0    0    0    0    1"
      ]
     },
     "execution_count": 25,
     "metadata": {},
     "output_type": "execute_result"
    }
   ],
   "source": [
    "features_train.describe().astype('int').T "
   ]
  },
  {
   "cell_type": "code",
   "execution_count": 26,
   "metadata": {},
   "outputs": [
    {
     "data": {
      "image/png": "[encoded data removed]",
      "text/plain": [
       "<Figure size 1440x216 with 1 Axes>"
      ]
     },
     "metadata": {
      "needs_background": "light"
     },
     "output_type": "display_data"
    }
   ],
   "source": [
    "fig, (ax1) = plt.subplots(ncols = 1, figsize = (20, 3))\n",
    "ax1.set_title('Распределение после стандартизации')\n",
    "\n",
    "sns.kdeplot(features_train['credit_score'], ax = ax1)\n",
    "sns.kdeplot(features_train[ 'age'], ax = ax1)\n",
    "sns.kdeplot(features_train['tenure'], ax = ax1)\n",
    "sns.kdeplot(features_train['balance'], ax = ax1)\n",
    "sns.kdeplot(features_train['estimated_salary'], ax = ax1)\n",
    "\n",
    "plt.show()"
   ]
  },
  {
   "cell_type": "markdown",
   "metadata": {},
   "source": [
    "**Вывод** - Проведена стандартизация признаков"
   ]
  },
  {
   "cell_type": "markdown",
   "metadata": {},
   "source": [
    "**ВЫВОД**\n",
    "- Данные предобратоны, удалены пропущенные значения\n",
    "- Категориальные признаки ``tenure``, ``gender`` обработаны методом OHE (приведены к числу).\n",
    "- Проведена стандартизации данных \n",
    "- Исходный данные разделены на обучающую, валидационную и тестовую выборки.\n",
    "- Классы не сбалансированы. Соотношение классов целевого признака 1 к 4.\n",
    "\n",
    "\n",
    "Приступим к исследованию моделей машинного обучения:"
   ]
  },
  {
   "cell_type": "markdown",
   "metadata": {},
   "source": [
    "## Исследование задачи"
   ]
  },
  {
   "cell_type": "markdown",
   "metadata": {},
   "source": [
    "создадим функцию для метрик"
   ]
  },
  {
   "cell_type": "code",
   "execution_count": 27,
   "metadata": {},
   "outputs": [],
   "source": [
    "def metric(target_valid, predicted):\n",
    "    print('Accuracy для решающего дерева: {:.4f}'.format(accuracy_score(target_valid, predicted)))\n",
    "    print('Recall(Полнота): {:.4f}'.format(recall_score(target_valid, predicted)))\n",
    "    print('Precision(Точность): {:.4f}'.format(precision_score(target_valid, predicted)))\n",
    "    print('F1-мера: {:.4f}'.format(f1_score (target_valid,predicted)))"
   ]
  },
  {
   "cell_type": "markdown",
   "metadata": {},
   "source": [
    "- Хорошо, когда значение recall близко к единице: модель хорошо ищет положительные объекты. Когда значение близко к 0 — модель надо перепроверить и починить. \n",
    "- Чем больше отрицательных, тем ниже точность. Нам нужна точность, близкая к единице.\n",
    "- F1-мера (англ. F1-score). Это среднее гармоническое полноты и точности. F1 означает отношение полноты и точности . "
   ]
  },
  {
   "cell_type": "markdown",
   "metadata": {},
   "source": [
    "создадим функцию для матрицы ошибок"
   ]
  },
  {
   "cell_type": "code",
   "execution_count": 28,
   "metadata": {},
   "outputs": [],
   "source": [
    "def Matrix(target_valid, predicted):  \n",
    "    disp = ConfusionMatrixDisplay(confusion_matrix(target_valid, predicted))\n",
    "    disp.plot()   \n",
    "    plt.xlabel('Предсказания')\n",
    "    plt.ylabel('Ответы')\n",
    "    plt.title('Матрица ошибок')\n",
    "    plt.show()"
   ]
  },
  {
   "cell_type": "markdown",
   "metadata": {},
   "source": [
    "создадим функцию которая выводит значение AUC-ROC и ROC-кривую"
   ]
  },
  {
   "cell_type": "code",
   "execution_count": 29,
   "metadata": {},
   "outputs": [],
   "source": [
    "def figure_roc_auc(model, features_valid, target_valid):\n",
    "    probabilities_valid = model.predict_proba(features_valid)\n",
    "    probabilities_one_valid = probabilities_valid[:, 1]\n",
    "    print('Площадь под кривой ROC: {:.4f}'.format(roc_auc_score(target_valid, probabilities_one_valid)))\n",
    "    \n",
    "    fpr, tpr, thresholds = roc_curve(target_valid, probabilities_one_valid) \n",
    "    plt.figure(figsize=(6,6))\n",
    "    plt.plot(fpr, tpr)\n",
    "    plt.plot([0, 1], [0, 1], linestyle='--')\n",
    "    plt.xlim([0.0, 1.0])\n",
    "    plt.ylim([0.0, 1.0])\n",
    "    plt.xlabel('False Positive Rate')\n",
    "    plt.ylabel('True Positive Rate')\n",
    "    plt.title('ROC-кривая')\n",
    "    plt.show()"
   ]
  },
  {
   "cell_type": "markdown",
   "metadata": {},
   "source": [
    "### DecisionTreeClassifier модель для классификации деревом решений"
   ]
  },
  {
   "cell_type": "code",
   "execution_count": 30,
   "metadata": {},
   "outputs": [],
   "source": [
    "depth_tree = 0\n",
    "f1_tree = 0\n",
    "sample_tree = 0\n",
    "leaf_tree = 0 \n",
    "\n",
    "for depth in range(2, 20):\n",
    "    for sample in range(2, 100, 10):       \n",
    "        for leaf in range(1, 10):\n",
    "            model = DecisionTreeClassifier(random_state=12345,\n",
    "                                           max_depth=depth,\n",
    "                                           min_samples_split = sample,\n",
    "                                           min_samples_leaf=leaf)\n",
    "            model.fit(features_train, target_train)\n",
    "            predictions_tree = model.predict(features_valid)\n",
    "            f1 = f1_score(target_valid, predictions_tree)\n",
    "            if f1 > f1_tree:\n",
    "                depth_tree = depth\n",
    "                f1_tree = f1\n",
    "                sample_tree = sample\n",
    "                leaf_tree = leaf"
   ]
  },
  {
   "cell_type": "code",
   "execution_count": 31,
   "metadata": {},
   "outputs": [
    {
     "name": "stdout",
     "output_type": "stream",
     "text": [
      "Лучший результат у модели при параметрах: \"max_depth\" 7,\"min_samples_split\"= 82, \"min_samples_leaf\"=5\n"
     ]
    }
   ],
   "source": [
    "print(f'Лучший результат у модели при параметрах: \"max_depth\" {depth_tree},\"min_samples_split\"= {sample_tree}, \"min_samples_leaf\"={leaf_tree}' )"
   ]
  },
  {
   "cell_type": "code",
   "execution_count": 32,
   "metadata": {},
   "outputs": [],
   "source": [
    "model_tree = DecisionTreeClassifier(random_state=12345,\n",
    "                                           max_depth=depth_tree,\n",
    "                                           min_samples_split = sample_tree,\n",
    "                                           min_samples_leaf=leaf_tree)\n",
    "model_tree.fit(features_train, target_train)\n",
    "predicted_tree = model.predict(features_valid)\n"
   ]
  },
  {
   "cell_type": "code",
   "execution_count": 33,
   "metadata": {},
   "outputs": [
    {
     "name": "stdout",
     "output_type": "stream",
     "text": [
      "Accuracy для решающего дерева: 0.8575\n",
      "Recall(Полнота): 0.4775\n",
      "Precision(Точность): 0.7438\n",
      "F1-мера: 0.5816\n"
     ]
    }
   ],
   "source": [
    "metric( target_valid, predicted_tree)"
   ]
  },
  {
   "cell_type": "code",
   "execution_count": 34,
   "metadata": {},
   "outputs": [
    {
     "data": {
      "image/png": "[encoded data removed]",
      "text/plain": [
       "<Figure size 432x288 with 2 Axes>"
      ]
     },
     "metadata": {
      "needs_background": "light"
     },
     "output_type": "display_data"
    }
   ],
   "source": [
    "Matrix(target_valid, predicted_tree)"
   ]
  },
  {
   "cell_type": "code",
   "execution_count": 35,
   "metadata": {},
   "outputs": [
    {
     "name": "stdout",
     "output_type": "stream",
     "text": [
      "Площадь под кривой ROC: 0.8532\n"
     ]
    },
    {
     "data": {
      "image/png": "[encoded data removed]",
      "text/plain": [
       "<Figure size 432x432 with 1 Axes>"
      ]
     },
     "metadata": {
      "needs_background": "light"
     },
     "output_type": "display_data"
    }
   ],
   "source": [
    "figure_roc_auc(model_tree, features_valid, target_valid)"
   ]
  },
  {
   "cell_type": "markdown",
   "metadata": {},
   "source": [
    "**Вывод**\n",
    "- Гиперпараметры лучшей модели дерева решений - 'max_depth'= 7, 'min_samples_leaf'= 5, 'min_samples_split'= 82\n",
    "- AUC-ROC -0.8532\n",
    "- Количество правильно предсказанных фактов ухода клиента 1559\n",
    "- Количество не правильно предсказанных фактов ухода клиента 259\n",
    "- Accuracy для решающего дерева: 0.8575\n",
    "- Recall(Полнота): 0.4775\n",
    "- Precision(Точность): 0.7438\n",
    "- F1-мера лучшей модели дерева решений - 0.5816"
   ]
  },
  {
   "cell_type": "markdown",
   "metadata": {},
   "source": [
    "### RandomForestClassifier модель для классификации алгоритмом случайного леса"
   ]
  },
  {
   "cell_type": "code",
   "execution_count": 36,
   "metadata": {},
   "outputs": [],
   "source": [
    "depth_random = 0\n",
    "f1_random = 0\n",
    "n_est_random = 0\n",
    "split_random = 0\n",
    "\n",
    "for depth in range(1,21,2):\n",
    "    for sample in range(2, 11, 2):       \n",
    "        for est in range(50, 100, 10):\n",
    "            model = RandomForestClassifier(random_state=12345,\n",
    "                                           max_depth=depth,\n",
    "                                           min_samples_split = sample,\n",
    "                                           n_estimators=est)\n",
    "            model.fit(features_train, target_train)\n",
    "            predictions = model.predict(features_valid)\n",
    "            f1 = f1_score(target_valid, predictions)\n",
    "            if f1 > f1_random:\n",
    "                depth_random = depth\n",
    "                f1_random = f1\n",
    "                split_random = sample\n",
    "                n_est_random = est"
   ]
  },
  {
   "cell_type": "code",
   "execution_count": 37,
   "metadata": {},
   "outputs": [
    {
     "name": "stdout",
     "output_type": "stream",
     "text": [
      "Лучший результат у модели при параметрах: \"max_depth\" 15,\"min_samples_split\"= 6, \"n_estimators\"=70\n"
     ]
    }
   ],
   "source": [
    "print(f'Лучший результат у модели при параметрах: \"max_depth\" {depth_random},\"min_samples_split\"= {split_random}, \"n_estimators\"={n_est_random}' )"
   ]
  },
  {
   "cell_type": "code",
   "execution_count": 38,
   "metadata": {},
   "outputs": [],
   "source": [
    "model_random = RandomForestClassifier(random_state=12345,\n",
    "                                           max_depth=depth_random,\n",
    "                                           min_samples_split = split_random,\n",
    "                                          n_estimators=n_est_random)\n",
    "model_random.fit(features_train, target_train)\n",
    "predicted_random = model.predict(features_valid)\n"
   ]
  },
  {
   "cell_type": "code",
   "execution_count": 39,
   "metadata": {},
   "outputs": [
    {
     "name": "stdout",
     "output_type": "stream",
     "text": [
      "Accuracy для решающего дерева: 0.8586\n",
      "Recall(Полнота): 0.4483\n",
      "Precision(Точность): 0.7752\n",
      "F1-мера: 0.5681\n"
     ]
    }
   ],
   "source": [
    "metric(target_valid, predicted_random)"
   ]
  },
  {
   "cell_type": "code",
   "execution_count": 40,
   "metadata": {},
   "outputs": [
    {
     "data": {
      "image/png": "[encoded data removed]",
      "text/plain": [
       "<Figure size 432x288 with 2 Axes>"
      ]
     },
     "metadata": {
      "needs_background": "light"
     },
     "output_type": "display_data"
    }
   ],
   "source": [
    "Matrix(target_valid, predicted_random)"
   ]
  },
  {
   "cell_type": "code",
   "execution_count": 41,
   "metadata": {},
   "outputs": [
    {
     "name": "stdout",
     "output_type": "stream",
     "text": [
      "Площадь под кривой ROC: 0.8647\n"
     ]
    },
    {
     "data": {
      "image/png": "[encoded data removed]",
      "text/plain": [
       "<Figure size 432x432 with 1 Axes>"
      ]
     },
     "metadata": {
      "needs_background": "light"
     },
     "output_type": "display_data"
    }
   ],
   "source": [
    "figure_roc_auc(model_random, features_valid, target_valid)"
   ]
  },
  {
   "cell_type": "markdown",
   "metadata": {},
   "source": [
    "**Вывод**\n",
    "- Гиперпараметры лучшей модели случайного леса - `max_depth`= 15, `min_samples_split`= 6, `n_estimators`= 80\n",
    "- AUC-ROC -0.8647\n",
    "- Количество правильно предсказанных фактов ухода клиента 1561\n",
    "- Количество не правильно предсказанных фактов ухода клиента 257\n",
    "- Accuracy для решающего дерева: 0.8586\n",
    "- Recall(Полнота): 0.4483\n",
    "- Precision(Точность): 0.7752\n",
    "- F1-мера лучшей модели дерева решений - 0.5681 "
   ]
  },
  {
   "cell_type": "markdown",
   "metadata": {},
   "source": [
    "### Модель LogisticRegression - логистическая регрессия"
   ]
  },
  {
   "cell_type": "code",
   "execution_count": 42,
   "metadata": {},
   "outputs": [],
   "source": [
    "iter_log = 0\n",
    "f1_log = 0\n",
    "\n",
    "for i in [20, 50, 100, 200, 500, 1000]:\n",
    "    model_log = LogisticRegression(random_state=12345, solver='liblinear', max_iter=i)\n",
    "    model_log.fit(features_train, target_train)\n",
    "    predicted_log = model_log.predict(features_valid)\n",
    "    f1 = f1_score(target_valid, predicted_log)\n",
    "    if f1 > f1_log:\n",
    "        f1_random = f1\n",
    "        iter_log = i"
   ]
  },
  {
   "cell_type": "code",
   "execution_count": 43,
   "metadata": {},
   "outputs": [
    {
     "name": "stdout",
     "output_type": "stream",
     "text": [
      "Лучший результат у модели при параметрах: \"max_iter\"= 1000\n"
     ]
    }
   ],
   "source": [
    "print(f'Лучший результат у модели при параметрах: \"max_iter\"= {iter_log}' )"
   ]
  },
  {
   "cell_type": "code",
   "execution_count": 44,
   "metadata": {},
   "outputs": [],
   "source": [
    "model_log = LogisticRegression(random_state=12345, solver='liblinear', max_iter=iter_log)\n",
    "model_log.fit(features_train, target_train)\n",
    "predicted_log = model_log.predict(features_valid)\n"
   ]
  },
  {
   "cell_type": "code",
   "execution_count": 45,
   "metadata": {},
   "outputs": [
    {
     "name": "stdout",
     "output_type": "stream",
     "text": [
      "Accuracy для решающего дерева: 0.8086\n",
      "Recall(Полнота): 0.2016\n",
      "Precision(Точность): 0.6179\n",
      "F1-мера: 0.3040\n"
     ]
    }
   ],
   "source": [
    "metric(target_valid, predicted_log)"
   ]
  },
  {
   "cell_type": "code",
   "execution_count": 46,
   "metadata": {},
   "outputs": [
    {
     "data": {
      "image/png": "[encoded data removed]",
      "text/plain": [
       "<Figure size 432x288 with 2 Axes>"
      ]
     },
     "metadata": {
      "needs_background": "light"
     },
     "output_type": "display_data"
    }
   ],
   "source": [
    "Matrix(target_valid, predicted_log)"
   ]
  },
  {
   "cell_type": "code",
   "execution_count": 47,
   "metadata": {},
   "outputs": [
    {
     "name": "stdout",
     "output_type": "stream",
     "text": [
      "Площадь под кривой ROC: 0.7735\n"
     ]
    },
    {
     "data": {
      "image/png": "[encoded data removed]",
      "text/plain": [
       "<Figure size 432x432 with 1 Axes>"
      ]
     },
     "metadata": {
      "needs_background": "light"
     },
     "output_type": "display_data"
    }
   ],
   "source": [
    "figure_roc_auc(model_log, features_valid, target_valid)"
   ]
  },
  {
   "cell_type": "markdown",
   "metadata": {},
   "source": [
    "**Вывод**\n",
    "- Гиперпараметры лучшей модели логистической регрессия  - 'max_iter'= 1000, 'solver'= 'liblinear'\n",
    "- AUC-ROC -0.7735\n",
    "- Количество правильно предсказанных фактов ухода клиента 1470\n",
    "- Количество не правильно предсказанных фактов ухода клиента 348\n",
    "- Accuracy для решающего дерева: 0.8086\n",
    "- Recall(Полнота): 0.2016\n",
    "- Precision(Точность): 0.6179\n",
    "- F1-мера: 0.3040"
   ]
  },
  {
   "cell_type": "markdown",
   "metadata": {},
   "source": [
    "Посмотрим на метрики всех моделей"
   ]
  },
  {
   "cell_type": "code",
   "execution_count": 48,
   "metadata": {},
   "outputs": [
    {
     "data": {
      "text/html": [
       "<div>\n",
       "<style scoped>\n",
       "    .dataframe tbody tr th:only-of-type {\n",
       "        vertical-align: middle;\n",
       "    }\n",
       "\n",
       "    .dataframe tbody tr th {\n",
       "        vertical-align: top;\n",
       "    }\n",
       "\n",
       "    .dataframe thead th {\n",
       "        text-align: right;\n",
       "    }\n",
       "</style>\n",
       "<table border=\"1\" class=\"dataframe\">\n",
       "  <thead>\n",
       "    <tr style=\"text-align: right;\">\n",
       "      <th></th>\n",
       "      <th>модель</th>\n",
       "      <th>recall</th>\n",
       "      <th>precision</th>\n",
       "      <th>f1_score</th>\n",
       "    </tr>\n",
       "  </thead>\n",
       "  <tbody>\n",
       "    <tr>\n",
       "      <th>0</th>\n",
       "      <td>tree</td>\n",
       "      <td>0.477454</td>\n",
       "      <td>0.743802</td>\n",
       "      <td>0.581583</td>\n",
       "    </tr>\n",
       "    <tr>\n",
       "      <th>1</th>\n",
       "      <td>forest</td>\n",
       "      <td>0.448276</td>\n",
       "      <td>0.775229</td>\n",
       "      <td>0.568067</td>\n",
       "    </tr>\n",
       "    <tr>\n",
       "      <th>2</th>\n",
       "      <td>log_reg</td>\n",
       "      <td>0.201592</td>\n",
       "      <td>0.617886</td>\n",
       "      <td>0.304000</td>\n",
       "    </tr>\n",
       "  </tbody>\n",
       "</table>\n",
       "</div>"
      ],
      "text/plain": [
       "    модель    recall  precision  f1_score\n",
       "0     tree  0.477454   0.743802  0.581583\n",
       "1   forest  0.448276   0.775229  0.568067\n",
       "2  log_reg  0.201592   0.617886  0.304000"
      ]
     },
     "execution_count": 48,
     "metadata": {},
     "output_type": "execute_result"
    }
   ],
   "source": [
    "models = ['tree', 'forest', 'log_reg']\n",
    "accuracy =[accuracy_score(target_valid, predicted_tree),accuracy_score(target_valid, predicted_random),\n",
    "          accuracy_score(target_valid, predicted_log)]\n",
    "recall=[recall_score(target_valid, predicted_tree),recall_score(target_valid, predicted_random),\n",
    "          recall_score(target_valid, predicted_log)]\n",
    "precision=[precision_score(target_valid, predicted_tree),precision_score(target_valid, predicted_random),\n",
    "          precision_score(target_valid, predicted_log)]\n",
    "f1_scores = [f1_score(target_valid, predicted_tree),f1_score(target_valid, predicted_random),\n",
    "          f1_score(target_valid, predicted_log)]\n",
    "\n",
    "\n",
    "best_param_model = pd.DataFrame({'модель':models, 'recall':recall,'precision':precision, 'f1_score':f1_scores, })\n",
    "best_param_model.sort_values(by='f1_score', ascending=False)\n"
   ]
  },
  {
   "cell_type": "markdown",
   "metadata": {},
   "source": [
    "**ВЫВОД**\n",
    "\n",
    "F1-мера ни у одной из моделей не достигла рубежа  0.59. Необходимо улучшить качество моделей, учитывая дисбаланс классов. "
   ]
  },
  {
   "cell_type": "markdown",
   "metadata": {},
   "source": [
    "## Борьба с дисбалансом"
   ]
  },
  {
   "cell_type": "markdown",
   "metadata": {},
   "source": [
    "Разделить обучающую выборку на отрицательные и положительные объекты"
   ]
  },
  {
   "cell_type": "code",
   "execution_count": 49,
   "metadata": {},
   "outputs": [
    {
     "name": "stdout",
     "output_type": "stream",
     "text": [
      "(4328, 11)\n",
      "(1126, 11)\n",
      "(4328,)\n",
      "(1126,)\n"
     ]
    }
   ],
   "source": [
    "features_zeros = features_train[target_train == 0] \n",
    "features_ones = features_train[target_train == 1] \n",
    "target_zeros = target_train[target_train == 0]\n",
    "target_ones = target_train[target_train == 1]\n",
    "\n",
    "\n",
    "print(features_zeros.shape)\n",
    "print(features_ones.shape)\n",
    "print(target_zeros.shape)\n",
    "print(target_ones.shape)"
   ]
  },
  {
   "cell_type": "markdown",
   "metadata": {},
   "source": [
    "Чтобы увеличить качество модели при дисбалансе классов, можно воспользоваться техниками: \n",
    "- взвешивание классов \n",
    "- upsampling \n",
    "- downsampling"
   ]
  },
  {
   "cell_type": "markdown",
   "metadata": {},
   "source": [
    "создадим функцию для техники upsampling"
   ]
  },
  {
   "cell_type": "code",
   "execution_count": 50,
   "metadata": {},
   "outputs": [],
   "source": [
    "def upsample(features, target, repeat):\n",
    "    features_zeros = features[target == 0]\n",
    "    features_ones = features[target == 1]\n",
    "    target_zeros = target[target == 0]\n",
    "    target_ones = target[target == 1]\n",
    "\n",
    "    features_upsampled = pd.concat([features_zeros] + [features_ones] * repeat)\n",
    "    target_upsampled = pd.concat([target_zeros] + [target_ones] * repeat)\n",
    "    \n",
    "    features_upsampled, target_upsampled = shuffle(\n",
    "        features_upsampled, target_upsampled, random_state=12345)\n",
    "    \n",
    "    return features_upsampled, target_upsampled\n"
   ]
  },
  {
   "cell_type": "markdown",
   "metadata": {},
   "source": [
    "создадим функцию для техники downsampling"
   ]
  },
  {
   "cell_type": "code",
   "execution_count": 51,
   "metadata": {},
   "outputs": [],
   "source": [
    "def downsample(features, target, fraction):\n",
    "    features_zeros = features[target == 0]\n",
    "    features_ones = features[target == 1]\n",
    "    target_zeros = target[target == 0]\n",
    "    target_ones = target[target == 1]\n",
    "\n",
    "    features_downsampled = pd.concat(\n",
    "        [features_zeros.sample(frac=fraction, random_state=12345)] + [features_ones])\n",
    "    target_downsampled = pd.concat(\n",
    "        [target_zeros.sample(frac=fraction, random_state=12345)] + [target_ones])\n",
    "    \n",
    "    features_downsampled, target_downsampled = shuffle(\n",
    "        features_downsampled, target_downsampled, random_state=12345)\n",
    "    \n",
    "    return features_downsampled, target_downsampled"
   ]
  },
  {
   "cell_type": "markdown",
   "metadata": {},
   "source": [
    "### DecisionTreeClassifier"
   ]
  },
  {
   "cell_type": "markdown",
   "metadata": {},
   "source": [
    "Воспользуемся техникой взвешивание классов.\n",
    "Придадим объектам редкого класса больший вес."
   ]
  },
  {
   "cell_type": "code",
   "execution_count": 52,
   "metadata": {},
   "outputs": [
    {
     "data": {
      "text/plain": [
       "DecisionTreeClassifier(class_weight='balanced', max_depth=7, min_samples_leaf=5,\n",
       "                       min_samples_split=82, random_state=12345)"
      ]
     },
     "execution_count": 52,
     "metadata": {},
     "output_type": "execute_result"
    }
   ],
   "source": [
    "model_tree_bal= DecisionTreeClassifier(random_state=12345,max_depth=7, \n",
    "                                       min_samples_leaf= 5, min_samples_split= 82, class_weight='balanced')\n",
    "model_tree_bal.fit(features_train, target_train) "
   ]
  },
  {
   "cell_type": "code",
   "execution_count": 53,
   "metadata": {},
   "outputs": [
    {
     "name": "stdout",
     "output_type": "stream",
     "text": [
      "Accuracy для решающего дерева: 0.7332\n",
      "Recall(Полнота): 0.8011\n",
      "Precision(Точность): 0.4242\n",
      "F1-мера: 0.5546\n"
     ]
    }
   ],
   "source": [
    "predicted_tree_bal=model_tree_bal.predict(features_valid)\n",
    "metric(target_valid, predicted_tree_bal)"
   ]
  },
  {
   "cell_type": "code",
   "execution_count": 54,
   "metadata": {},
   "outputs": [
    {
     "name": "stdout",
     "output_type": "stream",
     "text": [
      "Площадь под кривой ROC: 0.8361\n"
     ]
    },
    {
     "data": {
      "image/png": "[encoded data removed]",
      "text/plain": [
       "<Figure size 432x432 with 1 Axes>"
      ]
     },
     "metadata": {
      "needs_background": "light"
     },
     "output_type": "display_data"
    }
   ],
   "source": [
    "figure_roc_auc(model_tree_bal, features_valid, target_valid)"
   ]
  },
  {
   "cell_type": "markdown",
   "metadata": {},
   "source": [
    "Используем технику upsampling"
   ]
  },
  {
   "cell_type": "code",
   "execution_count": 55,
   "metadata": {},
   "outputs": [],
   "source": [
    "features_upsampled, target_upsampled = upsample(features_train, target_train, 4)"
   ]
  },
  {
   "cell_type": "code",
   "execution_count": 56,
   "metadata": {},
   "outputs": [
    {
     "name": "stdout",
     "output_type": "stream",
     "text": [
      "Accuracy для решающего дерева: 0.7393\n",
      "Recall(Полнота): 0.7851\n",
      "Precision(Точность): 0.4296\n",
      "F1-мера: 0.5553\n"
     ]
    }
   ],
   "source": [
    "model_tree_up = DecisionTreeClassifier(random_state=12345,max_depth=7, \n",
    "                                       min_samples_leaf= 5, min_samples_split= 82)\n",
    "model_tree_up.fit(features_upsampled, target_upsampled)\n",
    "predicted_tree_up = model_tree_up.predict(features_valid)\n",
    "metric(target_valid, predicted_tree_up)"
   ]
  },
  {
   "cell_type": "code",
   "execution_count": 57,
   "metadata": {},
   "outputs": [
    {
     "name": "stdout",
     "output_type": "stream",
     "text": [
      "Площадь под кривой ROC: 0.8335\n"
     ]
    },
    {
     "data": {
      "image/png": "[encoded data removed]",
      "text/plain": [
       "<Figure size 432x432 with 1 Axes>"
      ]
     },
     "metadata": {
      "needs_background": "light"
     },
     "output_type": "display_data"
    }
   ],
   "source": [
    "figure_roc_auc(model_tree_up, features_valid, target_valid)"
   ]
  },
  {
   "cell_type": "markdown",
   "metadata": {},
   "source": [
    "Используем технику downsampling"
   ]
  },
  {
   "cell_type": "code",
   "execution_count": 58,
   "metadata": {},
   "outputs": [],
   "source": [
    "features_downsampled, target_downsampled = downsample(features_train, target_train, 0.25)"
   ]
  },
  {
   "cell_type": "code",
   "execution_count": 59,
   "metadata": {},
   "outputs": [
    {
     "name": "stdout",
     "output_type": "stream",
     "text": [
      "Accuracy для решающего дерева: 0.7431\n",
      "Recall(Полнота): 0.8196\n",
      "Precision(Точность): 0.4364\n",
      "F1-мера: 0.5696\n"
     ]
    }
   ],
   "source": [
    "model_tree_down = DecisionTreeClassifier(random_state=12345,max_depth=7, \n",
    "                                       min_samples_leaf= 5, min_samples_split= 82)\n",
    "model_tree_down.fit(features_downsampled, target_downsampled)\n",
    "predicted_tree_down = model_tree_down.predict(features_valid)\n",
    "metric(target_valid, predicted_tree_down)"
   ]
  },
  {
   "cell_type": "code",
   "execution_count": 60,
   "metadata": {},
   "outputs": [
    {
     "name": "stdout",
     "output_type": "stream",
     "text": [
      "Площадь под кривой ROC: 0.8416\n"
     ]
    },
    {
     "data": {
      "image/png": "[encoded data removed]",
      "text/plain": [
       "<Figure size 432x432 with 1 Axes>"
      ]
     },
     "metadata": {
      "needs_background": "light"
     },
     "output_type": "display_data"
    }
   ],
   "source": [
    "figure_roc_auc(model_tree_down, features_valid, target_valid)"
   ]
  },
  {
   "cell_type": "markdown",
   "metadata": {},
   "source": [
    "**Лучшее качество модели дерева решений показало с техникой downsampling:**\n",
    "- Accuracy для решающего дерева: 0.7431\n",
    "- Recall(Полнота): 0.8196\n",
    "- Precision(Точность): 0.4364\n",
    "- ROC: 0.8416\n",
    "- F1-мера: 0.5696 - не перешагнула порог 0,59."
   ]
  },
  {
   "cell_type": "markdown",
   "metadata": {},
   "source": [
    "### RandomForestClassifier "
   ]
  },
  {
   "cell_type": "markdown",
   "metadata": {},
   "source": [
    "Воспользуемся техникой взвешивание классов."
   ]
  },
  {
   "cell_type": "code",
   "execution_count": 61,
   "metadata": {},
   "outputs": [
    {
     "data": {
      "text/plain": [
       "RandomForestClassifier(class_weight='balanced', max_depth=15,\n",
       "                       min_samples_split=6, n_estimators=70,\n",
       "                       random_state=12345)"
      ]
     },
     "execution_count": 61,
     "metadata": {},
     "output_type": "execute_result"
    }
   ],
   "source": [
    "model_random_bal=RandomForestClassifier(random_state=12345,max_depth= 15, \n",
    "                                        min_samples_split= 6,n_estimators= 70, class_weight='balanced')\n",
    "model_random_bal.fit(features_train, target_train) "
   ]
  },
  {
   "cell_type": "code",
   "execution_count": 62,
   "metadata": {},
   "outputs": [],
   "source": [
    "predicted_random_bal=model_random_bal.predict(features_valid)"
   ]
  },
  {
   "cell_type": "code",
   "execution_count": 63,
   "metadata": {},
   "outputs": [
    {
     "name": "stdout",
     "output_type": "stream",
     "text": [
      "Accuracy для решающего дерева: 0.8625\n",
      "Recall(Полнота): 0.5517\n",
      "Precision(Точность): 0.7197\n",
      "F1-мера: 0.6246\n"
     ]
    }
   ],
   "source": [
    "metric(target_valid, predicted_random_bal)"
   ]
  },
  {
   "cell_type": "code",
   "execution_count": 64,
   "metadata": {},
   "outputs": [
    {
     "name": "stdout",
     "output_type": "stream",
     "text": [
      "Площадь под кривой ROC: 0.8701\n"
     ]
    },
    {
     "data": {
      "image/png": "[encoded data removed]",
      "text/plain": [
       "<Figure size 432x432 with 1 Axes>"
      ]
     },
     "metadata": {
      "needs_background": "light"
     },
     "output_type": "display_data"
    }
   ],
   "source": [
    "figure_roc_auc(model_random_bal, features_valid, target_valid)"
   ]
  },
  {
   "cell_type": "markdown",
   "metadata": {},
   "source": [
    "Используем технику upsampling"
   ]
  },
  {
   "cell_type": "code",
   "execution_count": 65,
   "metadata": {},
   "outputs": [
    {
     "name": "stdout",
     "output_type": "stream",
     "text": [
      "Accuracy для решающего дерева: 0.8520\n",
      "Recall(Полнота): 0.6180\n",
      "Precision(Точность): 0.6508\n",
      "F1-мера: 0.6340\n"
     ]
    }
   ],
   "source": [
    "model_random_up=RandomForestClassifier(random_state=12345,max_depth= 15, \n",
    "                                        min_samples_split= 6,n_estimators= 70)\n",
    "model_random_up.fit(features_upsampled, target_upsampled) \n",
    "predicted_random_up=model_random_up.predict(features_valid)\n",
    "metric(target_valid, predicted_random_up)"
   ]
  },
  {
   "cell_type": "code",
   "execution_count": 66,
   "metadata": {},
   "outputs": [
    {
     "name": "stdout",
     "output_type": "stream",
     "text": [
      "Площадь под кривой ROC: 0.8632\n"
     ]
    },
    {
     "data": {
      "image/png": "[encoded data removed]",
      "text/plain": [
       "<Figure size 432x432 with 1 Axes>"
      ]
     },
     "metadata": {
      "needs_background": "light"
     },
     "output_type": "display_data"
    }
   ],
   "source": [
    "figure_roc_auc(model_random_up, features_valid, target_valid)"
   ]
  },
  {
   "cell_type": "markdown",
   "metadata": {},
   "source": [
    "Используем технику downsampling"
   ]
  },
  {
   "cell_type": "code",
   "execution_count": 67,
   "metadata": {},
   "outputs": [
    {
     "name": "stdout",
     "output_type": "stream",
     "text": [
      "Accuracy для решающего дерева: 0.7706\n",
      "Recall(Полнота): 0.7958\n",
      "Precision(Точность): 0.4688\n",
      "F1-мера: 0.5900\n"
     ]
    }
   ],
   "source": [
    "model_random_down=RandomForestClassifier(random_state=12345,max_depth= 15, \n",
    "                                        min_samples_split= 7,n_estimators= 80)\n",
    "model_random_down.fit(features_downsampled, target_downsampled) \n",
    "predicted_random_down=model_random_down.predict(features_valid)\n",
    "metric(target_valid, predicted_random_down)"
   ]
  },
  {
   "cell_type": "code",
   "execution_count": 68,
   "metadata": {},
   "outputs": [
    {
     "name": "stdout",
     "output_type": "stream",
     "text": [
      "Площадь под кривой ROC: 0.8657\n"
     ]
    },
    {
     "data": {
      "image/png": "[encoded data removed]",
      "text/plain": [
       "<Figure size 432x432 with 1 Axes>"
      ]
     },
     "metadata": {
      "needs_background": "light"
     },
     "output_type": "display_data"
    }
   ],
   "source": [
    "figure_roc_auc(model_random_down, features_valid, target_valid)"
   ]
  },
  {
   "cell_type": "markdown",
   "metadata": {},
   "source": [
    "**Лучшее качество модели случайного леса показало с техникой upsampling:**"
   ]
  },
  {
   "cell_type": "markdown",
   "metadata": {},
   "source": [
    "- Accuracy для решающего дерева: 0.8520\n",
    "- Recall(Полнота): 0.6180\n",
    "- Precision(Точность): 0.6508\n",
    "- ROC: 0.8632\n",
    "- F1-мера: 0.6340 -порог в 0,59 преодолен\n"
   ]
  },
  {
   "cell_type": "markdown",
   "metadata": {},
   "source": [
    "### Модель LogisticRegression"
   ]
  },
  {
   "cell_type": "markdown",
   "metadata": {},
   "source": [
    "Воспользуемся техникой взвешивание классов. "
   ]
  },
  {
   "cell_type": "code",
   "execution_count": 69,
   "metadata": {},
   "outputs": [],
   "source": [
    "model_log_bal= LogisticRegression(random_state=12345, solver='liblinear',max_iter= 1000, class_weight='balanced')\n",
    "model_log_bal.fit(features_train, target_train)\n",
    "predicted_log_bal = model_log_bal.predict(features_valid)"
   ]
  },
  {
   "cell_type": "code",
   "execution_count": 70,
   "metadata": {},
   "outputs": [
    {
     "name": "stdout",
     "output_type": "stream",
     "text": [
      "Accuracy для решающего дерева: 0.7090\n",
      "Recall(Полнота): 0.7294\n",
      "Precision(Точность): 0.3917\n",
      "F1-мера: 0.5097\n"
     ]
    }
   ],
   "source": [
    "metric(target_valid, predicted_log_bal)"
   ]
  },
  {
   "cell_type": "code",
   "execution_count": 71,
   "metadata": {},
   "outputs": [
    {
     "name": "stdout",
     "output_type": "stream",
     "text": [
      "Площадь под кривой ROC: 0.7778\n"
     ]
    },
    {
     "data": {
      "image/png": "[encoded data removed]",
      "text/plain": [
       "<Figure size 432x432 with 1 Axes>"
      ]
     },
     "metadata": {
      "needs_background": "light"
     },
     "output_type": "display_data"
    }
   ],
   "source": [
    "figure_roc_auc(model_log_bal, features_valid, target_valid)"
   ]
  },
  {
   "cell_type": "markdown",
   "metadata": {},
   "source": [
    "Используем технику upsampling"
   ]
  },
  {
   "cell_type": "code",
   "execution_count": 72,
   "metadata": {},
   "outputs": [
    {
     "name": "stdout",
     "output_type": "stream",
     "text": [
      "Accuracy для решающего дерева: 0.7013\n",
      "Recall(Полнота): 0.7454\n",
      "Precision(Точность): 0.3860\n",
      "F1-мера: 0.5086\n"
     ]
    }
   ],
   "source": [
    "model_log_up = LogisticRegression(random_state=12345,max_iter= 1000, solver='liblinear')\n",
    "model_log_up.fit(features_upsampled, target_upsampled)\n",
    "predicted_log_up = model_log_up.predict(features_valid)\n",
    "metric(target_valid, predicted_log_up)"
   ]
  },
  {
   "cell_type": "code",
   "execution_count": 73,
   "metadata": {},
   "outputs": [
    {
     "name": "stdout",
     "output_type": "stream",
     "text": [
      "Площадь под кривой ROC: 0.7779\n"
     ]
    },
    {
     "data": {
      "image/png": "[encoded data removed]",
      "text/plain": [
       "<Figure size 432x432 with 1 Axes>"
      ]
     },
     "metadata": {
      "needs_background": "light"
     },
     "output_type": "display_data"
    }
   ],
   "source": [
    "figure_roc_auc(model_log_up, features_valid, target_valid)"
   ]
  },
  {
   "cell_type": "markdown",
   "metadata": {},
   "source": [
    "Используем технику downsampling"
   ]
  },
  {
   "cell_type": "code",
   "execution_count": 74,
   "metadata": {},
   "outputs": [
    {
     "name": "stdout",
     "output_type": "stream",
     "text": [
      "Accuracy для решающего дерева: 0.6964\n",
      "Recall(Полнота): 0.7480\n",
      "Precision(Точность): 0.3816\n",
      "F1-мера: 0.5054\n"
     ]
    }
   ],
   "source": [
    "model_log_down = LogisticRegression(random_state=12345,max_iter= 1000, solver='liblinear')\n",
    "model_log_down.fit(features_downsampled, target_downsampled)\n",
    "predicted_log_down = model_log_down.predict(features_valid)\n",
    "metric(target_valid, predicted_log_down)"
   ]
  },
  {
   "cell_type": "code",
   "execution_count": 75,
   "metadata": {},
   "outputs": [
    {
     "name": "stdout",
     "output_type": "stream",
     "text": [
      "Площадь под кривой ROC: 0.7772\n"
     ]
    },
    {
     "data": {
      "image/png": "[encoded data removed]",
      "text/plain": [
       "<Figure size 432x432 with 1 Axes>"
      ]
     },
     "metadata": {
      "needs_background": "light"
     },
     "output_type": "display_data"
    }
   ],
   "source": [
    "figure_roc_auc(model_log_down, features_valid, target_valid)"
   ]
  },
  {
   "cell_type": "markdown",
   "metadata": {},
   "source": [
    "**Лучшее качество модели логистической регрессия показало с техникой взвешивание классов:**\n",
    "- Accuracy для решающего дерева: 0.7090\n",
    "- Recall(Полнота): 0.7294\n",
    "- Precision(Точность): 0.3917\n",
    "- ROC: 0.7772\n",
    "- F1-мера: 0.5097 - не перешагнула порог 0,59."
   ]
  },
  {
   "cell_type": "markdown",
   "metadata": {},
   "source": [
    "**ВЫВОД**"
   ]
  },
  {
   "cell_type": "markdown",
   "metadata": {},
   "source": [
    "- Нам удалось  перешагнуть порог 0,59 у метрика F1-мера\n",
    "- На валидационной выборке для модели `model_random_up` случаного леса с использованием техники upsampling для сбалансирования выборок- с параметрами `max_depth= 15`, `min_samples_split= 7`,`n_estimators= 80`.мы получили следующие показатели по метрикам:\n",
    "  - Accuracy для решающего дерева: 0.8520\n",
    "  - Recall(Полнота): 0.6180\n",
    "  - Precision(Точность): 0.6508\n",
    "  - ROC: 0.8632\n",
    "  - F1-мера: 0.6340 "
   ]
  },
  {
   "cell_type": "markdown",
   "metadata": {},
   "source": [
    "## Тестирование модели"
   ]
  },
  {
   "cell_type": "code",
   "execution_count": 76,
   "metadata": {},
   "outputs": [
    {
     "name": "stdout",
     "output_type": "stream",
     "text": [
      "Accuracy для решающего дерева: 0.8483\n",
      "Recall(Полнота): 0.5954\n",
      "Precision(Точность): 0.6093\n",
      "F1-мера: 0.6023\n"
     ]
    }
   ],
   "source": [
    "predicted_random_up_test=model_random_up.predict(features_test)\n",
    "metric(target_test, predicted_random_up_test)"
   ]
  },
  {
   "cell_type": "code",
   "execution_count": 77,
   "metadata": {},
   "outputs": [
    {
     "name": "stdout",
     "output_type": "stream",
     "text": [
      "Площадь под кривой ROC: 0.8471\n"
     ]
    },
    {
     "data": {
      "image/png": "[encoded data removed]",
      "text/plain": [
       "<Figure size 432x432 with 1 Axes>"
      ]
     },
     "metadata": {
      "needs_background": "light"
     },
     "output_type": "display_data"
    }
   ],
   "source": [
    "figure_roc_auc(model_random_up, features_test, target_test)"
   ]
  },
  {
   "cell_type": "code",
   "execution_count": 78,
   "metadata": {},
   "outputs": [
    {
     "data": {
      "image/png": "[encoded data removed]",
      "text/plain": [
       "<Figure size 432x288 with 2 Axes>"
      ]
     },
     "metadata": {
      "needs_background": "light"
     },
     "output_type": "display_data"
    }
   ],
   "source": [
    "Matrix(target_test, predicted_random_up_test)"
   ]
  },
  {
   "cell_type": "code",
   "execution_count": 79,
   "metadata": {},
   "outputs": [
    {
     "data": {
      "text/html": [
       "<div>\n",
       "<style scoped>\n",
       "    .dataframe tbody tr th:only-of-type {\n",
       "        vertical-align: middle;\n",
       "    }\n",
       "\n",
       "    .dataframe tbody tr th {\n",
       "        vertical-align: top;\n",
       "    }\n",
       "\n",
       "    .dataframe thead th {\n",
       "        text-align: right;\n",
       "    }\n",
       "</style>\n",
       "<table border=\"1\" class=\"dataframe\">\n",
       "  <thead>\n",
       "    <tr style=\"text-align: right;\">\n",
       "      <th></th>\n",
       "      <th>0</th>\n",
       "      <th>1</th>\n",
       "    </tr>\n",
       "  </thead>\n",
       "  <tbody>\n",
       "    <tr>\n",
       "      <th>0</th>\n",
       "      <td>0.903794</td>\n",
       "      <td>0.609329</td>\n",
       "    </tr>\n",
       "    <tr>\n",
       "      <th>1</th>\n",
       "      <td>0.908719</td>\n",
       "      <td>0.595442</td>\n",
       "    </tr>\n",
       "    <tr>\n",
       "      <th>2</th>\n",
       "      <td>0.906250</td>\n",
       "      <td>0.602305</td>\n",
       "    </tr>\n",
       "    <tr>\n",
       "      <th>3</th>\n",
       "      <td>1468.000000</td>\n",
       "      <td>351.000000</td>\n",
       "    </tr>\n",
       "  </tbody>\n",
       "</table>\n",
       "</div>"
      ],
      "text/plain": [
       "             0           1\n",
       "0     0.903794    0.609329\n",
       "1     0.908719    0.595442\n",
       "2     0.906250    0.602305\n",
       "3  1468.000000  351.000000"
      ]
     },
     "execution_count": 79,
     "metadata": {},
     "output_type": "execute_result"
    }
   ],
   "source": [
    "from sklearn.metrics import precision_recall_fscore_support\n",
    "pd.DataFrame(precision_recall_fscore_support(target_test, predicted_random_up_test))"
   ]
  },
  {
   "cell_type": "markdown",
   "metadata": {},
   "source": [
    "- Доля правильно предсказанных клиентов которые остались '0' среди клиентов, отнесенных моделью к оставшимся '0' составила 90%\n",
    "- Доля правильно предсказанных клиентов которые ушли '1' - 61%\n",
    "- Доля истинных клиентов которые остались 0 среди клиентов, отнесенных моделью к оставшимся 0 - 91%\n",
    "- А у ушедших- всего 60%"
   ]
  },
  {
   "cell_type": "markdown",
   "metadata": {},
   "source": [
    "Посмотрим какие признаки оказали большее влияние на  построение нашей модели."
   ]
  },
  {
   "cell_type": "code",
   "execution_count": 80,
   "metadata": {},
   "outputs": [
    {
     "data": {
      "text/html": [
       "<div>\n",
       "<style scoped>\n",
       "    .dataframe tbody tr th:only-of-type {\n",
       "        vertical-align: middle;\n",
       "    }\n",
       "\n",
       "    .dataframe tbody tr th {\n",
       "        vertical-align: top;\n",
       "    }\n",
       "\n",
       "    .dataframe thead th {\n",
       "        text-align: right;\n",
       "    }\n",
       "</style>\n",
       "<table border=\"1\" class=\"dataframe\">\n",
       "  <thead>\n",
       "    <tr style=\"text-align: right;\">\n",
       "      <th></th>\n",
       "      <th>features</th>\n",
       "      <th>feature_importances</th>\n",
       "    </tr>\n",
       "  </thead>\n",
       "  <tbody>\n",
       "    <tr>\n",
       "      <th>2</th>\n",
       "      <td>age</td>\n",
       "      <td>0.271067</td>\n",
       "    </tr>\n",
       "    <tr>\n",
       "      <th>5</th>\n",
       "      <td>num_of_products</td>\n",
       "      <td>0.147949</td>\n",
       "    </tr>\n",
       "    <tr>\n",
       "      <th>4</th>\n",
       "      <td>balance</td>\n",
       "      <td>0.140095</td>\n",
       "    </tr>\n",
       "    <tr>\n",
       "      <th>8</th>\n",
       "      <td>estimated_salary</td>\n",
       "      <td>0.125413</td>\n",
       "    </tr>\n",
       "    <tr>\n",
       "      <th>0</th>\n",
       "      <td>credit_score</td>\n",
       "      <td>0.120236</td>\n",
       "    </tr>\n",
       "    <tr>\n",
       "      <th>3</th>\n",
       "      <td>tenure</td>\n",
       "      <td>0.072099</td>\n",
       "    </tr>\n",
       "    <tr>\n",
       "      <th>7</th>\n",
       "      <td>is_active_member</td>\n",
       "      <td>0.037144</td>\n",
       "    </tr>\n",
       "    <tr>\n",
       "      <th>9</th>\n",
       "      <td>geography_Germany</td>\n",
       "      <td>0.035037</td>\n",
       "    </tr>\n",
       "    <tr>\n",
       "      <th>1</th>\n",
       "      <td>gender</td>\n",
       "      <td>0.022047</td>\n",
       "    </tr>\n",
       "    <tr>\n",
       "      <th>6</th>\n",
       "      <td>has_cr_card</td>\n",
       "      <td>0.015485</td>\n",
       "    </tr>\n",
       "    <tr>\n",
       "      <th>10</th>\n",
       "      <td>geography_Spain</td>\n",
       "      <td>0.013428</td>\n",
       "    </tr>\n",
       "  </tbody>\n",
       "</table>\n",
       "</div>"
      ],
      "text/plain": [
       "             features  feature_importances\n",
       "2                 age             0.271067\n",
       "5     num_of_products             0.147949\n",
       "4             balance             0.140095\n",
       "8    estimated_salary             0.125413\n",
       "0        credit_score             0.120236\n",
       "3              tenure             0.072099\n",
       "7    is_active_member             0.037144\n",
       "9   geography_Germany             0.035037\n",
       "1              gender             0.022047\n",
       "6         has_cr_card             0.015485\n",
       "10    geography_Spain             0.013428"
      ]
     },
     "execution_count": 80,
     "metadata": {},
     "output_type": "execute_result"
    }
   ],
   "source": [
    "importances = model_random_up.feature_importances_\n",
    "importances_data = pd.DataFrame({'features':list(features_test),\n",
    "                                 'feature_importances':importances}).sort_values('feature_importances', ascending=False)\n",
    "\n",
    "importances_data.sort_values('feature_importances', ascending=False)"
   ]
  },
  {
   "cell_type": "code",
   "execution_count": 81,
   "metadata": {},
   "outputs": [
    {
     "data": {
      "image/png": "[encoded data removed]",
      "text/plain": [
       "<Figure size 1080x576 with 1 Axes>"
      ]
     },
     "metadata": {
      "needs_background": "light"
     },
     "output_type": "display_data"
    }
   ],
   "source": [
    "plt.figure(figsize=(15, 8))\n",
    "sns.barplot(x='features', y=\"feature_importances\",data=importances_data)\n",
    "plt.xticks(rotation=45)\n",
    "plt.xlabel('Наименование признаков')\n",
    "plt.ylabel(\"Cреднее уменьшение неопределенности\")\n",
    "plt.title('Важность признаков по критерию Gini');"
   ]
  },
  {
   "cell_type": "markdown",
   "metadata": {},
   "source": [
    "**Вывод**"
   ]
  },
  {
   "cell_type": "markdown",
   "metadata": {},
   "source": [
    "- При тестировании модели случайного леса, обученной на сбалансированных данных техникой upsampling. F1 мера составила 0.6023. удалось достичь порога метрики F1 выше 0,59.\n",
    "- Количество правильно предсказанных фактов ухода клиента 1543\n",
    "- Количество не правильно предсказанных фактов ухода клиента 276\n",
    "- Accuracy для решающего дерева: 0.8483\n",
    "- Recall(Полнота): 0.5954\n",
    "- Precision(Точность): 0.6093\n",
    "- ROC: 0.8471\n",
    "- Самые важные признаки в данных: \n",
    "  - возраст- оказывает большее влияние,\n",
    "  - количество продуктов банка, используемых клиентом \n",
    "  - баланс."
   ]
  },
  {
   "cell_type": "markdown",
   "metadata": {},
   "source": [
    "**ВЫВОД**"
   ]
  },
  {
   "cell_type": "markdown",
   "metadata": {},
   "source": [
    "**Целью нашего исследования было подобрать модель, предсказывающую уход клиента из банка.**"
   ]
  },
  {
   "cell_type": "markdown",
   "metadata": {},
   "source": [
    "- Была проведена предобработка данных, удалены пропущенные значения.\n",
    "- Категориальные признаки приведены к числу.\n",
    "- Проведена стандартизации данных\n",
    "- Исходный данные разделены на обучающую, валидационную и тестовую выборки.\n",
    "- Для борьбы с дисбалансом класса были применены методы взвешивание классов, upsampling и downsampling.\n",
    "- Было проведено обучение трех моделей:\n",
    "  - дерева решений - DecisionTreeClassifier,\n",
    "  - случайного леса - RandomForestClassifier,\n",
    "  - логистической регрессии - LogisticRegression.\n",
    "- На валидационной выборке лучший результат F1=0.6360 и AUC_ROC=0.8698 показала модель случайного леса с параметрами: `max_depth= 15`, `min_samples_leaf= 1`, `min_samples_split= 7`,`n_estimators= 80`, `class_weight='balanced'`. \n",
    "- На  тестовой выборке данная модель показала результат с F1=0.6135 и AUC_ROC=0.8546. \n",
    "- Самые важные признаки в данных:\n",
    "  - возраст,\n",
    "  - количество продуктов банка, используемых клиентом\n",
    "  - баланс."
   ]
  },
  {
   "cell_type": "code",
   "execution_count": 82,
   "metadata": {},
   "outputs": [
    {
     "data": {
      "text/plain": [
       "0.3235023041474654"
      ]
     },
     "execution_count": 82,
     "metadata": {},
     "output_type": "execute_result"
    }
   ],
   "source": [
    "dummy_model = DummyClassifier(strategy='constant', constant=1)\n",
    "dummy_model.fit(features_train, target_train)\n",
    "f1_score(dummy_model.predict(features_test), target_test)"
   ]
  },
  {
   "cell_type": "code",
   "execution_count": 83,
   "metadata": {},
   "outputs": [
    {
     "data": {
      "text/html": [
       "<div>\n",
       "<style scoped>\n",
       "    .dataframe tbody tr th:only-of-type {\n",
       "        vertical-align: middle;\n",
       "    }\n",
       "\n",
       "    .dataframe tbody tr th {\n",
       "        vertical-align: top;\n",
       "    }\n",
       "\n",
       "    .dataframe thead th {\n",
       "        text-align: right;\n",
       "    }\n",
       "</style>\n",
       "<table border=\"1\" class=\"dataframe\">\n",
       "  <thead>\n",
       "    <tr style=\"text-align: right;\">\n",
       "      <th></th>\n",
       "      <th>0</th>\n",
       "      <th>1</th>\n",
       "    </tr>\n",
       "  </thead>\n",
       "  <tbody>\n",
       "    <tr>\n",
       "      <th>0</th>\n",
       "      <td>0.0</td>\n",
       "      <td>0.192963</td>\n",
       "    </tr>\n",
       "    <tr>\n",
       "      <th>1</th>\n",
       "      <td>0.0</td>\n",
       "      <td>1.000000</td>\n",
       "    </tr>\n",
       "    <tr>\n",
       "      <th>2</th>\n",
       "      <td>0.0</td>\n",
       "      <td>0.323502</td>\n",
       "    </tr>\n",
       "    <tr>\n",
       "      <th>3</th>\n",
       "      <td>1468.0</td>\n",
       "      <td>351.000000</td>\n",
       "    </tr>\n",
       "  </tbody>\n",
       "</table>\n",
       "</div>"
      ],
      "text/plain": [
       "        0           1\n",
       "0     0.0    0.192963\n",
       "1     0.0    1.000000\n",
       "2     0.0    0.323502\n",
       "3  1468.0  351.000000"
      ]
     },
     "execution_count": 83,
     "metadata": {},
     "output_type": "execute_result"
    }
   ],
   "source": [
    "pd.DataFrame(precision_recall_fscore_support(target_test, dummy_model.predict(features_test)))"
   ]
  },
  {
   "cell_type": "code",
   "execution_count": null,
   "metadata": {},
   "outputs": [],
   "source": []
  }
 ],
 "metadata": {
  "ExecuteTimeLog": [
   {
    "duration": 72,
    "start_time": "2023-04-14T14:51:15.563Z"
   },
   {
    "duration": 264,
    "start_time": "2023-04-14T14:53:03.678Z"
   },
   {
    "duration": 0,
    "start_time": "2023-04-14T14:53:03.944Z"
   },
   {
    "duration": 0,
    "start_time": "2023-04-14T14:53:03.945Z"
   },
   {
    "duration": 0,
    "start_time": "2023-04-14T14:53:03.946Z"
   },
   {
    "duration": 0,
    "start_time": "2023-04-14T14:53:03.947Z"
   },
   {
    "duration": 0,
    "start_time": "2023-04-14T14:53:03.948Z"
   },
   {
    "duration": 0,
    "start_time": "2023-04-14T14:53:03.949Z"
   },
   {
    "duration": 0,
    "start_time": "2023-04-14T14:53:03.950Z"
   },
   {
    "duration": 0,
    "start_time": "2023-04-14T14:53:03.951Z"
   },
   {
    "duration": 0,
    "start_time": "2023-04-14T14:53:03.952Z"
   },
   {
    "duration": 0,
    "start_time": "2023-04-14T14:53:03.953Z"
   },
   {
    "duration": 0,
    "start_time": "2023-04-14T14:53:03.954Z"
   },
   {
    "duration": 0,
    "start_time": "2023-04-14T14:53:03.955Z"
   },
   {
    "duration": 0,
    "start_time": "2023-04-14T14:53:03.956Z"
   },
   {
    "duration": 44,
    "start_time": "2023-04-14T14:53:07.092Z"
   },
   {
    "duration": 59,
    "start_time": "2023-04-14T14:53:14.196Z"
   },
   {
    "duration": 0,
    "start_time": "2023-04-14T14:53:14.257Z"
   },
   {
    "duration": 0,
    "start_time": "2023-04-14T14:53:14.258Z"
   },
   {
    "duration": 0,
    "start_time": "2023-04-14T14:53:14.259Z"
   },
   {
    "duration": 0,
    "start_time": "2023-04-14T14:53:14.260Z"
   },
   {
    "duration": 0,
    "start_time": "2023-04-14T14:53:14.261Z"
   },
   {
    "duration": 0,
    "start_time": "2023-04-14T14:53:14.262Z"
   },
   {
    "duration": 1,
    "start_time": "2023-04-14T14:53:14.263Z"
   },
   {
    "duration": 0,
    "start_time": "2023-04-14T14:53:14.264Z"
   },
   {
    "duration": 0,
    "start_time": "2023-04-14T14:53:14.265Z"
   },
   {
    "duration": 0,
    "start_time": "2023-04-14T14:53:14.266Z"
   },
   {
    "duration": 0,
    "start_time": "2023-04-14T14:53:14.267Z"
   },
   {
    "duration": 0,
    "start_time": "2023-04-14T14:53:14.268Z"
   },
   {
    "duration": 0,
    "start_time": "2023-04-14T14:53:14.269Z"
   },
   {
    "duration": 1607,
    "start_time": "2023-04-14T14:53:47.020Z"
   },
   {
    "duration": 200,
    "start_time": "2023-04-14T14:53:48.629Z"
   },
   {
    "duration": 13,
    "start_time": "2023-04-14T14:53:48.831Z"
   },
   {
    "duration": 21,
    "start_time": "2023-04-14T14:53:48.846Z"
   },
   {
    "duration": 1540,
    "start_time": "2023-04-14T14:53:48.868Z"
   },
   {
    "duration": 4,
    "start_time": "2023-04-14T14:53:50.410Z"
   },
   {
    "duration": 19,
    "start_time": "2023-04-14T14:53:50.415Z"
   },
   {
    "duration": 14,
    "start_time": "2023-04-14T14:53:50.436Z"
   },
   {
    "duration": 30,
    "start_time": "2023-04-14T14:53:50.452Z"
   },
   {
    "duration": 28,
    "start_time": "2023-04-14T14:53:50.488Z"
   },
   {
    "duration": 8,
    "start_time": "2023-04-14T14:53:50.518Z"
   },
   {
    "duration": 21,
    "start_time": "2023-04-14T14:53:50.528Z"
   },
   {
    "duration": 17,
    "start_time": "2023-04-14T14:53:50.551Z"
   },
   {
    "duration": 13,
    "start_time": "2023-04-14T14:53:50.569Z"
   },
   {
    "duration": 29,
    "start_time": "2023-04-14T14:53:50.587Z"
   },
   {
    "duration": 26,
    "start_time": "2023-04-14T14:53:57.955Z"
   },
   {
    "duration": 99,
    "start_time": "2023-04-14T14:57:13.634Z"
   },
   {
    "duration": 1555,
    "start_time": "2023-04-14T14:57:31.145Z"
   },
   {
    "duration": 75,
    "start_time": "2023-04-14T15:14:47.313Z"
   },
   {
    "duration": 1501,
    "start_time": "2023-04-14T15:14:54.536Z"
   },
   {
    "duration": 141,
    "start_time": "2023-04-14T15:14:58.370Z"
   },
   {
    "duration": 4,
    "start_time": "2023-04-14T15:14:59.204Z"
   },
   {
    "duration": 6,
    "start_time": "2023-04-14T15:15:01.160Z"
   },
   {
    "duration": 9,
    "start_time": "2023-04-14T15:15:02.377Z"
   },
   {
    "duration": 3,
    "start_time": "2023-04-14T15:15:05.112Z"
   },
   {
    "duration": 152,
    "start_time": "2023-04-14T15:15:09.872Z"
   },
   {
    "duration": 25,
    "start_time": "2023-04-14T15:17:39.921Z"
   },
   {
    "duration": 19,
    "start_time": "2023-04-14T15:17:45.201Z"
   },
   {
    "duration": 34,
    "start_time": "2023-04-14T15:18:03.465Z"
   },
   {
    "duration": 243,
    "start_time": "2023-04-14T15:18:38.264Z"
   },
   {
    "duration": 318,
    "start_time": "2023-04-14T15:31:35.580Z"
   },
   {
    "duration": 10,
    "start_time": "2023-04-14T15:31:46.373Z"
   },
   {
    "duration": 5,
    "start_time": "2023-04-14T15:32:01.194Z"
   },
   {
    "duration": 9,
    "start_time": "2023-04-14T15:32:21.410Z"
   },
   {
    "duration": 25,
    "start_time": "2023-04-14T15:32:29.705Z"
   },
   {
    "duration": 22,
    "start_time": "2023-04-14T15:32:50.913Z"
   },
   {
    "duration": 420,
    "start_time": "2023-04-14T15:33:23.687Z"
   },
   {
    "duration": 398,
    "start_time": "2023-04-14T15:33:53.509Z"
   },
   {
    "duration": 9,
    "start_time": "2023-04-14T15:35:05.177Z"
   },
   {
    "duration": 3,
    "start_time": "2023-04-14T15:35:13.994Z"
   },
   {
    "duration": 4,
    "start_time": "2023-04-14T15:35:15.744Z"
   },
   {
    "duration": 5,
    "start_time": "2023-04-14T15:35:16.944Z"
   },
   {
    "duration": 4,
    "start_time": "2023-04-14T15:35:20.938Z"
   },
   {
    "duration": 413,
    "start_time": "2023-04-14T15:35:27.383Z"
   },
   {
    "duration": 12,
    "start_time": "2023-04-14T15:35:29.808Z"
   },
   {
    "duration": 27,
    "start_time": "2023-04-14T15:38:32.440Z"
   },
   {
    "duration": 19,
    "start_time": "2023-04-14T15:39:09.046Z"
   },
   {
    "duration": 8,
    "start_time": "2023-04-14T15:39:16.774Z"
   },
   {
    "duration": 23,
    "start_time": "2023-04-14T15:43:32.371Z"
   },
   {
    "duration": 379,
    "start_time": "2023-04-14T15:45:25.540Z"
   },
   {
    "duration": 47,
    "start_time": "2023-04-14T15:56:26.774Z"
   },
   {
    "duration": 104698,
    "start_time": "2023-04-14T15:56:59.768Z"
   },
   {
    "duration": 4,
    "start_time": "2023-04-14T15:58:46.000Z"
   },
   {
    "duration": 3,
    "start_time": "2023-04-14T15:58:48.119Z"
   },
   {
    "duration": 3,
    "start_time": "2023-04-14T15:59:00.070Z"
   },
   {
    "duration": 16,
    "start_time": "2023-04-14T16:00:23.522Z"
   },
   {
    "duration": 12620,
    "start_time": "2023-04-14T16:01:03.931Z"
   },
   {
    "duration": 3,
    "start_time": "2023-04-14T16:01:16.553Z"
   },
   {
    "duration": 13489,
    "start_time": "2023-04-14T16:02:31.577Z"
   },
   {
    "duration": 59,
    "start_time": "2023-04-14T16:02:45.068Z"
   },
   {
    "duration": 0,
    "start_time": "2023-04-14T16:02:45.128Z"
   },
   {
    "duration": 0,
    "start_time": "2023-04-14T16:02:45.129Z"
   },
   {
    "duration": 0,
    "start_time": "2023-04-14T16:02:45.131Z"
   },
   {
    "duration": 21,
    "start_time": "2023-04-14T16:02:57.684Z"
   },
   {
    "duration": 9,
    "start_time": "2023-04-14T16:02:58.651Z"
   },
   {
    "duration": 133,
    "start_time": "2023-04-14T16:03:01.228Z"
   },
   {
    "duration": 126,
    "start_time": "2023-04-14T16:03:03.179Z"
   },
   {
    "duration": 65070,
    "start_time": "2023-04-14T16:09:45.939Z"
   },
   {
    "duration": 4,
    "start_time": "2023-04-14T16:11:07.661Z"
   },
   {
    "duration": 63628,
    "start_time": "2023-04-14T16:12:03.547Z"
   },
   {
    "duration": 7,
    "start_time": "2023-04-14T16:13:07.177Z"
   },
   {
    "duration": 64875,
    "start_time": "2023-04-14T16:13:43.574Z"
   },
   {
    "duration": 3,
    "start_time": "2023-04-14T16:14:48.451Z"
   },
   {
    "duration": 11,
    "start_time": "2023-04-14T16:14:48.456Z"
   },
   {
    "duration": 13,
    "start_time": "2023-04-14T16:15:09.754Z"
   },
   {
    "duration": 298,
    "start_time": "2023-04-14T16:15:31.129Z"
   },
   {
    "duration": 10,
    "start_time": "2023-04-14T16:15:32.488Z"
   },
   {
    "duration": 10,
    "start_time": "2023-04-14T16:15:36.505Z"
   },
   {
    "duration": 147,
    "start_time": "2023-04-14T16:15:39.952Z"
   },
   {
    "duration": 144,
    "start_time": "2023-04-14T16:15:41.136Z"
   },
   {
    "duration": 30591,
    "start_time": "2023-04-14T16:18:39.177Z"
   },
   {
    "duration": 3,
    "start_time": "2023-04-14T16:20:06.676Z"
   },
   {
    "duration": 20,
    "start_time": "2023-04-14T16:20:16.164Z"
   },
   {
    "duration": 9,
    "start_time": "2023-04-14T16:20:17.586Z"
   },
   {
    "duration": 29969,
    "start_time": "2023-04-14T16:21:21.074Z"
   },
   {
    "duration": 4,
    "start_time": "2023-04-14T16:21:51.044Z"
   },
   {
    "duration": 35,
    "start_time": "2023-04-14T16:21:51.049Z"
   },
   {
    "duration": 11,
    "start_time": "2023-04-14T16:21:51.086Z"
   },
   {
    "duration": 137,
    "start_time": "2023-04-14T16:21:51.099Z"
   },
   {
    "duration": 125,
    "start_time": "2023-04-14T16:21:51.238Z"
   },
   {
    "duration": 80446,
    "start_time": "2023-04-14T16:21:52.120Z"
   },
   {
    "duration": 3,
    "start_time": "2023-04-14T16:23:12.568Z"
   },
   {
    "duration": 352,
    "start_time": "2023-04-14T16:23:12.572Z"
   },
   {
    "duration": 7,
    "start_time": "2023-04-14T16:23:12.926Z"
   },
   {
    "duration": 148,
    "start_time": "2023-04-14T16:23:12.935Z"
   },
   {
    "duration": 138,
    "start_time": "2023-04-14T16:23:13.085Z"
   },
   {
    "duration": 1457,
    "start_time": "2023-04-14T16:23:48.960Z"
   },
   {
    "duration": 66,
    "start_time": "2023-04-14T16:23:50.419Z"
   },
   {
    "duration": 14,
    "start_time": "2023-04-14T16:23:50.487Z"
   },
   {
    "duration": 22,
    "start_time": "2023-04-14T16:23:50.503Z"
   },
   {
    "duration": 1559,
    "start_time": "2023-04-14T16:23:50.527Z"
   },
   {
    "duration": 4,
    "start_time": "2023-04-14T16:23:52.088Z"
   },
   {
    "duration": 8,
    "start_time": "2023-04-14T16:23:52.094Z"
   },
   {
    "duration": 12,
    "start_time": "2023-04-14T16:23:52.104Z"
   },
   {
    "duration": 20,
    "start_time": "2023-04-14T16:23:52.117Z"
   },
   {
    "duration": 19,
    "start_time": "2023-04-14T16:23:52.140Z"
   },
   {
    "duration": 7,
    "start_time": "2023-04-14T16:23:52.183Z"
   },
   {
    "duration": 12,
    "start_time": "2023-04-14T16:23:52.192Z"
   },
   {
    "duration": 10,
    "start_time": "2023-04-14T16:23:52.206Z"
   },
   {
    "duration": 15,
    "start_time": "2023-04-14T16:23:52.218Z"
   },
   {
    "duration": 12,
    "start_time": "2023-04-14T16:23:52.234Z"
   },
   {
    "duration": 42,
    "start_time": "2023-04-14T16:23:52.248Z"
   },
   {
    "duration": 1580,
    "start_time": "2023-04-14T16:23:52.292Z"
   },
   {
    "duration": 166,
    "start_time": "2023-04-14T16:23:53.874Z"
   },
   {
    "duration": 5,
    "start_time": "2023-04-14T16:23:54.042Z"
   },
   {
    "duration": 13,
    "start_time": "2023-04-14T16:23:54.049Z"
   },
   {
    "duration": 20,
    "start_time": "2023-04-14T16:23:54.063Z"
   },
   {
    "duration": 24,
    "start_time": "2023-04-14T16:23:54.084Z"
   },
   {
    "duration": 55,
    "start_time": "2023-04-14T16:23:54.110Z"
   },
   {
    "duration": 31,
    "start_time": "2023-04-14T16:23:54.167Z"
   },
   {
    "duration": 36,
    "start_time": "2023-04-14T16:23:54.199Z"
   },
   {
    "duration": 272,
    "start_time": "2023-04-14T16:23:54.236Z"
   },
   {
    "duration": 3,
    "start_time": "2023-04-14T16:23:54.510Z"
   },
   {
    "duration": 15,
    "start_time": "2023-04-14T16:23:54.517Z"
   },
   {
    "duration": 7,
    "start_time": "2023-04-14T16:23:54.533Z"
   },
   {
    "duration": 29974,
    "start_time": "2023-04-14T16:23:54.542Z"
   },
   {
    "duration": 118,
    "start_time": "2023-04-14T16:24:24.518Z"
   },
   {
    "duration": 0,
    "start_time": "2023-04-14T16:24:24.637Z"
   },
   {
    "duration": 0,
    "start_time": "2023-04-14T16:24:24.638Z"
   },
   {
    "duration": 0,
    "start_time": "2023-04-14T16:24:24.639Z"
   },
   {
    "duration": 0,
    "start_time": "2023-04-14T16:24:24.640Z"
   },
   {
    "duration": 0,
    "start_time": "2023-04-14T16:24:24.641Z"
   },
   {
    "duration": 0,
    "start_time": "2023-04-14T16:24:24.643Z"
   },
   {
    "duration": 0,
    "start_time": "2023-04-14T16:24:24.644Z"
   },
   {
    "duration": 0,
    "start_time": "2023-04-14T16:24:24.644Z"
   },
   {
    "duration": 0,
    "start_time": "2023-04-14T16:24:24.646Z"
   },
   {
    "duration": 0,
    "start_time": "2023-04-14T16:24:24.647Z"
   },
   {
    "duration": 10,
    "start_time": "2023-04-14T16:24:49.646Z"
   },
   {
    "duration": 11,
    "start_time": "2023-04-14T16:24:53.542Z"
   },
   {
    "duration": 3,
    "start_time": "2023-04-14T16:25:02.661Z"
   },
   {
    "duration": 22,
    "start_time": "2023-04-14T16:25:09.957Z"
   },
   {
    "duration": 10,
    "start_time": "2023-04-14T16:25:10.805Z"
   },
   {
    "duration": 157,
    "start_time": "2023-04-14T16:25:11.351Z"
   },
   {
    "duration": 126,
    "start_time": "2023-04-14T16:25:13.245Z"
   },
   {
    "duration": 82925,
    "start_time": "2023-04-14T16:25:16.543Z"
   },
   {
    "duration": 3,
    "start_time": "2023-04-14T16:26:39.470Z"
   },
   {
    "duration": 514,
    "start_time": "2023-04-14T16:26:39.474Z"
   },
   {
    "duration": 9,
    "start_time": "2023-04-14T16:26:39.990Z"
   },
   {
    "duration": 162,
    "start_time": "2023-04-14T16:26:40.001Z"
   },
   {
    "duration": 160,
    "start_time": "2023-04-14T16:26:40.165Z"
   },
   {
    "duration": 59,
    "start_time": "2023-04-14T16:39:14.711Z"
   },
   {
    "duration": 7297,
    "start_time": "2023-04-14T16:39:48.893Z"
   },
   {
    "duration": 95,
    "start_time": "2023-04-14T16:39:56.192Z"
   },
   {
    "duration": 7310,
    "start_time": "2023-04-14T16:40:19.286Z"
   },
   {
    "duration": 84,
    "start_time": "2023-04-14T16:40:26.599Z"
   },
   {
    "duration": 7515,
    "start_time": "2023-04-14T16:41:02.874Z"
   },
   {
    "duration": 4,
    "start_time": "2023-04-14T16:41:10.392Z"
   },
   {
    "duration": 9,
    "start_time": "2023-04-14T16:41:21.681Z"
   },
   {
    "duration": 296,
    "start_time": "2023-04-14T16:43:12.789Z"
   },
   {
    "duration": 13,
    "start_time": "2023-04-14T16:44:55.863Z"
   },
   {
    "duration": 11,
    "start_time": "2023-04-14T16:45:09.502Z"
   },
   {
    "duration": 694,
    "start_time": "2023-04-14T16:45:26.295Z"
   },
   {
    "duration": 3,
    "start_time": "2023-04-14T16:45:27.263Z"
   },
   {
    "duration": 9,
    "start_time": "2023-04-14T16:45:33.232Z"
   },
   {
    "duration": 53,
    "start_time": "2023-04-14T16:46:59.657Z"
   },
   {
    "duration": 8,
    "start_time": "2023-04-14T16:47:01.442Z"
   },
   {
    "duration": 139,
    "start_time": "2023-04-14T16:47:03.897Z"
   },
   {
    "duration": 275,
    "start_time": "2023-04-14T16:47:05.192Z"
   },
   {
    "duration": 67,
    "start_time": "2023-04-14T16:47:23.465Z"
   },
   {
    "duration": 9,
    "start_time": "2023-04-14T16:47:25.256Z"
   },
   {
    "duration": 128,
    "start_time": "2023-04-14T16:47:26.169Z"
   },
   {
    "duration": 237,
    "start_time": "2023-04-14T16:47:28.031Z"
   },
   {
    "duration": 53,
    "start_time": "2023-04-14T16:47:38.904Z"
   },
   {
    "duration": 9,
    "start_time": "2023-04-14T16:47:40.007Z"
   },
   {
    "duration": 157,
    "start_time": "2023-04-14T16:47:41.631Z"
   },
   {
    "duration": 289,
    "start_time": "2023-04-14T16:47:43.199Z"
   },
   {
    "duration": 3,
    "start_time": "2023-04-14T16:47:51.663Z"
   },
   {
    "duration": 1543,
    "start_time": "2023-04-14T16:48:16.046Z"
   },
   {
    "duration": 3,
    "start_time": "2023-04-14T16:48:19.381Z"
   },
   {
    "duration": 284,
    "start_time": "2023-04-14T16:48:25.429Z"
   },
   {
    "duration": 8,
    "start_time": "2023-04-14T16:48:27.021Z"
   },
   {
    "duration": 139,
    "start_time": "2023-04-14T16:48:27.845Z"
   },
   {
    "duration": 278,
    "start_time": "2023-04-14T16:48:29.294Z"
   },
   {
    "duration": 703,
    "start_time": "2023-04-14T16:49:01.388Z"
   },
   {
    "duration": 6,
    "start_time": "2023-04-14T16:49:02.186Z"
   },
   {
    "duration": 52,
    "start_time": "2023-04-14T16:49:02.853Z"
   },
   {
    "duration": 10,
    "start_time": "2023-04-14T16:49:04.196Z"
   },
   {
    "duration": 155,
    "start_time": "2023-04-14T16:49:04.755Z"
   },
   {
    "duration": 346,
    "start_time": "2023-04-14T16:49:06.435Z"
   },
   {
    "duration": 19,
    "start_time": "2023-04-14T16:49:31.290Z"
   },
   {
    "duration": 10,
    "start_time": "2023-04-14T16:49:33.153Z"
   },
   {
    "duration": 169,
    "start_time": "2023-04-14T16:49:34.682Z"
   },
   {
    "duration": 272,
    "start_time": "2023-04-14T16:49:36.426Z"
   },
   {
    "duration": 24,
    "start_time": "2023-04-14T16:49:57.186Z"
   },
   {
    "duration": 9,
    "start_time": "2023-04-14T16:49:58.601Z"
   },
   {
    "duration": 140,
    "start_time": "2023-04-14T16:50:00.473Z"
   },
   {
    "duration": 306,
    "start_time": "2023-04-14T16:50:01.865Z"
   },
   {
    "duration": 15,
    "start_time": "2023-04-14T16:50:21.472Z"
   },
   {
    "duration": 9,
    "start_time": "2023-04-14T16:50:23.392Z"
   },
   {
    "duration": 142,
    "start_time": "2023-04-14T16:50:24.073Z"
   },
   {
    "duration": 278,
    "start_time": "2023-04-14T16:50:24.856Z"
   },
   {
    "duration": 31,
    "start_time": "2023-04-14T16:50:39.823Z"
   },
   {
    "duration": 21,
    "start_time": "2023-04-14T16:54:04.447Z"
   },
   {
    "duration": 12,
    "start_time": "2023-04-14T16:54:06.064Z"
   },
   {
    "duration": 127,
    "start_time": "2023-04-14T16:54:08.397Z"
   },
   {
    "duration": 11,
    "start_time": "2023-04-14T16:54:42.899Z"
   },
   {
    "duration": 10,
    "start_time": "2023-04-14T16:54:49.395Z"
   },
   {
    "duration": 9,
    "start_time": "2023-04-14T16:54:52.388Z"
   },
   {
    "duration": 4,
    "start_time": "2023-04-14T16:55:21.130Z"
   },
   {
    "duration": 4,
    "start_time": "2023-04-14T16:55:22.946Z"
   },
   {
    "duration": 10,
    "start_time": "2023-04-14T16:55:29.442Z"
   },
   {
    "duration": 34,
    "start_time": "2023-04-14T16:55:30.258Z"
   },
   {
    "duration": 243,
    "start_time": "2023-04-14T17:00:23.732Z"
   },
   {
    "duration": 15,
    "start_time": "2023-04-14T17:23:02.477Z"
   },
   {
    "duration": 31,
    "start_time": "2023-04-14T17:23:03.165Z"
   },
   {
    "duration": 11,
    "start_time": "2023-04-14T17:25:12.648Z"
   },
   {
    "duration": 20,
    "start_time": "2023-04-14T17:25:13.904Z"
   },
   {
    "duration": 120,
    "start_time": "2023-04-14T17:25:15.896Z"
   },
   {
    "duration": 11,
    "start_time": "2023-04-14T17:25:27.637Z"
   },
   {
    "duration": 18,
    "start_time": "2023-04-14T17:25:29.022Z"
   },
   {
    "duration": 127,
    "start_time": "2023-04-14T17:25:29.671Z"
   },
   {
    "duration": 384,
    "start_time": "2023-04-14T17:26:06.493Z"
   },
   {
    "duration": 33,
    "start_time": "2023-04-14T17:26:08.636Z"
   },
   {
    "duration": 8,
    "start_time": "2023-04-14T17:26:14.461Z"
   },
   {
    "duration": 144,
    "start_time": "2023-04-14T17:26:26.860Z"
   },
   {
    "duration": 608,
    "start_time": "2023-04-14T17:26:45.956Z"
   },
   {
    "duration": 591,
    "start_time": "2023-04-14T17:27:10.274Z"
   },
   {
    "duration": 151,
    "start_time": "2023-04-14T17:27:12.218Z"
   },
   {
    "duration": 252,
    "start_time": "2023-04-14T17:27:17.513Z"
   },
   {
    "duration": 159,
    "start_time": "2023-04-14T17:27:23.585Z"
   },
   {
    "duration": 21,
    "start_time": "2023-04-14T17:28:10.471Z"
   },
   {
    "duration": 8,
    "start_time": "2023-04-14T17:28:11.913Z"
   },
   {
    "duration": 340,
    "start_time": "2023-04-14T17:28:15.638Z"
   },
   {
    "duration": 87,
    "start_time": "2023-04-14T17:28:25.199Z"
   },
   {
    "duration": 300,
    "start_time": "2023-04-14T17:28:27.887Z"
   },
   {
    "duration": 20,
    "start_time": "2023-04-14T17:28:29.622Z"
   },
   {
    "duration": 21,
    "start_time": "2023-04-14T17:28:34.913Z"
   },
   {
    "duration": 326,
    "start_time": "2023-04-14T17:28:35.670Z"
   },
   {
    "duration": 1388,
    "start_time": "2023-04-14T17:29:30.029Z"
   },
   {
    "duration": 78,
    "start_time": "2023-04-14T17:29:31.419Z"
   },
   {
    "duration": 15,
    "start_time": "2023-04-14T17:29:31.498Z"
   },
   {
    "duration": 42,
    "start_time": "2023-04-14T17:29:31.515Z"
   },
   {
    "duration": 1534,
    "start_time": "2023-04-14T17:29:31.558Z"
   },
   {
    "duration": 3,
    "start_time": "2023-04-14T17:29:33.094Z"
   },
   {
    "duration": 24,
    "start_time": "2023-04-14T17:29:33.099Z"
   },
   {
    "duration": 10,
    "start_time": "2023-04-14T17:29:33.124Z"
   },
   {
    "duration": 33,
    "start_time": "2023-04-14T17:29:33.135Z"
   },
   {
    "duration": 45,
    "start_time": "2023-04-14T17:29:33.171Z"
   },
   {
    "duration": 28,
    "start_time": "2023-04-14T17:29:33.218Z"
   },
   {
    "duration": 36,
    "start_time": "2023-04-14T17:29:33.248Z"
   },
   {
    "duration": 36,
    "start_time": "2023-04-14T17:29:33.286Z"
   },
   {
    "duration": 22,
    "start_time": "2023-04-14T17:29:33.324Z"
   },
   {
    "duration": 23,
    "start_time": "2023-04-14T17:29:33.347Z"
   },
   {
    "duration": 37,
    "start_time": "2023-04-14T17:29:33.372Z"
   },
   {
    "duration": 1561,
    "start_time": "2023-04-14T17:29:33.411Z"
   },
   {
    "duration": 166,
    "start_time": "2023-04-14T17:29:34.974Z"
   },
   {
    "duration": 4,
    "start_time": "2023-04-14T17:29:35.141Z"
   },
   {
    "duration": 9,
    "start_time": "2023-04-14T17:29:35.147Z"
   },
   {
    "duration": 25,
    "start_time": "2023-04-14T17:29:35.157Z"
   },
   {
    "duration": 12,
    "start_time": "2023-04-14T17:29:35.184Z"
   },
   {
    "duration": 48,
    "start_time": "2023-04-14T17:29:35.197Z"
   },
   {
    "duration": 28,
    "start_time": "2023-04-14T17:29:35.246Z"
   },
   {
    "duration": 35,
    "start_time": "2023-04-14T17:29:35.276Z"
   },
   {
    "duration": 264,
    "start_time": "2023-04-14T17:29:35.313Z"
   },
   {
    "duration": 5,
    "start_time": "2023-04-14T17:29:35.579Z"
   },
   {
    "duration": 35,
    "start_time": "2023-04-14T17:29:35.590Z"
   },
   {
    "duration": 14,
    "start_time": "2023-04-14T17:29:35.627Z"
   },
   {
    "duration": 32688,
    "start_time": "2023-04-14T17:29:35.643Z"
   },
   {
    "duration": 4,
    "start_time": "2023-04-14T17:30:08.333Z"
   },
   {
    "duration": 67,
    "start_time": "2023-04-14T17:30:08.339Z"
   },
   {
    "duration": 9,
    "start_time": "2023-04-14T17:30:08.409Z"
   },
   {
    "duration": 167,
    "start_time": "2023-04-14T17:30:08.420Z"
   },
   {
    "duration": 124,
    "start_time": "2023-04-14T17:30:08.589Z"
   },
   {
    "duration": 83616,
    "start_time": "2023-04-14T17:30:08.715Z"
   },
   {
    "duration": 3,
    "start_time": "2023-04-14T17:31:32.333Z"
   },
   {
    "duration": 457,
    "start_time": "2023-04-14T17:31:32.338Z"
   },
   {
    "duration": 8,
    "start_time": "2023-04-14T17:31:32.797Z"
   },
   {
    "duration": 154,
    "start_time": "2023-04-14T17:31:32.807Z"
   },
   {
    "duration": 160,
    "start_time": "2023-04-14T17:31:32.963Z"
   },
   {
    "duration": 763,
    "start_time": "2023-04-14T17:31:33.125Z"
   },
   {
    "duration": 93,
    "start_time": "2023-04-14T17:31:33.890Z"
   },
   {
    "duration": 111,
    "start_time": "2023-04-14T17:31:33.986Z"
   },
   {
    "duration": 185,
    "start_time": "2023-04-14T17:31:34.099Z"
   },
   {
    "duration": 142,
    "start_time": "2023-04-14T17:31:34.286Z"
   },
   {
    "duration": 255,
    "start_time": "2023-04-14T17:31:34.430Z"
   },
   {
    "duration": 25,
    "start_time": "2023-04-14T17:31:34.687Z"
   },
   {
    "duration": 7,
    "start_time": "2023-04-14T17:31:34.714Z"
   },
   {
    "duration": 15,
    "start_time": "2023-04-14T17:31:34.723Z"
   },
   {
    "duration": 22,
    "start_time": "2023-04-14T17:31:34.740Z"
   },
   {
    "duration": 39,
    "start_time": "2023-04-14T17:31:34.764Z"
   },
   {
    "duration": 13,
    "start_time": "2023-04-14T17:31:34.805Z"
   },
   {
    "duration": 139,
    "start_time": "2023-04-14T17:31:34.820Z"
   },
   {
    "duration": 22,
    "start_time": "2023-04-14T17:31:34.961Z"
   },
   {
    "duration": 32,
    "start_time": "2023-04-14T17:31:34.985Z"
   },
   {
    "duration": 136,
    "start_time": "2023-04-14T17:31:35.019Z"
   },
   {
    "duration": 10,
    "start_time": "2023-04-14T17:31:35.156Z"
   },
   {
    "duration": 30,
    "start_time": "2023-04-14T17:31:35.168Z"
   },
   {
    "duration": 130,
    "start_time": "2023-04-14T17:31:35.200Z"
   },
   {
    "duration": 400,
    "start_time": "2023-04-14T17:31:35.331Z"
   },
   {
    "duration": 33,
    "start_time": "2023-04-14T17:31:35.733Z"
   },
   {
    "duration": 16,
    "start_time": "2023-04-14T17:31:35.768Z"
   },
   {
    "duration": 153,
    "start_time": "2023-04-14T17:31:35.785Z"
   },
   {
    "duration": 595,
    "start_time": "2023-04-14T17:31:35.940Z"
   },
   {
    "duration": 164,
    "start_time": "2023-04-14T17:31:36.537Z"
   },
   {
    "duration": 270,
    "start_time": "2023-04-14T17:31:36.703Z"
   },
   {
    "duration": 159,
    "start_time": "2023-04-14T17:31:36.975Z"
   },
   {
    "duration": 48,
    "start_time": "2023-04-14T17:31:37.136Z"
   },
   {
    "duration": 104,
    "start_time": "2023-04-14T17:31:37.186Z"
   },
   {
    "duration": 307,
    "start_time": "2023-04-14T17:31:37.292Z"
   },
   {
    "duration": 88,
    "start_time": "2023-04-14T17:31:37.600Z"
   },
   {
    "duration": 401,
    "start_time": "2023-04-14T17:31:37.691Z"
   },
   {
    "duration": 94,
    "start_time": "2023-04-14T17:31:38.093Z"
   },
   {
    "duration": 394,
    "start_time": "2023-04-14T17:31:38.189Z"
   },
   {
    "duration": 59,
    "start_time": "2023-04-14T17:38:31.924Z"
   },
   {
    "duration": 145,
    "start_time": "2023-04-14T17:48:43.177Z"
   },
   {
    "duration": 43,
    "start_time": "2023-04-14T17:49:54.548Z"
   },
   {
    "duration": 374,
    "start_time": "2023-04-14T17:50:47.289Z"
   },
   {
    "duration": 40,
    "start_time": "2023-04-14T17:51:09.192Z"
   },
   {
    "duration": 159,
    "start_time": "2023-04-14T17:51:34.089Z"
   },
   {
    "duration": 137,
    "start_time": "2023-04-14T17:51:47.831Z"
   },
   {
    "duration": 16,
    "start_time": "2023-04-14T17:52:18.924Z"
   },
   {
    "duration": 219,
    "start_time": "2023-04-14T17:52:31.932Z"
   },
   {
    "duration": 6,
    "start_time": "2023-04-14T17:56:13.792Z"
   },
   {
    "duration": 10,
    "start_time": "2023-04-14T18:06:28.925Z"
   },
   {
    "duration": 66,
    "start_time": "2023-04-14T18:11:47.544Z"
   },
   {
    "duration": 11,
    "start_time": "2023-04-14T18:13:13.003Z"
   },
   {
    "duration": 1353,
    "start_time": "2023-04-14T18:21:46.374Z"
   },
   {
    "duration": 64,
    "start_time": "2023-04-14T18:21:47.728Z"
   },
   {
    "duration": 11,
    "start_time": "2023-04-14T18:21:47.794Z"
   },
   {
    "duration": 33,
    "start_time": "2023-04-14T18:21:47.807Z"
   },
   {
    "duration": 1367,
    "start_time": "2023-04-14T18:21:47.841Z"
   },
   {
    "duration": 3,
    "start_time": "2023-04-14T18:21:49.209Z"
   },
   {
    "duration": 19,
    "start_time": "2023-04-14T18:21:49.214Z"
   },
   {
    "duration": 13,
    "start_time": "2023-04-14T18:21:49.235Z"
   },
   {
    "duration": 20,
    "start_time": "2023-04-14T18:21:49.250Z"
   },
   {
    "duration": 21,
    "start_time": "2023-04-14T18:21:49.273Z"
   },
   {
    "duration": 26,
    "start_time": "2023-04-14T18:21:49.295Z"
   },
   {
    "duration": 14,
    "start_time": "2023-04-14T18:21:49.322Z"
   },
   {
    "duration": 25,
    "start_time": "2023-04-14T18:21:49.338Z"
   },
   {
    "duration": 23,
    "start_time": "2023-04-14T18:21:49.365Z"
   },
   {
    "duration": 13,
    "start_time": "2023-04-14T18:21:49.390Z"
   },
   {
    "duration": 31,
    "start_time": "2023-04-14T18:21:49.405Z"
   },
   {
    "duration": 1451,
    "start_time": "2023-04-14T18:21:49.437Z"
   },
   {
    "duration": 149,
    "start_time": "2023-04-14T18:21:50.890Z"
   },
   {
    "duration": 4,
    "start_time": "2023-04-14T18:21:51.041Z"
   },
   {
    "duration": 43,
    "start_time": "2023-04-14T18:21:51.046Z"
   },
   {
    "duration": 15,
    "start_time": "2023-04-14T18:21:51.090Z"
   },
   {
    "duration": 31,
    "start_time": "2023-04-14T18:21:51.106Z"
   },
   {
    "duration": 45,
    "start_time": "2023-04-14T18:21:51.139Z"
   },
   {
    "duration": 24,
    "start_time": "2023-04-14T18:21:51.186Z"
   },
   {
    "duration": 30,
    "start_time": "2023-04-14T18:21:51.212Z"
   },
   {
    "duration": 234,
    "start_time": "2023-04-14T18:21:51.244Z"
   },
   {
    "duration": 4,
    "start_time": "2023-04-14T18:21:51.482Z"
   },
   {
    "duration": 9,
    "start_time": "2023-04-14T18:21:51.489Z"
   },
   {
    "duration": 17,
    "start_time": "2023-04-14T18:21:51.500Z"
   },
   {
    "duration": 29381,
    "start_time": "2023-04-14T18:21:51.519Z"
   },
   {
    "duration": 4,
    "start_time": "2023-04-14T18:22:20.901Z"
   },
   {
    "duration": 33,
    "start_time": "2023-04-14T18:22:20.906Z"
   },
   {
    "duration": 15,
    "start_time": "2023-04-14T18:22:20.941Z"
   },
   {
    "duration": 146,
    "start_time": "2023-04-14T18:22:20.957Z"
   },
   {
    "duration": 132,
    "start_time": "2023-04-14T18:22:21.105Z"
   },
   {
    "duration": 81753,
    "start_time": "2023-04-14T18:22:21.238Z"
   },
   {
    "duration": 3,
    "start_time": "2023-04-14T18:23:42.993Z"
   },
   {
    "duration": 575,
    "start_time": "2023-04-14T18:23:42.997Z"
   },
   {
    "duration": 15,
    "start_time": "2023-04-14T18:23:43.574Z"
   },
   {
    "duration": 140,
    "start_time": "2023-04-14T18:23:43.590Z"
   },
   {
    "duration": 164,
    "start_time": "2023-04-14T18:23:43.732Z"
   },
   {
    "duration": 687,
    "start_time": "2023-04-14T18:23:43.897Z"
   },
   {
    "duration": 4,
    "start_time": "2023-04-14T18:23:44.586Z"
   },
   {
    "duration": 110,
    "start_time": "2023-04-14T18:23:44.592Z"
   },
   {
    "duration": 179,
    "start_time": "2023-04-14T18:23:44.705Z"
   },
   {
    "duration": 145,
    "start_time": "2023-04-14T18:23:44.885Z"
   },
   {
    "duration": 266,
    "start_time": "2023-04-14T18:23:45.032Z"
   },
   {
    "duration": 25,
    "start_time": "2023-04-14T18:23:45.300Z"
   },
   {
    "duration": 7,
    "start_time": "2023-04-14T18:23:45.326Z"
   },
   {
    "duration": 4,
    "start_time": "2023-04-14T18:23:45.335Z"
   },
   {
    "duration": 9,
    "start_time": "2023-04-14T18:23:45.340Z"
   },
   {
    "duration": 47,
    "start_time": "2023-04-14T18:23:45.351Z"
   },
   {
    "duration": 10,
    "start_time": "2023-04-14T18:23:45.400Z"
   },
   {
    "duration": 140,
    "start_time": "2023-04-14T18:23:45.412Z"
   },
   {
    "duration": 12,
    "start_time": "2023-04-14T18:23:45.554Z"
   },
   {
    "duration": 46,
    "start_time": "2023-04-14T18:23:45.567Z"
   },
   {
    "duration": 136,
    "start_time": "2023-04-14T18:23:45.615Z"
   },
   {
    "duration": 10,
    "start_time": "2023-04-14T18:23:45.753Z"
   },
   {
    "duration": 31,
    "start_time": "2023-04-14T18:23:45.764Z"
   },
   {
    "duration": 131,
    "start_time": "2023-04-14T18:23:45.796Z"
   },
   {
    "duration": 393,
    "start_time": "2023-04-14T18:23:45.929Z"
   },
   {
    "duration": 35,
    "start_time": "2023-04-14T18:23:46.324Z"
   },
   {
    "duration": 9,
    "start_time": "2023-04-14T18:23:46.360Z"
   },
   {
    "duration": 174,
    "start_time": "2023-04-14T18:23:46.370Z"
   },
   {
    "duration": 589,
    "start_time": "2023-04-14T18:23:46.545Z"
   },
   {
    "duration": 154,
    "start_time": "2023-04-14T18:23:47.136Z"
   },
   {
    "duration": 253,
    "start_time": "2023-04-14T18:23:47.292Z"
   },
   {
    "duration": 143,
    "start_time": "2023-04-14T18:23:47.547Z"
   },
   {
    "duration": 23,
    "start_time": "2023-04-14T18:23:47.693Z"
   },
   {
    "duration": 165,
    "start_time": "2023-04-14T18:23:47.718Z"
   },
   {
    "duration": 309,
    "start_time": "2023-04-14T18:23:47.885Z"
   },
   {
    "duration": 88,
    "start_time": "2023-04-14T18:23:48.195Z"
   },
   {
    "duration": 319,
    "start_time": "2023-04-14T18:23:48.286Z"
   },
   {
    "duration": 78,
    "start_time": "2023-04-14T18:23:48.607Z"
   },
   {
    "duration": 310,
    "start_time": "2023-04-14T18:23:48.687Z"
   },
   {
    "duration": 39,
    "start_time": "2023-04-14T18:23:48.999Z"
   },
   {
    "duration": 247,
    "start_time": "2023-04-14T18:23:49.040Z"
   },
   {
    "duration": 136,
    "start_time": "2023-04-14T18:23:49.289Z"
   },
   {
    "duration": 10,
    "start_time": "2023-04-14T18:23:49.427Z"
   },
   {
    "duration": 32,
    "start_time": "2023-04-14T18:23:49.438Z"
   },
   {
    "duration": 233,
    "start_time": "2023-04-14T18:23:49.472Z"
   },
   {
    "duration": 7,
    "start_time": "2023-04-14T18:23:49.711Z"
   },
   {
    "duration": 13,
    "start_time": "2023-04-14T18:23:49.720Z"
   }
  ],
  "kernelspec": {
   "display_name": "Python 3",
   "language": "python",
   "name": "python3"
  },
  "language_info": {
   "codemirror_mode": {
    "name": "ipython",
    "version": 3
   },
   "file_extension": ".py",
   "mimetype": "text/x-python",
   "name": "python",
   "nbconvert_exporter": "python",
   "pygments_lexer": "ipython3",
   "version": "3.8.8"
  },
  "toc": {
   "base_numbering": 1,
   "nav_menu": {},
   "number_sections": true,
   "sideBar": true,
   "skip_h1_title": true,
   "title_cell": "Содержание",
   "title_sidebar": "Contents",
   "toc_cell": true,
   "toc_position": {
    "height": "calc(100% - 180px)",
    "left": "10px",
    "top": "150px",
    "width": "372.578px"
   },
   "toc_section_display": true,
   "toc_window_display": false
  }
 },
 "nbformat": 4,
 "nbformat_minor": 2
}
