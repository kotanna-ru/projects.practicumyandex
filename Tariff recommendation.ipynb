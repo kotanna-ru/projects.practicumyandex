{
 "cells": [
  {
   "cell_type": "markdown",
   "metadata": {
    "toc": true
   },
   "source": [
    "<h1>Table of Contents<span class=\"tocSkip\"></span></h1>\n",
    "<div class=\"toc\"><ul class=\"toc-item\"><li><span><a href=\"#Откроем-и-изучим-файл\" data-toc-modified-id=\"Откроем-и-изучим-файл-1\"><span class=\"toc-item-num\">1&nbsp;&nbsp;</span>Откроем и изучим файл</a></span></li><li><span><a href=\"#Разобьем-данные-на-выборки\" data-toc-modified-id=\"Разобьем-данные-на-выборки-2\"><span class=\"toc-item-num\">2&nbsp;&nbsp;</span>Разобьем данные на выборки</a></span></li><li><span><a href=\"#Исследуем-модели\" data-toc-modified-id=\"Исследуем-модели-3\"><span class=\"toc-item-num\">3&nbsp;&nbsp;</span>Исследуем модели</a></span><ul class=\"toc-item\"><li><span><a href=\"#DecisionTreeClassifier-модель-для-классификации-деревом-решений\" data-toc-modified-id=\"DecisionTreeClassifier-модель-для-классификации-деревом-решений-3.1\"><span class=\"toc-item-num\">3.1&nbsp;&nbsp;</span>DecisionTreeClassifier модель для классификации деревом решений</a></span></li><li><span><a href=\"#RandomForestClassifier-модель-для-классификации-алгоритмом-случайного-леса\" data-toc-modified-id=\"RandomForestClassifier-модель-для-классификации-алгоритмом-случайного-леса-3.2\"><span class=\"toc-item-num\">3.2&nbsp;&nbsp;</span>RandomForestClassifier модель для классификации алгоритмом случайного леса</a></span></li><li><span><a href=\"#Модель-LogisticRegression---логистическая-регрессия\" data-toc-modified-id=\"Модель-LogisticRegression---логистическая-регрессия-3.3\"><span class=\"toc-item-num\">3.3&nbsp;&nbsp;</span>Модель LogisticRegression - логистическая регрессия</a></span></li></ul></li><li><span><a href=\"#Проверим-модель-на-тестовой-выборке\" data-toc-modified-id=\"Проверим-модель-на-тестовой-выборке-4\"><span class=\"toc-item-num\">4&nbsp;&nbsp;</span>Проверим модель на тестовой выборке</a></span></li><li><span><a href=\"#Проверим-модели-на-адекватность\" data-toc-modified-id=\"Проверим-модели-на-адекватность-5\"><span class=\"toc-item-num\">5&nbsp;&nbsp;</span>Проверим модели на адекватность</a></span></li></ul></div>"
   ]
  },
  {
   "cell_type": "markdown",
   "metadata": {},
   "source": [
    "# Рекомендация тарифов"
   ]
  },
  {
   "cell_type": "markdown",
   "metadata": {},
   "source": [
    "В вашем распоряжении данные о поведении клиентов, которые уже перешли на эти тарифы. Мы построим модель для задачи классификации, которая выберет подходящий тариф. Предобработка данных не понадобится — она уже сделана.\n"
   ]
  },
  {
   "cell_type": "markdown",
   "metadata": {},
   "source": [
    "## Откроем и изучим файл"
   ]
  },
  {
   "cell_type": "code",
   "execution_count": 1,
   "metadata": {},
   "outputs": [],
   "source": [
    "import pandas as pd\n",
    "import seaborn as sns\n",
    "import matplotlib.pyplot as plt\n",
    "import numpy as np\n",
    "\n",
    "from sklearn.model_selection import GridSearchCV\n",
    "from sklearn.tree import DecisionTreeClassifier\n",
    "from sklearn.ensemble import RandomForestClassifier\n",
    "from sklearn.model_selection import train_test_split\n",
    "from sklearn.linear_model import LogisticRegression \n",
    "from sklearn.metrics import mean_squared_error\n",
    "from joblib import dump\n",
    "import time \n",
    "from sklearn.metrics import confusion_matrix, ConfusionMatrixDisplay\n",
    "from sklearn.dummy import DummyClassifier\n",
    "from sklearn.metrics import accuracy_score\n",
    "import sys\n",
    "if not sys.warnoptions:\n",
    "    import warnings\n",
    "    warnings.simplefilter(\"ignore\")"
   ]
  },
  {
   "cell_type": "code",
   "execution_count": 2,
   "metadata": {},
   "outputs": [],
   "source": [
    "try:\n",
    "    df = pd.read_csv('D:\\\\Мои документы\\\\DS\\\\users_behavior.csv')\n",
    "except:\n",
    "    df = pd.read_csv('/datasets/users_behavior.csv')"
   ]
  },
  {
   "cell_type": "code",
   "execution_count": 3,
   "metadata": {},
   "outputs": [
    {
     "name": "stdout",
     "output_type": "stream",
     "text": [
      "<class 'pandas.core.frame.DataFrame'>\n",
      "RangeIndex: 3214 entries, 0 to 3213\n",
      "Data columns (total 5 columns):\n",
      " #   Column    Non-Null Count  Dtype  \n",
      "---  ------    --------------  -----  \n",
      " 0   calls     3214 non-null   float64\n",
      " 1   minutes   3214 non-null   float64\n",
      " 2   messages  3214 non-null   float64\n",
      " 3   mb_used   3214 non-null   float64\n",
      " 4   is_ultra  3214 non-null   int64  \n",
      "dtypes: float64(4), int64(1)\n",
      "memory usage: 125.7 KB\n"
     ]
    }
   ],
   "source": [
    "df.info()"
   ]
  },
  {
   "cell_type": "code",
   "execution_count": 4,
   "metadata": {},
   "outputs": [
    {
     "data": {
      "text/html": [
       "<div>\n",
       "<style scoped>\n",
       "    .dataframe tbody tr th:only-of-type {\n",
       "        vertical-align: middle;\n",
       "    }\n",
       "\n",
       "    .dataframe tbody tr th {\n",
       "        vertical-align: top;\n",
       "    }\n",
       "\n",
       "    .dataframe thead th {\n",
       "        text-align: right;\n",
       "    }\n",
       "</style>\n",
       "<table border=\"1\" class=\"dataframe\">\n",
       "  <thead>\n",
       "    <tr style=\"text-align: right;\">\n",
       "      <th></th>\n",
       "      <th>calls</th>\n",
       "      <th>minutes</th>\n",
       "      <th>messages</th>\n",
       "      <th>mb_used</th>\n",
       "      <th>is_ultra</th>\n",
       "    </tr>\n",
       "  </thead>\n",
       "  <tbody>\n",
       "    <tr>\n",
       "      <th>0</th>\n",
       "      <td>40.0</td>\n",
       "      <td>311.90</td>\n",
       "      <td>83.0</td>\n",
       "      <td>19915.42</td>\n",
       "      <td>0</td>\n",
       "    </tr>\n",
       "    <tr>\n",
       "      <th>1</th>\n",
       "      <td>85.0</td>\n",
       "      <td>516.75</td>\n",
       "      <td>56.0</td>\n",
       "      <td>22696.96</td>\n",
       "      <td>0</td>\n",
       "    </tr>\n",
       "    <tr>\n",
       "      <th>2</th>\n",
       "      <td>77.0</td>\n",
       "      <td>467.66</td>\n",
       "      <td>86.0</td>\n",
       "      <td>21060.45</td>\n",
       "      <td>0</td>\n",
       "    </tr>\n",
       "    <tr>\n",
       "      <th>3</th>\n",
       "      <td>106.0</td>\n",
       "      <td>745.53</td>\n",
       "      <td>81.0</td>\n",
       "      <td>8437.39</td>\n",
       "      <td>1</td>\n",
       "    </tr>\n",
       "    <tr>\n",
       "      <th>4</th>\n",
       "      <td>66.0</td>\n",
       "      <td>418.74</td>\n",
       "      <td>1.0</td>\n",
       "      <td>14502.75</td>\n",
       "      <td>0</td>\n",
       "    </tr>\n",
       "    <tr>\n",
       "      <th>5</th>\n",
       "      <td>58.0</td>\n",
       "      <td>344.56</td>\n",
       "      <td>21.0</td>\n",
       "      <td>15823.37</td>\n",
       "      <td>0</td>\n",
       "    </tr>\n",
       "    <tr>\n",
       "      <th>6</th>\n",
       "      <td>57.0</td>\n",
       "      <td>431.64</td>\n",
       "      <td>20.0</td>\n",
       "      <td>3738.90</td>\n",
       "      <td>1</td>\n",
       "    </tr>\n",
       "    <tr>\n",
       "      <th>7</th>\n",
       "      <td>15.0</td>\n",
       "      <td>132.40</td>\n",
       "      <td>6.0</td>\n",
       "      <td>21911.60</td>\n",
       "      <td>0</td>\n",
       "    </tr>\n",
       "    <tr>\n",
       "      <th>8</th>\n",
       "      <td>7.0</td>\n",
       "      <td>43.39</td>\n",
       "      <td>3.0</td>\n",
       "      <td>2538.67</td>\n",
       "      <td>1</td>\n",
       "    </tr>\n",
       "    <tr>\n",
       "      <th>9</th>\n",
       "      <td>90.0</td>\n",
       "      <td>665.41</td>\n",
       "      <td>38.0</td>\n",
       "      <td>17358.61</td>\n",
       "      <td>0</td>\n",
       "    </tr>\n",
       "    <tr>\n",
       "      <th>10</th>\n",
       "      <td>82.0</td>\n",
       "      <td>560.51</td>\n",
       "      <td>20.0</td>\n",
       "      <td>9619.53</td>\n",
       "      <td>1</td>\n",
       "    </tr>\n",
       "    <tr>\n",
       "      <th>11</th>\n",
       "      <td>45.0</td>\n",
       "      <td>344.32</td>\n",
       "      <td>13.0</td>\n",
       "      <td>19898.81</td>\n",
       "      <td>0</td>\n",
       "    </tr>\n",
       "    <tr>\n",
       "      <th>12</th>\n",
       "      <td>51.0</td>\n",
       "      <td>437.13</td>\n",
       "      <td>61.0</td>\n",
       "      <td>21523.58</td>\n",
       "      <td>0</td>\n",
       "    </tr>\n",
       "    <tr>\n",
       "      <th>13</th>\n",
       "      <td>56.0</td>\n",
       "      <td>433.07</td>\n",
       "      <td>16.0</td>\n",
       "      <td>16702.36</td>\n",
       "      <td>0</td>\n",
       "    </tr>\n",
       "    <tr>\n",
       "      <th>14</th>\n",
       "      <td>108.0</td>\n",
       "      <td>587.90</td>\n",
       "      <td>0.0</td>\n",
       "      <td>14406.50</td>\n",
       "      <td>1</td>\n",
       "    </tr>\n",
       "    <tr>\n",
       "      <th>15</th>\n",
       "      <td>6.0</td>\n",
       "      <td>22.13</td>\n",
       "      <td>0.0</td>\n",
       "      <td>2710.09</td>\n",
       "      <td>0</td>\n",
       "    </tr>\n",
       "    <tr>\n",
       "      <th>16</th>\n",
       "      <td>2.0</td>\n",
       "      <td>18.73</td>\n",
       "      <td>0.0</td>\n",
       "      <td>588.89</td>\n",
       "      <td>0</td>\n",
       "    </tr>\n",
       "    <tr>\n",
       "      <th>17</th>\n",
       "      <td>26.0</td>\n",
       "      <td>163.62</td>\n",
       "      <td>4.0</td>\n",
       "      <td>16870.34</td>\n",
       "      <td>0</td>\n",
       "    </tr>\n",
       "    <tr>\n",
       "      <th>18</th>\n",
       "      <td>79.0</td>\n",
       "      <td>532.62</td>\n",
       "      <td>90.0</td>\n",
       "      <td>19908.31</td>\n",
       "      <td>0</td>\n",
       "    </tr>\n",
       "    <tr>\n",
       "      <th>19</th>\n",
       "      <td>49.0</td>\n",
       "      <td>341.67</td>\n",
       "      <td>81.0</td>\n",
       "      <td>11770.28</td>\n",
       "      <td>1</td>\n",
       "    </tr>\n",
       "  </tbody>\n",
       "</table>\n",
       "</div>"
      ],
      "text/plain": [
       "    calls  minutes  messages   mb_used  is_ultra\n",
       "0    40.0   311.90      83.0  19915.42         0\n",
       "1    85.0   516.75      56.0  22696.96         0\n",
       "2    77.0   467.66      86.0  21060.45         0\n",
       "3   106.0   745.53      81.0   8437.39         1\n",
       "4    66.0   418.74       1.0  14502.75         0\n",
       "5    58.0   344.56      21.0  15823.37         0\n",
       "6    57.0   431.64      20.0   3738.90         1\n",
       "7    15.0   132.40       6.0  21911.60         0\n",
       "8     7.0    43.39       3.0   2538.67         1\n",
       "9    90.0   665.41      38.0  17358.61         0\n",
       "10   82.0   560.51      20.0   9619.53         1\n",
       "11   45.0   344.32      13.0  19898.81         0\n",
       "12   51.0   437.13      61.0  21523.58         0\n",
       "13   56.0   433.07      16.0  16702.36         0\n",
       "14  108.0   587.90       0.0  14406.50         1\n",
       "15    6.0    22.13       0.0   2710.09         0\n",
       "16    2.0    18.73       0.0    588.89         0\n",
       "17   26.0   163.62       4.0  16870.34         0\n",
       "18   79.0   532.62      90.0  19908.31         0\n",
       "19   49.0   341.67      81.0  11770.28         1"
      ]
     },
     "execution_count": 4,
     "metadata": {},
     "output_type": "execute_result"
    }
   ],
   "source": [
    "df.head(20)"
   ]
  },
  {
   "cell_type": "markdown",
   "metadata": {},
   "source": [
    "**Описание данных**\n",
    "\n",
    "Каждый объект в наборе данных — это информация о поведении одного пользователя за месяц. Известно:\n",
    "- сalls — количество звонков,\n",
    "- minutes — суммарная длительность звонков в минутах,\n",
    "- messages — количество sms-сообщений,\n",
    "- mb_used — израсходованный интернет-трафик в Мб,\n",
    "- is_ultra — каким тарифом пользовался в течение месяца («Ультра» — 1, «Смарт» — 0)."
   ]
  },
  {
   "cell_type": "markdown",
   "metadata": {},
   "source": [
    "Предобработка данных не понадобится — она уже сделана."
   ]
  },
  {
   "cell_type": "markdown",
   "metadata": {},
   "source": [
    "## Разобьем данные на выборки"
   ]
  },
  {
   "cell_type": "markdown",
   "metadata": {},
   "source": [
    "Тестовой выборки нет. Значит, данные нужно разбить на три части: обучающую, валидационную и тестовую. Размеры тестового и валидационного наборов обычно равны. Исходные данные разбиваем в соотношении 3:1:1. В процентах 60:20:20"
   ]
  },
  {
   "cell_type": "code",
   "execution_count": 5,
   "metadata": {},
   "outputs": [],
   "source": [
    "features = df.drop(['is_ultra'], axis=1) # извлекаем признаки\n",
    "target = df['is_ultra']  # извлекаем целевой признак\n",
    "\n",
    "features_train, features_valid, target_train, target_valid, = train_test_split(\n",
    "    features, target, test_size=0.40, random_state=12345)# отделим 60% данных для обучающей выборки\n",
    "features_valid, features_test, target_valid,target_test = train_test_split(\n",
    "    features_valid, target_valid, test_size=0.50, random_state=12345)# разделим поровну (по 20% от данных) для валидационной и тестовой выборки"
   ]
  },
  {
   "cell_type": "code",
   "execution_count": 6,
   "metadata": {},
   "outputs": [
    {
     "name": "stdout",
     "output_type": "stream",
     "text": [
      "размер обучающей выборки: (1928, 4)\n",
      "размер валидационной выборки: (643, 4)\n",
      "размер тестовой выборки: (643, 4)\n"
     ]
    }
   ],
   "source": [
    "print('размер обучающей выборки:',features_train.shape)\n",
    "print('размер валидационной выборки:',features_valid.shape)\n",
    "print('размер тестовой выборки:',features_test.shape)"
   ]
  },
  {
   "cell_type": "markdown",
   "metadata": {},
   "source": [
    "## Исследуем модели"
   ]
  },
  {
   "cell_type": "markdown",
   "metadata": {},
   "source": [
    "### DecisionTreeClassifier модель для классификации деревом решений"
   ]
  },
  {
   "cell_type": "markdown",
   "metadata": {},
   "source": [
    "Подбор параметров – одна из важных задач для построения модели машинного обучения. Изменение параметров модели может принципиально повлиять на ее качество. Например,если сделать гиперпараметр n_estimators больше, модель начнёт разрастаться и медленно обучаться. Это плохо, модель может переобучиться. Мало деревьев и результаты не лучше — тоже неудачно. Перебор этих параметров вручную может занять колоссальное количество времени. Однако, существует модуль GridSearchCV. GridSearchCV находит наилучшие параметры, путем обычного перебора: он создает модель для каждой возможной комбинации параметров."
   ]
  },
  {
   "cell_type": "code",
   "execution_count": 7,
   "metadata": {},
   "outputs": [],
   "source": [
    "parametrs={'min_samples_split':range (2,8),'max_depth': range (1,10), 'min_samples_leaf':range (1,10)} #создаем словарик, в который вписываем параметры, которые будем прогонять GridSearch’ем. "
   ]
  },
  {
   "cell_type": "code",
   "execution_count": 8,
   "metadata": {},
   "outputs": [
    {
     "name": "stdout",
     "output_type": "stream",
     "text": [
      "Accuracy наилучшей модели на валидационной выборке: 0.7822706065318819\n",
      "Время работы модели: 11.121256351470947\n"
     ]
    }
   ],
   "source": [
    "start = time.time() ## точка отсчета времени\n",
    "\n",
    "##код программы\n",
    "\n",
    "# обучите модель вызовом метода fit()\n",
    "\n",
    "model_tree = DecisionTreeClassifier(random_state=12345) #Запускаем обучение\n",
    "tree_search=GridSearchCV(model_tree, parametrs, cv=5)\n",
    "tree_search.fit(features_train, target_train) \n",
    "predictions=tree_search.predict(features_valid)\n",
    "accuracy = tree_search.score(features_valid, target_valid)\n",
    "\n",
    "print(\"Accuracy наилучшей модели на валидационной выборке:\", accuracy)\n",
    "end = time.time() - start ##  время работы программы\n",
    "print('Время работы модели:', end)"
   ]
  },
  {
   "cell_type": "code",
   "execution_count": 9,
   "metadata": {},
   "outputs": [
    {
     "name": "stdout",
     "output_type": "stream",
     "text": [
      "Лучший результат у модели при параметрах {'max_depth': 7, 'min_samples_leaf': 9, 'min_samples_split': 2}\n"
     ]
    }
   ],
   "source": [
    "print('Лучший результат у модели при параметрах', tree_search.best_params_) #Полученные параметры являются лучшими для нашей модели."
   ]
  },
  {
   "cell_type": "code",
   "execution_count": 10,
   "metadata": {},
   "outputs": [],
   "source": [
    "tree = pd.DataFrame(tree_search.cv_results_).sort_values('rank_test_score').reset_index(drop=True)\n",
    "tree=tree[['mean_test_score', 'param_max_depth','param_min_samples_leaf', 'param_min_samples_split']]"
   ]
  },
  {
   "cell_type": "code",
   "execution_count": 44,
   "metadata": {},
   "outputs": [
    {
     "data": {
      "image/png": "[encoded data removed]",
      "text/plain": [
       "<Figure size 1080x576 with 3 Axes>"
      ]
     },
     "metadata": {
      "needs_background": "light"
     },
     "output_type": "display_data"
    }
   ],
   "source": [
    "plt.figure(figsize=(15, 8))\n",
    "plt.subplot(1, 3, 1)\n",
    "plt.ylim([0.6, 0.85])\n",
    "sns.barplot(x='param_max_depth', y=\"mean_test_score\",data=tree)\n",
    "plt.xlabel('значение max_depth')\n",
    "plt.ylabel('среднее test_score')\n",
    "plt.title('max_depth')\n",
    "\n",
    "plt.subplot(1, 3, 2)\n",
    "plt.ylim([0.6, 0.85])\n",
    "sns.barplot(x='param_min_samples_leaf', y=\"mean_test_score\",data=tree)\n",
    "plt.xlabel('значение min_samples_leaf')\n",
    "plt.ylabel('среднее test_score')\n",
    "plt.title('min_samples_leaf')\n",
    "\n",
    "plt.subplot(1, 3, 3)\n",
    "plt.ylim([0.6, 0.85])\n",
    "sns.barplot(x='param_min_samples_split', y=\"mean_test_score\",data=tree)\n",
    "plt.xlabel('значение min_samples_split')\n",
    "plt.ylabel('среднее test_score')\n",
    "plt.title('min_samples_split')\n",
    "plt.suptitle('Влияние параметров на score',y = 1,fontsize = 30)\n",
    "plt.show()"
   ]
  },
  {
   "cell_type": "markdown",
   "metadata": {},
   "source": [
    "На результат оказывают влияние параметры max_depth"
   ]
  },
  {
   "cell_type": "markdown",
   "metadata": {},
   "source": [
    "### RandomForestClassifier модель для классификации алгоритмом случайного леса"
   ]
  },
  {
   "cell_type": "code",
   "execution_count": 12,
   "metadata": {},
   "outputs": [],
   "source": [
    "parametrs = { 'n_estimators': range (10, 51, 10), 'max_depth': range (1,13, 2), 'min_samples_leaf': range (1,8), 'min_samples_split': range (2,10,2),'max_features': ['log2', 'sqrt'] }\n",
    "#создаем словарик, в который вписываем параметры, которые будем прогонять GridSearch’ем. "
   ]
  },
  {
   "cell_type": "code",
   "execution_count": 13,
   "metadata": {},
   "outputs": [
    {
     "name": "stdout",
     "output_type": "stream",
     "text": [
      "Accuracy наилучшей модели на валидационной выборке: 0.7978227060653188\n",
      "Время работы модели: 395.86732363700867\n"
     ]
    }
   ],
   "source": [
    "start = time.time()\n",
    "model_random = RandomForestClassifier(random_state=12345) #Запускаем обучение\n",
    "grid_search=GridSearchCV(model_random, parametrs, cv=5)\n",
    "grid_search.fit(features_train, target_train) \n",
    "\n",
    "print(\"Accuracy наилучшей модели на валидационной выборке:\", grid_search.score(features_valid,target_valid))\n",
    "\n",
    "end = time.time() - start \n",
    "print('Время работы модели:', end)"
   ]
  },
  {
   "cell_type": "code",
   "execution_count": 14,
   "metadata": {},
   "outputs": [
    {
     "name": "stdout",
     "output_type": "stream",
     "text": [
      "Лучший результат у модели при параметрах {'max_depth': 9, 'max_features': 'log2', 'min_samples_leaf': 1, 'min_samples_split': 6, 'n_estimators': 30}\n"
     ]
    }
   ],
   "source": [
    "print('Лучший результат у модели при параметрах', grid_search.best_params_ )"
   ]
  },
  {
   "cell_type": "markdown",
   "metadata": {},
   "source": [
    "Теперь создадим столбчатые графики, на которых, по оси Х, расположены значения гиперпараметров, а по оси Y — средние значения, показываемые моделями. Это позволит понять то, какие значения гиперпараметров, в среднем, лучше всего себя показывают."
   ]
  },
  {
   "cell_type": "code",
   "execution_count": 15,
   "metadata": {},
   "outputs": [],
   "source": [
    "rs_df = pd.DataFrame(grid_search.cv_results_).sort_values('rank_test_score').reset_index(drop=True)\n",
    "rs_df = rs_df.drop([\n",
    "            'mean_fit_time', \n",
    "            'std_fit_time', \n",
    "            'mean_score_time',\n",
    "            'std_score_time', \n",
    "            'params', \n",
    "            'split0_test_score', \n",
    "            'split1_test_score', \n",
    "            'split2_test_score', \n",
    "            'std_test_score'],\n",
    "            axis=1)"
   ]
  },
  {
   "cell_type": "code",
   "execution_count": 45,
   "metadata": {},
   "outputs": [
    {
     "data": {
      "image/png": "[encoded data removed]",
      "text/plain": [
       "<Figure size 1080x720 with 5 Axes>"
      ]
     },
     "metadata": {
      "needs_background": "light"
     },
     "output_type": "display_data"
    }
   ],
   "source": [
    "plt.figure(figsize=(15, 10))\n",
    "plt.subplot(2, 3, 1)\n",
    "plt.ylim([.72,.85])\n",
    "sns.barplot(x='param_max_depth', y=\"mean_test_score\",data=rs_df)\n",
    "plt.xlabel('значение max_depth')\n",
    "plt.ylabel('среднее test_score')\n",
    "plt.title('max_depth')\n",
    "\n",
    "plt.subplot(2, 3, 2)\n",
    "plt.ylim([0.72, 0.85])\n",
    "sns.barplot(x='param_min_samples_leaf', y=\"mean_test_score\",data=rs_df)\n",
    "plt.xlabel('значение min_samples_leaf')\n",
    "plt.ylabel('среднее test_score')\n",
    "plt.title('min_samples_leaf')\n",
    "\n",
    "plt.subplot(2, 3, 3)\n",
    "plt.ylim([0.72, 0.85])\n",
    "sns.barplot(x='param_min_samples_split', y=\"mean_test_score\",data=rs_df)\n",
    "plt.xlabel('значение min_samples_split')\n",
    "plt.ylabel('среднее test_score')\n",
    "plt.title('min_samples_split')\n",
    "\n",
    "plt.subplot(2, 3, 4)\n",
    "plt.ylim([0.72, 0.85])\n",
    "sns.barplot(x='param_max_features', y=\"mean_test_score\",data=rs_df)\n",
    "plt.xlabel('значение max_features')\n",
    "plt.ylabel('среднее test_score')\n",
    "plt.title('max_features')\n",
    "\n",
    "plt.subplot(2, 3, 5)\n",
    "plt.ylim([0.72, 0.85])\n",
    "sns.barplot(x='param_n_estimators', y=\"mean_test_score\",data=rs_df)\n",
    "plt.xlabel('значение n_estimators')\n",
    "plt.ylabel('среднее test_score')\n",
    "plt.title('n_estimators')\n",
    "\n",
    "plt.suptitle('Влияние параметров на score',y = 0.98,fontsize = 30)\n",
    "plt.show()"
   ]
  },
  {
   "cell_type": "markdown",
   "metadata": {},
   "source": [
    "На результат оказывают влияние параметры n_estimators и max_depth"
   ]
  },
  {
   "cell_type": "markdown",
   "metadata": {},
   "source": [
    "Алгоритмы не ограничиваются деревьями. Есть и другие способы классификации.\n",
    "\n",
    "### Модель LogisticRegression - логистическая регрессия"
   ]
  },
  {
   "cell_type": "code",
   "execution_count": 17,
   "metadata": {},
   "outputs": [
    {
     "name": "stdout",
     "output_type": "stream",
     "text": [
      "Fitting 10 folds for each of 30 candidates, totalling 300 fits\n",
      "Accuracy модели на валидационной выборке: 0.6174183514774495\n",
      "Время работы модели: 3.8855888843536377\n"
     ]
    }
   ],
   "source": [
    "start = time.time()\n",
    "param_lr = {\n",
    "    'max_iter': [20, 50, 100, 200, 500, 1000],                      \n",
    "    'solver': ['newton-cg', 'lbfgs', 'liblinear', 'sag', 'saga'],   \n",
    "    'class_weight': ['balanced'] \n",
    "}\n",
    "model_Logistic = GridSearchCV(estimator=LogisticRegression(random_state=1234), param_grid=param_lr, verbose=1, cv=10, n_jobs=-1)\n",
    "model_Logistic.fit(features_train, target_train)\n",
    "model_Logistic.predict(features_valid) \n",
    "print(\"Accuracy модели на валидационной выборке:\", model_Logistic.score(features_valid, target_valid) )\n",
    "\n",
    "dump(model_Logistic, 'model_9_1.joblib')\n",
    "\n",
    "end = time.time() - start \n",
    "print('Время работы модели:', end)"
   ]
  },
  {
   "cell_type": "code",
   "execution_count": 18,
   "metadata": {},
   "outputs": [
    {
     "name": "stdout",
     "output_type": "stream",
     "text": [
      "{'class_weight': 'balanced', 'max_iter': 100, 'solver': 'newton-cg'}\n"
     ]
    }
   ],
   "source": [
    "print(model_Logistic.best_params_ )"
   ]
  },
  {
   "cell_type": "code",
   "execution_count": 19,
   "metadata": {},
   "outputs": [],
   "source": [
    "logistic = pd.DataFrame(model_Logistic.cv_results_).sort_values('rank_test_score').reset_index(drop=True)\n",
    "logistic=logistic[['mean_test_score', 'param_max_iter','param_solver']]"
   ]
  },
  {
   "cell_type": "code",
   "execution_count": 31,
   "metadata": {},
   "outputs": [
    {
     "data": {
      "image/png": "[encoded data removed]",
      "text/plain": [
       "<Figure size 1080x360 with 2 Axes>"
      ]
     },
     "metadata": {
      "needs_background": "light"
     },
     "output_type": "display_data"
    }
   ],
   "source": [
    "plt.figure(figsize=(15, 5))\n",
    "plt.subplot(1, 2, 1)\n",
    "sns.barplot(x='param_max_iter', y=\"mean_test_score\",data=logistic)\n",
    "plt.xlabel('значение max_iter')\n",
    "plt.ylabel('среднее test_score')\n",
    "plt.title('max_iter')\n",
    "plt.subplot(1, 2, 2)\n",
    "plt.xticks(rotation=45)\n",
    "sns.barplot(x='param_solver', y=\"mean_test_score\",data=logistic)\n",
    "plt.xlabel('значение solver')\n",
    "plt.ylabel('среднее test_score')\n",
    "plt.title('solver')\n",
    "plt.suptitle('Влияние параметров на score',y = 1,fontsize = 20)\n",
    "plt.show()"
   ]
  },
  {
   "cell_type": "markdown",
   "metadata": {},
   "source": [
    "**Вывод**\n",
    "\n",
    "Мы обучили три модели:\n",
    "- модель для классификации деревом решений\n",
    "- модель для классификации алгоритмом случайного леса\n",
    "- модель логистическая регрессия\n",
    "\n",
    "Лучший результат у модели классификации алгоритмом случайного леса с параметрами max_depth - 9, max_features- 'log2', min_samples_leaf- 1, min_samples_split- 6, n_estimators - 30, Accuracy на валидационной выборке: 0.797.\n",
    "\n",
    "Логистическая регрессия показала метрику Accuracy  хуже остальных моделей - 0.617."
   ]
  },
  {
   "cell_type": "markdown",
   "metadata": {},
   "source": [
    "## Проверим модель на тестовой выборке"
   ]
  },
  {
   "cell_type": "markdown",
   "metadata": {},
   "source": [
    "Проверим модель случайного леса на тестовой выборке"
   ]
  },
  {
   "cell_type": "code",
   "execution_count": 21,
   "metadata": {},
   "outputs": [
    {
     "name": "stdout",
     "output_type": "stream",
     "text": [
      "Accuracy модели на тестовой выборке: 0.7993779160186625\n"
     ]
    }
   ],
   "source": [
    "test_predictions = grid_search.predict(features_test)\n",
    "print(\"Accuracy модели на тестовой выборке:\", grid_search.score(features_test, target_test) )"
   ]
  },
  {
   "cell_type": "markdown",
   "metadata": {},
   "source": [
    "## Проверим модели на адекватность"
   ]
  },
  {
   "cell_type": "markdown",
   "metadata": {},
   "source": [
    "**Матрица ошибок** для бинарной классификации"
   ]
  },
  {
   "cell_type": "code",
   "execution_count": 22,
   "metadata": {},
   "outputs": [],
   "source": [
    "predicted=pd.DataFrame(test_predictions)"
   ]
  },
  {
   "cell_type": "code",
   "execution_count": 23,
   "metadata": {},
   "outputs": [],
   "source": [
    "test=pd.DataFrame(target_test).reset_index().drop(['index'], axis=1)"
   ]
  },
  {
   "cell_type": "code",
   "execution_count": 24,
   "metadata": {},
   "outputs": [],
   "source": [
    "cm=confusion_matrix(test, predicted)"
   ]
  },
  {
   "cell_type": "code",
   "execution_count": 25,
   "metadata": {},
   "outputs": [
    {
     "data": {
      "image/png": "[encoded data removed]",
      "text/plain": [
       "<Figure size 432x288 with 2 Axes>"
      ]
     },
     "metadata": {
      "needs_background": "light"
     },
     "output_type": "display_data"
    }
   ],
   "source": [
    "disp = ConfusionMatrixDisplay(cm)\n",
    "disp.plot()\n",
    "plt.show()"
   ]
  },
  {
   "cell_type": "code",
   "execution_count": 26,
   "metadata": {
    "scrolled": true
   },
   "outputs": [
    {
     "data": {
      "text/html": [
       "<div>\n",
       "<style scoped>\n",
       "    .dataframe tbody tr th:only-of-type {\n",
       "        vertical-align: middle;\n",
       "    }\n",
       "\n",
       "    .dataframe tbody tr th {\n",
       "        vertical-align: top;\n",
       "    }\n",
       "\n",
       "    .dataframe thead th {\n",
       "        text-align: right;\n",
       "    }\n",
       "</style>\n",
       "<table border=\"1\" class=\"dataframe\">\n",
       "  <thead>\n",
       "    <tr style=\"text-align: right;\">\n",
       "      <th></th>\n",
       "      <th>0</th>\n",
       "      <th>1</th>\n",
       "    </tr>\n",
       "  </thead>\n",
       "  <tbody>\n",
       "    <tr>\n",
       "      <th>0</th>\n",
       "      <td>0.814141</td>\n",
       "      <td>0.750000</td>\n",
       "    </tr>\n",
       "    <tr>\n",
       "      <th>1</th>\n",
       "      <td>0.915909</td>\n",
       "      <td>0.546798</td>\n",
       "    </tr>\n",
       "    <tr>\n",
       "      <th>2</th>\n",
       "      <td>0.862032</td>\n",
       "      <td>0.632479</td>\n",
       "    </tr>\n",
       "    <tr>\n",
       "      <th>3</th>\n",
       "      <td>440.000000</td>\n",
       "      <td>203.000000</td>\n",
       "    </tr>\n",
       "  </tbody>\n",
       "</table>\n",
       "</div>"
      ],
      "text/plain": [
       "            0           1\n",
       "0    0.814141    0.750000\n",
       "1    0.915909    0.546798\n",
       "2    0.862032    0.632479\n",
       "3  440.000000  203.000000"
      ]
     },
     "execution_count": 26,
     "metadata": {},
     "output_type": "execute_result"
    }
   ],
   "source": [
    "from sklearn.metrics import precision_recall_fscore_support\n",
    "pd.DataFrame(precision_recall_fscore_support(test, predicted))"
   ]
  },
  {
   "cell_type": "markdown",
   "metadata": {},
   "source": [
    "- Доля правильно предсказанных пользователей тарифа 0 среди пользоватлей, отнесенных моделью к пользователям тарифа 0 составила  81%\n",
    "- Доля правильно предсказанных пользователей тарифа 1 - 75% \n",
    "- Доля истинных пользователей тарифа 0 среди пользователей, отнесенных моделью к пользователям тарифа 0 - 92% \n",
    "- А у тарифа 1- всего 55%"
   ]
  },
  {
   "cell_type": "markdown",
   "metadata": {},
   "source": [
    "**Вывод**\n",
    "\n",
    "Наша модель не очень хорошо справляется с распознованием пользователей тарифа «Ультра» — 1, совершает достаточно много ложно отрицательных ошибок. С пользователями тарифа 0 - «Смарт» доля ошибок не значительна."
   ]
  },
  {
   "cell_type": "markdown",
   "metadata": {},
   "source": [
    "**Общий вывод**\n",
    "- Предоставленные данные чистые и готовы к исследованиям\n",
    "- Были исследованы модели Decision Tree Classifier, RandomForestClassifier и Logistic Regression;\n",
    "- Наилучшую эффективность показала модель RandomForestClassifier  max_depth - 9, max_features- 'log2', min_samples_leaf- 1, min_samples_split- 6, n_estimators - 30;\n",
    "- Accuracy модели RandomForestClassifier на тестовой выборке: 0.799\n",
    "- Проверка на адекватность пройдена"
   ]
  },
  {
   "cell_type": "code",
   "execution_count": null,
   "metadata": {},
   "outputs": [],
   "source": []
  }
 ],
 "metadata": {
  "kernelspec": {
   "display_name": "Python 3",
   "language": "python",
   "name": "python3"
  },
  "language_info": {
   "codemirror_mode": {
    "name": "ipython",
    "version": 3
   },
   "file_extension": ".py",
   "mimetype": "text/x-python",
   "name": "python",
   "nbconvert_exporter": "python",
   "pygments_lexer": "ipython3",
   "version": "3.8.8"
  },
  "toc": {
   "base_numbering": 1,
   "nav_menu": {},
   "number_sections": true,
   "sideBar": true,
   "skip_h1_title": true,
   "title_cell": "Table of Contents",
   "title_sidebar": "Contents",
   "toc_cell": true,
   "toc_position": {
    "height": "calc(100% - 180px)",
    "left": "10px",
    "top": "150px",
    "width": "372.594px"
   },
   "toc_section_display": true,
   "toc_window_display": true
  }
 },
 "nbformat": 4,
 "nbformat_minor": 2
}
