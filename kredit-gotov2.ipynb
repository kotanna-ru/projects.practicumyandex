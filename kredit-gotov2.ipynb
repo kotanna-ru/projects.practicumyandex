{
 "cells": [
  {
   "cell_type": "markdown",
   "id": "663b47b1",
   "metadata": {
    "deletable": false,
    "editable": false,
    "id": "c81daeeb"
   },
   "source": [
    "# Исследование надежности заемщиков\n"
   ]
  },
   {
   "cell_type": "markdown",
   "id": "05110ce6",
   "metadata": {
    "deletable": false,
    "editable": false,
    "id": "744d7639"
   },
   "source": [
    "## Откроем таблицу и изучим общую информацию о данных"
   ]
  },
  {
   "cell_type": "markdown",
   "id": "ea296f5c",
   "metadata": {
    "deletable": false,
    "editable": false,
    "id": "e7a14c31"
   },
   "source": [
    "**1. Импортируем библиотеку pandas. Считаем данные из csv-файла в датафрейм и сохраним в переменную `data`. Путь к файлу:**\n",
    "\n",
    "`/datasets/data.csv`"
   ]
  },
  {
   "cell_type": "code",
   "execution_count": 1,
   "id": "02c72933",
   "metadata": {
    "deletable": false,
    "id": "7bcf75c9"
   },
   "outputs": [],
   "source": [
    "import pandas as pd\n",
    "try:\n",
    "    data = pd.read_csv('/datasets/data.csv')\n",
    "except:\n",
    "    data = pd.read_csv('https://code.s3.yandex.net/datasets/data.csv')\n"
   ]
  },
  {
   "cell_type": "markdown",
   "id": "180d7914",
   "metadata": {
    "deletable": false,
    "editable": false,
    "id": "b8038fe3"
   },
   "source": [
    "**2. Выведите первые 20 строчек датафрейма `data` на экран.**"
   ]
  },
  {
   "cell_type": "code",
   "execution_count": 2,
   "id": "b025d21c",
   "metadata": {
    "deletable": false,
    "id": "2a7cab99",
    "outputId": "1a8f3ef2-d323-4ec2-ddf7-89670b5944c4"
   },
   "outputs": [
    {
     "data": {
      "text/html": [
       "<div>\n",
       "<style scoped>\n",
       "    .dataframe tbody tr th:only-of-type {\n",
       "        vertical-align: middle;\n",
       "    }\n",
       "\n",
       "    .dataframe tbody tr th {\n",
       "        vertical-align: top;\n",
       "    }\n",
       "\n",
       "    .dataframe thead th {\n",
       "        text-align: right;\n",
       "    }\n",
       "</style>\n",
       "<table border=\"1\" class=\"dataframe\">\n",
       "  <thead>\n",
       "    <tr style=\"text-align: right;\">\n",
       "      <th></th>\n",
       "      <th>children</th>\n",
       "      <th>days_employed</th>\n",
       "      <th>dob_years</th>\n",
       "      <th>education</th>\n",
       "      <th>education_id</th>\n",
       "      <th>family_status</th>\n",
       "      <th>family_status_id</th>\n",
       "      <th>gender</th>\n",
       "      <th>income_type</th>\n",
       "      <th>debt</th>\n",
       "      <th>total_income</th>\n",
       "      <th>purpose</th>\n",
       "    </tr>\n",
       "  </thead>\n",
       "  <tbody>\n",
       "    <tr>\n",
       "      <th>0</th>\n",
       "      <td>1</td>\n",
       "      <td>-8437.673028</td>\n",
       "      <td>42</td>\n",
       "      <td>высшее</td>\n",
       "      <td>0</td>\n",
       "      <td>женат / замужем</td>\n",
       "      <td>0</td>\n",
       "      <td>F</td>\n",
       "      <td>сотрудник</td>\n",
       "      <td>0</td>\n",
       "      <td>253875.639453</td>\n",
       "      <td>покупка жилья</td>\n",
       "    </tr>\n",
       "    <tr>\n",
       "      <th>1</th>\n",
       "      <td>1</td>\n",
       "      <td>-4024.803754</td>\n",
       "      <td>36</td>\n",
       "      <td>среднее</td>\n",
       "      <td>1</td>\n",
       "      <td>женат / замужем</td>\n",
       "      <td>0</td>\n",
       "      <td>F</td>\n",
       "      <td>сотрудник</td>\n",
       "      <td>0</td>\n",
       "      <td>112080.014102</td>\n",
       "      <td>приобретение автомобиля</td>\n",
       "    </tr>\n",
       "    <tr>\n",
       "      <th>2</th>\n",
       "      <td>0</td>\n",
       "      <td>-5623.422610</td>\n",
       "      <td>33</td>\n",
       "      <td>Среднее</td>\n",
       "      <td>1</td>\n",
       "      <td>женат / замужем</td>\n",
       "      <td>0</td>\n",
       "      <td>M</td>\n",
       "      <td>сотрудник</td>\n",
       "      <td>0</td>\n",
       "      <td>145885.952297</td>\n",
       "      <td>покупка жилья</td>\n",
       "    </tr>\n",
       "    <tr>\n",
       "      <th>3</th>\n",
       "      <td>3</td>\n",
       "      <td>-4124.747207</td>\n",
       "      <td>32</td>\n",
       "      <td>среднее</td>\n",
       "      <td>1</td>\n",
       "      <td>женат / замужем</td>\n",
       "      <td>0</td>\n",
       "      <td>M</td>\n",
       "      <td>сотрудник</td>\n",
       "      <td>0</td>\n",
       "      <td>267628.550329</td>\n",
       "      <td>дополнительное образование</td>\n",
       "    </tr>\n",
       "    <tr>\n",
       "      <th>4</th>\n",
       "      <td>0</td>\n",
       "      <td>340266.072047</td>\n",
       "      <td>53</td>\n",
       "      <td>среднее</td>\n",
       "      <td>1</td>\n",
       "      <td>гражданский брак</td>\n",
       "      <td>1</td>\n",
       "      <td>F</td>\n",
       "      <td>пенсионер</td>\n",
       "      <td>0</td>\n",
       "      <td>158616.077870</td>\n",
       "      <td>сыграть свадьбу</td>\n",
       "    </tr>\n",
       "    <tr>\n",
       "      <th>5</th>\n",
       "      <td>0</td>\n",
       "      <td>-926.185831</td>\n",
       "      <td>27</td>\n",
       "      <td>высшее</td>\n",
       "      <td>0</td>\n",
       "      <td>гражданский брак</td>\n",
       "      <td>1</td>\n",
       "      <td>M</td>\n",
       "      <td>компаньон</td>\n",
       "      <td>0</td>\n",
       "      <td>255763.565419</td>\n",
       "      <td>покупка жилья</td>\n",
       "    </tr>\n",
       "    <tr>\n",
       "      <th>6</th>\n",
       "      <td>0</td>\n",
       "      <td>-2879.202052</td>\n",
       "      <td>43</td>\n",
       "      <td>высшее</td>\n",
       "      <td>0</td>\n",
       "      <td>женат / замужем</td>\n",
       "      <td>0</td>\n",
       "      <td>F</td>\n",
       "      <td>компаньон</td>\n",
       "      <td>0</td>\n",
       "      <td>240525.971920</td>\n",
       "      <td>операции с жильем</td>\n",
       "    </tr>\n",
       "    <tr>\n",
       "      <th>7</th>\n",
       "      <td>0</td>\n",
       "      <td>-152.779569</td>\n",
       "      <td>50</td>\n",
       "      <td>СРЕДНЕЕ</td>\n",
       "      <td>1</td>\n",
       "      <td>женат / замужем</td>\n",
       "      <td>0</td>\n",
       "      <td>M</td>\n",
       "      <td>сотрудник</td>\n",
       "      <td>0</td>\n",
       "      <td>135823.934197</td>\n",
       "      <td>образование</td>\n",
       "    </tr>\n",
       "    <tr>\n",
       "      <th>8</th>\n",
       "      <td>2</td>\n",
       "      <td>-6929.865299</td>\n",
       "      <td>35</td>\n",
       "      <td>ВЫСШЕЕ</td>\n",
       "      <td>0</td>\n",
       "      <td>гражданский брак</td>\n",
       "      <td>1</td>\n",
       "      <td>F</td>\n",
       "      <td>сотрудник</td>\n",
       "      <td>0</td>\n",
       "      <td>95856.832424</td>\n",
       "      <td>на проведение свадьбы</td>\n",
       "    </tr>\n",
       "    <tr>\n",
       "      <th>9</th>\n",
       "      <td>0</td>\n",
       "      <td>-2188.756445</td>\n",
       "      <td>41</td>\n",
       "      <td>среднее</td>\n",
       "      <td>1</td>\n",
       "      <td>женат / замужем</td>\n",
       "      <td>0</td>\n",
       "      <td>M</td>\n",
       "      <td>сотрудник</td>\n",
       "      <td>0</td>\n",
       "      <td>144425.938277</td>\n",
       "      <td>покупка жилья для семьи</td>\n",
       "    </tr>\n",
       "    <tr>\n",
       "      <th>10</th>\n",
       "      <td>2</td>\n",
       "      <td>-4171.483647</td>\n",
       "      <td>36</td>\n",
       "      <td>высшее</td>\n",
       "      <td>0</td>\n",
       "      <td>женат / замужем</td>\n",
       "      <td>0</td>\n",
       "      <td>M</td>\n",
       "      <td>компаньон</td>\n",
       "      <td>0</td>\n",
       "      <td>113943.491460</td>\n",
       "      <td>покупка недвижимости</td>\n",
       "    </tr>\n",
       "    <tr>\n",
       "      <th>11</th>\n",
       "      <td>0</td>\n",
       "      <td>-792.701887</td>\n",
       "      <td>40</td>\n",
       "      <td>среднее</td>\n",
       "      <td>1</td>\n",
       "      <td>женат / замужем</td>\n",
       "      <td>0</td>\n",
       "      <td>F</td>\n",
       "      <td>сотрудник</td>\n",
       "      <td>0</td>\n",
       "      <td>77069.234271</td>\n",
       "      <td>покупка коммерческой недвижимости</td>\n",
       "    </tr>\n",
       "    <tr>\n",
       "      <th>12</th>\n",
       "      <td>0</td>\n",
       "      <td>NaN</td>\n",
       "      <td>65</td>\n",
       "      <td>среднее</td>\n",
       "      <td>1</td>\n",
       "      <td>гражданский брак</td>\n",
       "      <td>1</td>\n",
       "      <td>M</td>\n",
       "      <td>пенсионер</td>\n",
       "      <td>0</td>\n",
       "      <td>NaN</td>\n",
       "      <td>сыграть свадьбу</td>\n",
       "    </tr>\n",
       "    <tr>\n",
       "      <th>13</th>\n",
       "      <td>0</td>\n",
       "      <td>-1846.641941</td>\n",
       "      <td>54</td>\n",
       "      <td>неоконченное высшее</td>\n",
       "      <td>2</td>\n",
       "      <td>женат / замужем</td>\n",
       "      <td>0</td>\n",
       "      <td>F</td>\n",
       "      <td>сотрудник</td>\n",
       "      <td>0</td>\n",
       "      <td>130458.228857</td>\n",
       "      <td>приобретение автомобиля</td>\n",
       "    </tr>\n",
       "    <tr>\n",
       "      <th>14</th>\n",
       "      <td>0</td>\n",
       "      <td>-1844.956182</td>\n",
       "      <td>56</td>\n",
       "      <td>высшее</td>\n",
       "      <td>0</td>\n",
       "      <td>гражданский брак</td>\n",
       "      <td>1</td>\n",
       "      <td>F</td>\n",
       "      <td>компаньон</td>\n",
       "      <td>1</td>\n",
       "      <td>165127.911772</td>\n",
       "      <td>покупка жилой недвижимости</td>\n",
       "    </tr>\n",
       "    <tr>\n",
       "      <th>15</th>\n",
       "      <td>1</td>\n",
       "      <td>-972.364419</td>\n",
       "      <td>26</td>\n",
       "      <td>среднее</td>\n",
       "      <td>1</td>\n",
       "      <td>женат / замужем</td>\n",
       "      <td>0</td>\n",
       "      <td>F</td>\n",
       "      <td>сотрудник</td>\n",
       "      <td>0</td>\n",
       "      <td>116820.904450</td>\n",
       "      <td>строительство собственной недвижимости</td>\n",
       "    </tr>\n",
       "    <tr>\n",
       "      <th>16</th>\n",
       "      <td>0</td>\n",
       "      <td>-1719.934226</td>\n",
       "      <td>35</td>\n",
       "      <td>среднее</td>\n",
       "      <td>1</td>\n",
       "      <td>женат / замужем</td>\n",
       "      <td>0</td>\n",
       "      <td>F</td>\n",
       "      <td>сотрудник</td>\n",
       "      <td>0</td>\n",
       "      <td>289202.704229</td>\n",
       "      <td>недвижимость</td>\n",
       "    </tr>\n",
       "    <tr>\n",
       "      <th>17</th>\n",
       "      <td>0</td>\n",
       "      <td>-2369.999720</td>\n",
       "      <td>33</td>\n",
       "      <td>высшее</td>\n",
       "      <td>0</td>\n",
       "      <td>гражданский брак</td>\n",
       "      <td>1</td>\n",
       "      <td>M</td>\n",
       "      <td>сотрудник</td>\n",
       "      <td>0</td>\n",
       "      <td>90410.586745</td>\n",
       "      <td>строительство недвижимости</td>\n",
       "    </tr>\n",
       "    <tr>\n",
       "      <th>18</th>\n",
       "      <td>0</td>\n",
       "      <td>400281.136913</td>\n",
       "      <td>53</td>\n",
       "      <td>среднее</td>\n",
       "      <td>1</td>\n",
       "      <td>вдовец / вдова</td>\n",
       "      <td>2</td>\n",
       "      <td>F</td>\n",
       "      <td>пенсионер</td>\n",
       "      <td>0</td>\n",
       "      <td>56823.777243</td>\n",
       "      <td>на покупку подержанного автомобиля</td>\n",
       "    </tr>\n",
       "    <tr>\n",
       "      <th>19</th>\n",
       "      <td>0</td>\n",
       "      <td>-10038.818549</td>\n",
       "      <td>48</td>\n",
       "      <td>СРЕДНЕЕ</td>\n",
       "      <td>1</td>\n",
       "      <td>в разводе</td>\n",
       "      <td>3</td>\n",
       "      <td>F</td>\n",
       "      <td>сотрудник</td>\n",
       "      <td>0</td>\n",
       "      <td>242831.107982</td>\n",
       "      <td>на покупку своего автомобиля</td>\n",
       "    </tr>\n",
       "  </tbody>\n",
       "</table>\n",
       "</div>"
      ],
      "text/plain": [
       "    children  days_employed  dob_years            education  education_id  \\\n",
       "0          1   -8437.673028         42               высшее             0   \n",
       "1          1   -4024.803754         36              среднее             1   \n",
       "2          0   -5623.422610         33              Среднее             1   \n",
       "3          3   -4124.747207         32              среднее             1   \n",
       "4          0  340266.072047         53              среднее             1   \n",
       "5          0    -926.185831         27               высшее             0   \n",
       "6          0   -2879.202052         43               высшее             0   \n",
       "7          0    -152.779569         50              СРЕДНЕЕ             1   \n",
       "8          2   -6929.865299         35               ВЫСШЕЕ             0   \n",
       "9          0   -2188.756445         41              среднее             1   \n",
       "10         2   -4171.483647         36               высшее             0   \n",
       "11         0    -792.701887         40              среднее             1   \n",
       "12         0            NaN         65              среднее             1   \n",
       "13         0   -1846.641941         54  неоконченное высшее             2   \n",
       "14         0   -1844.956182         56               высшее             0   \n",
       "15         1    -972.364419         26              среднее             1   \n",
       "16         0   -1719.934226         35              среднее             1   \n",
       "17         0   -2369.999720         33               высшее             0   \n",
       "18         0  400281.136913         53              среднее             1   \n",
       "19         0  -10038.818549         48              СРЕДНЕЕ             1   \n",
       "\n",
       "       family_status  family_status_id gender income_type  debt  \\\n",
       "0    женат / замужем                 0      F   сотрудник     0   \n",
       "1    женат / замужем                 0      F   сотрудник     0   \n",
       "2    женат / замужем                 0      M   сотрудник     0   \n",
       "3    женат / замужем                 0      M   сотрудник     0   \n",
       "4   гражданский брак                 1      F   пенсионер     0   \n",
       "5   гражданский брак                 1      M   компаньон     0   \n",
       "6    женат / замужем                 0      F   компаньон     0   \n",
       "7    женат / замужем                 0      M   сотрудник     0   \n",
       "8   гражданский брак                 1      F   сотрудник     0   \n",
       "9    женат / замужем                 0      M   сотрудник     0   \n",
       "10   женат / замужем                 0      M   компаньон     0   \n",
       "11   женат / замужем                 0      F   сотрудник     0   \n",
       "12  гражданский брак                 1      M   пенсионер     0   \n",
       "13   женат / замужем                 0      F   сотрудник     0   \n",
       "14  гражданский брак                 1      F   компаньон     1   \n",
       "15   женат / замужем                 0      F   сотрудник     0   \n",
       "16   женат / замужем                 0      F   сотрудник     0   \n",
       "17  гражданский брак                 1      M   сотрудник     0   \n",
       "18    вдовец / вдова                 2      F   пенсионер     0   \n",
       "19         в разводе                 3      F   сотрудник     0   \n",
       "\n",
       "     total_income                                 purpose  \n",
       "0   253875.639453                           покупка жилья  \n",
       "1   112080.014102                 приобретение автомобиля  \n",
       "2   145885.952297                           покупка жилья  \n",
       "3   267628.550329              дополнительное образование  \n",
       "4   158616.077870                         сыграть свадьбу  \n",
       "5   255763.565419                           покупка жилья  \n",
       "6   240525.971920                       операции с жильем  \n",
       "7   135823.934197                             образование  \n",
       "8    95856.832424                   на проведение свадьбы  \n",
       "9   144425.938277                 покупка жилья для семьи  \n",
       "10  113943.491460                    покупка недвижимости  \n",
       "11   77069.234271       покупка коммерческой недвижимости  \n",
       "12            NaN                         сыграть свадьбу  \n",
       "13  130458.228857                 приобретение автомобиля  \n",
       "14  165127.911772              покупка жилой недвижимости  \n",
       "15  116820.904450  строительство собственной недвижимости  \n",
       "16  289202.704229                            недвижимость  \n",
       "17   90410.586745              строительство недвижимости  \n",
       "18   56823.777243      на покупку подержанного автомобиля  \n",
       "19  242831.107982            на покупку своего автомобиля  "
      ]
     },
     "execution_count": 2,
     "metadata": {},
     "output_type": "execute_result"
    }
   ],
   "source": [
    "data.head(20)"
   ]
  },
  {
   "cell_type": "markdown",
   "id": "4d56d988",
   "metadata": {
    "deletable": false,
    "editable": false,
    "id": "1c12e233"
   },
   "source": [
    "** 3. Выведем основную информацию о датафрейме с помощью метода `info()`.**"
   ]
  },
  {
   "cell_type": "code",
   "execution_count": 3,
   "id": "e8405c73",
   "metadata": {
    "deletable": false,
    "id": "2b757bca",
    "outputId": "15376089-8dad-46c9-b520-c05248d43158"
   },
   "outputs": [
    {
     "name": "stdout",
     "output_type": "stream",
     "text": [
      "<class 'pandas.core.frame.DataFrame'>\n",
      "RangeIndex: 21525 entries, 0 to 21524\n",
      "Data columns (total 12 columns):\n",
      " #   Column            Non-Null Count  Dtype  \n",
      "---  ------            --------------  -----  \n",
      " 0   children          21525 non-null  int64  \n",
      " 1   days_employed     19351 non-null  float64\n",
      " 2   dob_years         21525 non-null  int64  \n",
      " 3   education         21525 non-null  object \n",
      " 4   education_id      21525 non-null  int64  \n",
      " 5   family_status     21525 non-null  object \n",
      " 6   family_status_id  21525 non-null  int64  \n",
      " 7   gender            21525 non-null  object \n",
      " 8   income_type       21525 non-null  object \n",
      " 9   debt              21525 non-null  int64  \n",
      " 10  total_income      19351 non-null  float64\n",
      " 11  purpose           21525 non-null  object \n",
      "dtypes: float64(2), int64(5), object(5)\n",
      "memory usage: 2.0+ MB\n"
     ]
    }
   ],
   "source": [
    "data.info()"
   ]
  },
  {
   "cell_type": "markdown",
   "id": "6bbd15e0",
   "metadata": {
    "deletable": false,
    "editable": false,
    "id": "333ec665"
   },
   "source": [
    "## Предобработка данных"
   ]
  },
  {
   "cell_type": "markdown",
   "id": "3f229a5c",
   "metadata": {
    "deletable": false,
    "editable": false,
    "id": "02d92d53"
   },
   "source": [
    "### Удаление пропусков"
   ]
  },
  {
   "cell_type": "markdown",
   "id": "53f3aa7d",
   "metadata": {
    "deletable": false,
    "editable": false,
    "id": "cd84967c"
   },
   "source": [
    "**4. Выведем количество пропущенных значений для каждого столбца.**"
   ]
  },
  {
   "cell_type": "code",
   "execution_count": 4,
   "id": "7f496517",
   "metadata": {
    "deletable": false,
    "id": "7f9b2309",
    "outputId": "81f4d817-781c-465c-ed15-91ce4446810d"
   },
   "outputs": [
    {
     "data": {
      "text/plain": [
       "children               0\n",
       "days_employed       2174\n",
       "dob_years              0\n",
       "education              0\n",
       "education_id           0\n",
       "family_status          0\n",
       "family_status_id       0\n",
       "gender                 0\n",
       "income_type            0\n",
       "debt                   0\n",
       "total_income        2174\n",
       "purpose                0\n",
       "dtype: int64"
      ]
     },
     "execution_count": 4,
     "metadata": {},
     "output_type": "execute_result"
    }
   ],
   "source": [
    "data.isna().sum()"
   ]
  },
  {
   "cell_type": "markdown",
   "id": "3cebe251",
   "metadata": {
    "deletable": false,
    "editable": false,
    "id": "db86e27b"
   },
   "source": [
    "**5. В двух столбцах есть пропущенные значения. Один из них — `days_employed`. Пропуски в этом столбце мы обработаем на следующем этапе. Другой столбец с пропущенными значениями — `total_income` — хранит данные о доходах. На сумму дохода сильнее всего влияет тип занятости, поэтому заполним пропуски в этом столбце медианным значением по каждому типу из столбца `income_type`. Например, у человека с типом занятости `сотрудник` пропуск в столбце `total_income` должен быть заполнен медианным доходом среди всех записей с тем же типом.**"
   ]
  },
  {
   "cell_type": "code",
   "execution_count": 5,
   "id": "f15e289f",
   "metadata": {
    "deletable": false,
    "id": "42006a93"
   },
   "outputs": [],
   "source": [
    "for t in data['income_type'].unique():\n",
    "    data.loc[(data['income_type'] == t) & (data['total_income'].isna()), 'total_income'] = \\\n",
    "    data.loc[(data['income_type'] == t), 'total_income'].median()"
   ]
  },
  {
   "cell_type": "markdown",
   "id": "f23e545c",
   "metadata": {
    "deletable": false,
    "editable": false,
    "id": "89da5ece"
   },
   "source": [
    "### Обработка аномальных значений"
   ]
  },
  {
   "cell_type": "markdown",
   "id": "403b6663",
   "metadata": {
    "deletable": false,
    "editable": false,
    "id": "57964554"
   },
   "source": [
    "**6. В данных могут встречаться артефакты (аномалии) — значения, которые не отражают действительность и появились по какой-то ошибке. таким артефактом будет отрицательное количество дней трудового стажа в столбце `days_employed`. Для реальных данных это нормально. Обработаем значения в этом столбце: заменим все отрицательные значения положительными с помощью метода `abs()`.**"
   ]
  },
  {
   "cell_type": "code",
   "execution_count": 6,
   "id": "ba3a784f",
   "metadata": {
    "deletable": false,
    "id": "f6f055bf"
   },
   "outputs": [],
   "source": [
    "data['days_employed'] = data['days_employed'].abs()"
   ]
  },
  {
   "cell_type": "markdown",
   "id": "4eec2795",
   "metadata": {
    "deletable": false,
    "editable": false,
    "id": "6107dd2f"
   },
   "source": [
    "**7. Для каждого типа занятости выведем медианное значение трудового стажа `days_employed` в днях.**"
   ]
  },
  {
   "cell_type": "code",
   "execution_count": 7,
   "id": "1de6c9b8",
   "metadata": {
    "deletable": false,
    "id": "85a5faf6",
    "outputId": "801ef80e-522b-4668-f34e-565af7432bcf"
   },
   "outputs": [
    {
     "data": {
      "text/plain": [
       "income_type\n",
       "безработный        366413.652744\n",
       "в декрете            3296.759962\n",
       "госслужащий          2689.368353\n",
       "компаньон            1547.382223\n",
       "пенсионер          365213.306266\n",
       "предприниматель       520.848083\n",
       "сотрудник            1574.202821\n",
       "студент               578.751554\n",
       "Name: days_employed, dtype: float64"
      ]
     },
     "execution_count": 7,
     "metadata": {},
     "output_type": "execute_result"
    }
   ],
   "source": [
    "data.groupby('income_type')['days_employed'].agg('median')"
   ]
  },
  {
   "cell_type": "markdown",
   "id": "a79208a9",
   "metadata": {
    "deletable": false,
    "editable": false,
    "id": "38d1a030"
   },
   "source": [
    "У двух типов (безработные и пенсионеры) получатся аномально большие значения. Исправить такие значения сложно, поэтому оставим их как есть. Тем более этот столбец не понадобится для исследования."
   ]
  },
  {
   "cell_type": "markdown",
   "id": "9fcf8aa2",
   "metadata": {
    "deletable": false,
    "editable": false,
    "id": "d8a9f147"
   },
   "source": [
    "**8. Выведем перечень уникальных значений столбца `children`.**"
   ]
  },
  {
   "cell_type": "code",
   "execution_count": 8,
   "id": "4751abed",
   "metadata": {
    "deletable": false,
    "id": "ef5056eb",
    "outputId": "6975b15c-7f95-4697-d16d-a0c79b657b03"
   },
   "outputs": [
    {
     "data": {
      "text/plain": [
       "array([ 1,  0,  3,  2, -1,  4, 20,  5], dtype=int64)"
      ]
     },
     "execution_count": 8,
     "metadata": {},
     "output_type": "execute_result"
    }
   ],
   "source": [
    "data['children'].unique()"
   ]
  },
  {
   "cell_type": "markdown",
   "id": "966e3fcf",
   "metadata": {
    "deletable": false,
    "editable": false,
    "id": "40b9ebf2"
   },
   "source": [
    "**9. В столбце `children` есть два аномальных значения. Удалим строки, в которых встречаются такие аномальные значения из датафрейма `data`.**"
   ]
  },
  {
   "cell_type": "code",
   "execution_count": 9,
   "id": "88ba7f30",
   "metadata": {
    "deletable": false,
    "id": "3ff9801d"
   },
   "outputs": [],
   "source": [
    "data = data[(data['children'] != -1) & (data['children'] != 20)]"
   ]
  },
  {
   "cell_type": "markdown",
   "id": "9e6cdd5e",
   "metadata": {
    "deletable": false,
    "editable": false,
    "id": "bbc4d0ce"
   },
   "source": [
    "**10. Ещё раз выведем перечень уникальных значений столбца `children`, чтобы убедиться, что артефакты удалены.**"
   ]
  },
  {
   "cell_type": "code",
   "execution_count": 10,
   "id": "235d6338",
   "metadata": {
    "deletable": false,
    "id": "ad4fa8b7",
    "outputId": "b2097101-d49d-44d9-901b-32a65c9463d1"
   },
   "outputs": [
    {
     "data": {
      "text/plain": [
       "array([1, 0, 3, 2, 4, 5], dtype=int64)"
      ]
     },
     "execution_count": 10,
     "metadata": {},
     "output_type": "execute_result"
    }
   ],
   "source": [
    "data['children'].unique()"
   ]
  },
  {
   "cell_type": "markdown",
   "id": "20c21c27",
   "metadata": {
    "deletable": false,
    "editable": false,
    "id": "75440b63"
   },
   "source": [
    "### Удаление пропусков (продолжение)"
   ]
  },
  {
   "cell_type": "markdown",
   "id": "305c0737",
   "metadata": {
    "deletable": false,
    "editable": false,
    "id": "f4ea573f"
   },
   "source": [
    "**11. Заполним пропуски в столбце `days_employed` медианными значениями по каждого типа занятости `income_type`.**"
   ]
  },
  {
   "cell_type": "code",
   "execution_count": 11,
   "id": "bede9639",
   "metadata": {
    "deletable": false,
    "id": "af6b1a7e"
   },
   "outputs": [],
   "source": [
    "for t in data['income_type'].unique():\n",
    "    data.loc[(data['income_type'] == t) & (data['days_employed'].isna()), 'days_employed'] = \\\n",
    "    data.loc[(data['income_type'] == t), 'days_employed'].median()"
   ]
  },
  {
   "cell_type": "markdown",
   "id": "4ecf9888",
   "metadata": {
    "deletable": false,
    "editable": false,
    "id": "2753f40d"
   },
   "source": [
    "**З12. Убедимся, что все пропуски заполнены. Проверим себя и ещё раз выведем количество пропущенных значений для каждого столбца с помощью двух методов.**"
   ]
  },
  {
   "cell_type": "code",
   "execution_count": 12,
   "id": "cbd1b444",
   "metadata": {
    "deletable": false,
    "id": "55f78bc2",
    "outputId": "8da1e4e1-358e-4e87-98c9-f261bce0a7b2"
   },
   "outputs": [
    {
     "data": {
      "text/plain": [
       "children            0\n",
       "days_employed       0\n",
       "dob_years           0\n",
       "education           0\n",
       "education_id        0\n",
       "family_status       0\n",
       "family_status_id    0\n",
       "gender              0\n",
       "income_type         0\n",
       "debt                0\n",
       "total_income        0\n",
       "purpose             0\n",
       "dtype: int64"
      ]
     },
     "execution_count": 12,
     "metadata": {},
     "output_type": "execute_result"
    }
   ],
   "source": [
    "data.isna().sum()"
   ]
  },
  {
   "cell_type": "markdown",
   "id": "7eab15a7",
   "metadata": {
    "deletable": false,
    "editable": false,
    "id": "ddc81e43"
   },
   "source": [
    "### Изменение типов данных"
   ]
  },
  {
   "cell_type": "markdown",
   "id": "45709458",
   "metadata": {
    "deletable": false,
    "editable": false,
    "id": "42d19d24"
   },
   "source": [
    "**13. Заменем вещественный тип данных в столбце `total_income` на целочисленный с помощью метода `astype()`.**"
   ]
  },
  {
   "cell_type": "code",
   "execution_count": 13,
   "id": "873b6043",
   "metadata": {
    "deletable": false,
    "id": "920b65ad"
   },
   "outputs": [],
   "source": [
    "data['total_income'] = data['total_income'].astype(int)"
   ]
  },
  {
   "cell_type": "markdown",
   "id": "4737fc4b",
   "metadata": {
    "deletable": false,
    "editable": false,
    "id": "80c420ba"
   },
   "source": [
    "### Обработка дубликатов"
   ]
  },
  {
   "cell_type": "markdown",
   "id": "f9037f41",
   "metadata": {
    "deletable": false,
    "editable": false
   },
   "source": [
    "**14. Обработаем неявные дубликаты в столбце `education`. В этом столбце есть одни и те же значения, но записанные по-разному: с использованием заглавных и строчных букв. Приведем их к нижнему регистру. Проверем остальные столбцы.**"
   ]
  },
  {
   "cell_type": "code",
   "execution_count": 14,
   "id": "30375f67",
   "metadata": {
    "deletable": false
   },
   "outputs": [],
   "source": [
    "data['education'] = data['education'].str.lower()"
   ]
  },
  {
   "cell_type": "markdown",
   "id": "d264412a",
   "metadata": {
    "deletable": false,
    "editable": false,
    "id": "dc587695"
   },
   "source": [
    "**15. Выведем на экран количество строк-дубликатов в данных. Если такие строки присутствуют, удалим их.**"
   ]
  },
  {
   "cell_type": "code",
   "execution_count": 15,
   "id": "d0671d7c",
   "metadata": {
    "deletable": false,
    "id": "3ee445e4",
    "outputId": "9684deba-1934-42d1-99e1-cda61740f822"
   },
   "outputs": [
    {
     "data": {
      "text/plain": [
       "71"
      ]
     },
     "execution_count": 15,
     "metadata": {},
     "output_type": "execute_result"
    }
   ],
   "source": [
    "data.duplicated().sum()"
   ]
  },
  {
   "cell_type": "code",
   "execution_count": 16,
   "id": "d93c89e7",
   "metadata": {
    "deletable": false,
    "id": "8575fe05"
   },
   "outputs": [],
   "source": [
    "data = data.drop_duplicates()"
   ]
  },
  {
   "cell_type": "markdown",
   "id": "aa35eb54",
   "metadata": {
    "deletable": false,
    "editable": false,
    "id": "9904cf55"
   },
   "source": [
    "### Категоризация данных"
   ]
  },
  {
   "cell_type": "markdown",
   "id": "4f62c6bc",
   "metadata": {
    "deletable": false,
    "editable": false,
    "id": "72fcc8a2"
   },
   "source": [
    "**16. На основании диапазонов, указанных ниже, создим в датафрейме `data` столбец `total_income_category` с категориями:**\n",
    "\n",
    "- 0–30000 — `'E'`;\n",
    "- 30001–50000 — `'D'`;\n",
    "- 50001–200000 — `'C'`;\n",
    "- 200001–1000000 — `'B'`;\n",
    "- 1000001 и выше — `'A'`.\n",
    "\n",
    "\n",
    "**Например, кредитополучателю с доходом 25000 нужно назначить категорию `'E'`, а клиенту, получающему 235000, — `'B'`. Используя функцию с именем `categorize_income()` и метод `apply()`.**"
   ]
  },
  {
   "cell_type": "code",
   "execution_count": 17,
   "id": "9a555918",
   "metadata": {
    "deletable": false,
    "id": "e1771346"
   },
   "outputs": [],
   "source": [
    "def categorize_income(income):\n",
    "    try:\n",
    "        if 0 <= income <= 30000:\n",
    "            return 'E'\n",
    "        elif 30001 <= income <= 50000:\n",
    "            return 'D'\n",
    "        elif 50001 <= income <= 200000:\n",
    "            return 'C'\n",
    "        elif 200001 <= income <= 1000000:\n",
    "            return 'B'\n",
    "        elif income >= 1000001:\n",
    "            return 'A'\n",
    "    except:\n",
    "        pass"
   ]
  },
  {
   "cell_type": "code",
   "execution_count": 18,
   "id": "4217c466",
   "metadata": {
    "deletable": false,
    "id": "d5f3586d"
   },
   "outputs": [],
   "source": [
    "data['total_income_category'] = data['total_income'].apply(categorize_income)"
   ]
  },
  {
   "cell_type": "markdown",
   "id": "ac2dfdc0",
   "metadata": {
    "deletable": false,
    "editable": false,
    "id": "dde49b5c"
   },
   "source": [
    "**17. Выведем на экран перечень уникальных целей взятия кредита из столбца `purpose`.**"
   ]
  },
  {
   "cell_type": "code",
   "execution_count": 19,
   "id": "fce2ccf7",
   "metadata": {
    "deletable": false,
    "id": "f67ce9b3",
    "outputId": "673c12d9-7d7e-4ae0-9812-c622c89dd244"
   },
   "outputs": [
    {
     "data": {
      "text/plain": [
       "array(['покупка жилья', 'приобретение автомобиля',\n",
       "       'дополнительное образование', 'сыграть свадьбу',\n",
       "       'операции с жильем', 'образование', 'на проведение свадьбы',\n",
       "       'покупка жилья для семьи', 'покупка недвижимости',\n",
       "       'покупка коммерческой недвижимости', 'покупка жилой недвижимости',\n",
       "       'строительство собственной недвижимости', 'недвижимость',\n",
       "       'строительство недвижимости', 'на покупку подержанного автомобиля',\n",
       "       'на покупку своего автомобиля',\n",
       "       'операции с коммерческой недвижимостью',\n",
       "       'строительство жилой недвижимости', 'жилье',\n",
       "       'операции со своей недвижимостью', 'автомобили',\n",
       "       'заняться образованием', 'сделка с подержанным автомобилем',\n",
       "       'получение образования', 'автомобиль', 'свадьба',\n",
       "       'получение дополнительного образования', 'покупка своего жилья',\n",
       "       'операции с недвижимостью', 'получение высшего образования',\n",
       "       'свой автомобиль', 'сделка с автомобилем',\n",
       "       'профильное образование', 'высшее образование',\n",
       "       'покупка жилья для сдачи', 'на покупку автомобиля', 'ремонт жилью',\n",
       "       'заняться высшим образованием'], dtype=object)"
      ]
     },
     "execution_count": 19,
     "metadata": {},
     "output_type": "execute_result"
    }
   ],
   "source": [
    "data['purpose'].unique()"
   ]
  },
  {
   "cell_type": "markdown",
   "id": "cabc7423",
   "metadata": {
    "deletable": false,
    "editable": false,
    "id": "85d0aef0"
   },
   "source": [
    "**18. Создадим функцию, которая на основании данных из столбца `purpose` сформирует новый столбец `purpose_category`, в который войдут следующие категории:**\n",
    "\n",
    "- `'операции с автомобилем'`,\n",
    "- `'операции с недвижимостью'`,\n",
    "- `'проведение свадьбы'`,\n",
    "- `'получение образования'`.\n",
    "\n",
    "**Используйте собственную функцию с именем `categorize_purpose()` и метод `apply()`. Изучим данные в столбце `purpose` и определим, какие подстроки помогут нам правильно определить категорию.**"
   ]
  },
  {
   "cell_type": "code",
   "execution_count": 20,
   "id": "a550a80b",
   "metadata": {
    "deletable": false,
    "id": "e149fab4"
   },
   "outputs": [],
   "source": [
    "def categorize_purpose(row):\n",
    "    try:\n",
    "        if 'автом' in row:\n",
    "            return 'операции с автомобилем'\n",
    "        elif 'жил' in row or 'недвиж' in row:\n",
    "            return 'операции с недвижимостью'\n",
    "        elif 'свад' in row:\n",
    "            return 'проведение свадьбы'\n",
    "        elif 'образов' in row:\n",
    "            return 'получение образования'\n",
    "    except:\n",
    "        return 'нет категории'"
   ]
  },
  {
   "cell_type": "code",
   "execution_count": 21,
   "id": "de8830fe",
   "metadata": {
    "deletable": false,
    "id": "bf36e69b"
   },
   "outputs": [],
   "source": [
    "data['purpose_category'] = data['purpose'].apply(categorize_purpose)"
   ]
  },
  {
   "cell_type": "markdown",
   "id": "272df9ef",
   "metadata": {
    "deletable": false,
    "editable": false,
    "id": "09b242bf"
   },
   "source": [
    "### Шаг 3. Исследуем данные и ответим на вопросы"
   ]
  },
  {
   "cell_type": "markdown",
   "id": "b7bee90f",
   "metadata": {
    "deletable": false,
    "editable": false,
    "id": "c5d66278"
   },
   "source": [
    "#### 3.1 Есть ли зависимость между количеством детей и возвратом кредита в срок?"
   ]
  },
  {
   "cell_type": "markdown",
   "id": "3c79c318",
   "metadata": {},
   "source": [
    "Сгруппируем данные по количеству детей, посчитаем общее число заемщиков по каждой группе и количество заемщиков, кто не вернул в срок кредит."
   ]
  },
  {
   "cell_type": "code",
   "execution_count": 22,
   "id": "d0663c1d",
   "metadata": {},
   "outputs": [],
   "source": [
    "data_cut=data.groupby('children')['debt'].agg(['count', 'sum']).rename(columns= {'count':'count_of_borrowers','sum':'not_returned'})"
   ]
  },
  {
   "cell_type": "markdown",
   "id": "5cdd16c4",
   "metadata": {},
   "source": [
    "Добавим в сводную таблицу столбик где буден виден процен таких заемщиков от общего числа"
   ]
  },
  {
   "cell_type": "code",
   "execution_count": 23,
   "id": "b023ccc1",
   "metadata": {
    "scrolled": true
   },
   "outputs": [
    {
     "data": {
      "text/html": [
       "<div>\n",
       "<style scoped>\n",
       "    .dataframe tbody tr th:only-of-type {\n",
       "        vertical-align: middle;\n",
       "    }\n",
       "\n",
       "    .dataframe tbody tr th {\n",
       "        vertical-align: top;\n",
       "    }\n",
       "\n",
       "    .dataframe thead th {\n",
       "        text-align: right;\n",
       "    }\n",
       "</style>\n",
       "<table border=\"1\" class=\"dataframe\">\n",
       "  <thead>\n",
       "    <tr style=\"text-align: right;\">\n",
       "      <th></th>\n",
       "      <th>count_of_borrowers</th>\n",
       "      <th>not_returned</th>\n",
       "      <th>percent</th>\n",
       "    </tr>\n",
       "    <tr>\n",
       "      <th>children</th>\n",
       "      <th></th>\n",
       "      <th></th>\n",
       "      <th></th>\n",
       "    </tr>\n",
       "  </thead>\n",
       "  <tbody>\n",
       "    <tr>\n",
       "      <th>5</th>\n",
       "      <td>9</td>\n",
       "      <td>0</td>\n",
       "      <td>0.00</td>\n",
       "    </tr>\n",
       "    <tr>\n",
       "      <th>0</th>\n",
       "      <td>14091</td>\n",
       "      <td>1063</td>\n",
       "      <td>7.54</td>\n",
       "    </tr>\n",
       "    <tr>\n",
       "      <th>3</th>\n",
       "      <td>330</td>\n",
       "      <td>27</td>\n",
       "      <td>8.18</td>\n",
       "    </tr>\n",
       "    <tr>\n",
       "      <th>1</th>\n",
       "      <td>4808</td>\n",
       "      <td>444</td>\n",
       "      <td>9.23</td>\n",
       "    </tr>\n",
       "    <tr>\n",
       "      <th>2</th>\n",
       "      <td>2052</td>\n",
       "      <td>194</td>\n",
       "      <td>9.45</td>\n",
       "    </tr>\n",
       "    <tr>\n",
       "      <th>4</th>\n",
       "      <td>41</td>\n",
       "      <td>4</td>\n",
       "      <td>9.76</td>\n",
       "    </tr>\n",
       "  </tbody>\n",
       "</table>\n",
       "</div>"
      ],
      "text/plain": [
       "          count_of_borrowers  not_returned  percent\n",
       "children                                           \n",
       "5                          9             0     0.00\n",
       "0                      14091          1063     7.54\n",
       "3                        330            27     8.18\n",
       "1                       4808           444     9.23\n",
       "2                       2052           194     9.45\n",
       "4                         41             4     9.76"
      ]
     },
     "execution_count": 23,
     "metadata": {},
     "output_type": "execute_result"
    }
   ],
   "source": [
    "data_cut['percent'] = round((data_cut['not_returned']/data_cut['count_of_borrowers']*100).astype('float'),2)\n",
    "data_cut.sort_values(by='percent')"
   ]
  },
  {
   "cell_type": "markdown",
   "id": "2a209609",
   "metadata": {
    "deletable": false,
    "id": "3a6b99ec"
   },
   "source": [
    "**Вывод:** "
   ]
  },
  {
   "cell_type": "markdown",
   "id": "d0301e4e",
   "metadata": {},
   "source": [
    "- Бездетные клиенты отдают кредиты на примерно 2 % лучше по сравнению с клиентами с одним или двумя детьми.\n",
    "\n",
    "- Клиенты с одним или двумя детьми находятся на одном уровне по количеству задолженностей.\n",
    "\n",
    "- Выборка по клиентам с 5 детьми слишком мала для оценки.\n",
    "\n",
    "- Самый высокий процент задолженностей имеют клиенты с четырьмя детьми.\n"
   ]
  },
  {
   "cell_type": "markdown",
   "id": "9c570b96",
   "metadata": {
    "deletable": false,
    "editable": false,
    "id": "97be82ca"
   },
   "source": [
    "#### 3.2 Есть ли зависимость между семейным положением и возвратом кредита в срок?"
   ]
  },
  {
   "cell_type": "markdown",
   "id": "ed2d445c",
   "metadata": {},
   "source": [
    "Сгруппируем данные по статусу, посчитаем общее число заемщиков по статусу семейного положения клиента и количество заемщиков, кто не вернул в срок кредит."
   ]
  },
  {
   "cell_type": "code",
   "execution_count": 24,
   "id": "564ed172",
   "metadata": {},
   "outputs": [],
   "source": [
    "data_family=data.groupby('family_status')['debt'].agg(['count', 'sum']).rename(columns= {'count':'count_status','sum':'not_returned'})"
   ]
  },
  {
   "cell_type": "markdown",
   "id": "3a314399",
   "metadata": {},
   "source": [
    "Добавим в сводную таблицу столбик где буден виден процен таких заемщиков от общего числа"
   ]
  },
  {
   "cell_type": "code",
   "execution_count": 25,
   "id": "f667d317",
   "metadata": {},
   "outputs": [
    {
     "data": {
      "text/html": [
       "<div>\n",
       "<style scoped>\n",
       "    .dataframe tbody tr th:only-of-type {\n",
       "        vertical-align: middle;\n",
       "    }\n",
       "\n",
       "    .dataframe tbody tr th {\n",
       "        vertical-align: top;\n",
       "    }\n",
       "\n",
       "    .dataframe thead th {\n",
       "        text-align: right;\n",
       "    }\n",
       "</style>\n",
       "<table border=\"1\" class=\"dataframe\">\n",
       "  <thead>\n",
       "    <tr style=\"text-align: right;\">\n",
       "      <th></th>\n",
       "      <th>count_status</th>\n",
       "      <th>not_returned</th>\n",
       "      <th>percent</th>\n",
       "    </tr>\n",
       "    <tr>\n",
       "      <th>family_status</th>\n",
       "      <th></th>\n",
       "      <th></th>\n",
       "      <th></th>\n",
       "    </tr>\n",
       "  </thead>\n",
       "  <tbody>\n",
       "    <tr>\n",
       "      <th>вдовец / вдова</th>\n",
       "      <td>951</td>\n",
       "      <td>63</td>\n",
       "      <td>6.62</td>\n",
       "    </tr>\n",
       "    <tr>\n",
       "      <th>в разводе</th>\n",
       "      <td>1189</td>\n",
       "      <td>84</td>\n",
       "      <td>7.06</td>\n",
       "    </tr>\n",
       "    <tr>\n",
       "      <th>женат / замужем</th>\n",
       "      <td>12261</td>\n",
       "      <td>927</td>\n",
       "      <td>7.56</td>\n",
       "    </tr>\n",
       "    <tr>\n",
       "      <th>гражданский брак</th>\n",
       "      <td>4134</td>\n",
       "      <td>385</td>\n",
       "      <td>9.31</td>\n",
       "    </tr>\n",
       "    <tr>\n",
       "      <th>Не женат / не замужем</th>\n",
       "      <td>2796</td>\n",
       "      <td>273</td>\n",
       "      <td>9.76</td>\n",
       "    </tr>\n",
       "  </tbody>\n",
       "</table>\n",
       "</div>"
      ],
      "text/plain": [
       "                       count_status  not_returned  percent\n",
       "family_status                                             \n",
       "вдовец / вдова                  951            63     6.62\n",
       "в разводе                      1189            84     7.06\n",
       "женат / замужем               12261           927     7.56\n",
       "гражданский брак               4134           385     9.31\n",
       "Не женат / не замужем          2796           273     9.76"
      ]
     },
     "execution_count": 25,
     "metadata": {},
     "output_type": "execute_result"
    }
   ],
   "source": [
    "data_family['percent'] = round((data_family['not_returned']/data_family['count_status']*100).astype('float'),2)\n",
    "data_family.sort_values(by='percent')"
   ]
  },
  {
   "cell_type": "markdown",
   "id": "039f631e",
   "metadata": {
    "deletable": false,
    "id": "1cef7837"
   },
   "source": [
    "**Вывод:** "
   ]
  },
  {
   "cell_type": "markdown",
   "id": "f5d012e7",
   "metadata": {},
   "source": [
    " - Клиенты в категории вдовец / вдова имеют самый низкий процент просрочек. Далее на пол процента больше просрочек у клиентов в категории в разводе.\n",
    " \n",
    "\n",
    " - У клиентов состоящих в официальном браке примерно такой же процент. \n",
    " \n",
    "\n",
    " - Клиенты не состоящие в официальном браке (гражданский брак или не женат/не замужем) имеют самый высокий процент по не возврату кредита.\n",
    " \n",
    "Данные показывают не большую, но все же разницу в возврате кредита в срок между клиентами:\n",
    "\n",
    "Клиенты состоящие в официальном браке в настоящий момент или в прошлом  примерно на 2-3%  меньше задолженностей, чем клиенты в гражданском браке или не в браке."
   ]
  },
  {
   "cell_type": "markdown",
   "id": "ffadd2a8",
   "metadata": {
    "deletable": false,
    "editable": false,
    "id": "1e8b2fca"
   },
   "source": [
    "#### 3.3 Есть ли зависимость между уровнем дохода и возвратом кредита в срок?"
   ]
  },
  {
   "cell_type": "markdown",
   "id": "b95a1a86",
   "metadata": {},
   "source": [
    "Создадим новую таблицу где будут копии колонок с данными о задолжности и доходом клиентов."
   ]
  },
  {
   "cell_type": "code",
   "execution_count": 26,
   "id": "ee343049",
   "metadata": {},
   "outputs": [
    {
     "data": {
      "text/html": [
       "<div>\n",
       "<style scoped>\n",
       "    .dataframe tbody tr th:only-of-type {\n",
       "        vertical-align: middle;\n",
       "    }\n",
       "\n",
       "    .dataframe tbody tr th {\n",
       "        vertical-align: top;\n",
       "    }\n",
       "\n",
       "    .dataframe thead th {\n",
       "        text-align: right;\n",
       "    }\n",
       "</style>\n",
       "<table border=\"1\" class=\"dataframe\">\n",
       "  <thead>\n",
       "    <tr style=\"text-align: right;\">\n",
       "      <th></th>\n",
       "      <th>total_income</th>\n",
       "      <th>debt</th>\n",
       "    </tr>\n",
       "  </thead>\n",
       "  <tbody>\n",
       "    <tr>\n",
       "      <th>0</th>\n",
       "      <td>253875</td>\n",
       "      <td>0</td>\n",
       "    </tr>\n",
       "    <tr>\n",
       "      <th>1</th>\n",
       "      <td>112080</td>\n",
       "      <td>0</td>\n",
       "    </tr>\n",
       "    <tr>\n",
       "      <th>2</th>\n",
       "      <td>145885</td>\n",
       "      <td>0</td>\n",
       "    </tr>\n",
       "    <tr>\n",
       "      <th>3</th>\n",
       "      <td>267628</td>\n",
       "      <td>0</td>\n",
       "    </tr>\n",
       "    <tr>\n",
       "      <th>4</th>\n",
       "      <td>158616</td>\n",
       "      <td>0</td>\n",
       "    </tr>\n",
       "  </tbody>\n",
       "</table>\n",
       "</div>"
      ],
      "text/plain": [
       "   total_income  debt\n",
       "0        253875     0\n",
       "1        112080     0\n",
       "2        145885     0\n",
       "3        267628     0\n",
       "4        158616     0"
      ]
     },
     "execution_count": 26,
     "metadata": {},
     "output_type": "execute_result"
    }
   ],
   "source": [
    "total_income=data.loc[:, ['total_income','debt']]\n",
    "total_income.head()"
   ]
  },
  {
   "cell_type": "markdown",
   "id": "81198a6d",
   "metadata": {},
   "source": [
    "Разделим доход клиентов на 4 категории по значениям процентилей:\n",
    "\n",
    "- низкий - доход не превышающий 25% \n",
    "\n",
    "- средний - в диапазоне от 25% до 50%\n",
    "\n",
    "- высокий - в диапазоне от 50% до 75%\n",
    "\n",
    "- очень высокий - превышающий 75% \n",
    "\n",
    "посмотрим размер процентилей, выведем на экран:"
   ]
  },
  {
   "cell_type": "code",
   "execution_count": 27,
   "id": "1cef48d1",
   "metadata": {},
   "outputs": [
    {
     "data": {
      "text/plain": [
       "count      21331\n",
       "mean      165342\n",
       "std        98313\n",
       "min        20667\n",
       "25%       107507\n",
       "50%       142594\n",
       "75%       195842\n",
       "max      2265604\n",
       "Name: total_income, dtype: int64"
      ]
     },
     "execution_count": 27,
     "metadata": {},
     "output_type": "execute_result"
    }
   ],
   "source": [
    "total_income['total_income'].describe().astype('int64')"
   ]
  },
  {
   "cell_type": "markdown",
   "id": "497b2e5c",
   "metadata": {},
   "source": [
    "- низкий - доход не превышающий 107,507\n",
    "\n",
    "- средний - в диапазоне от 107,507 до 142,594\n",
    "\n",
    "- высокий - в диапазоне от 142,594 до 195,842\n",
    "\n",
    "- очень высокий - превышающий 195,842"
   ]
  },
  {
   "cell_type": "code",
   "execution_count": 28,
   "id": "ff63df49",
   "metadata": {
    "scrolled": true
   },
   "outputs": [
    {
     "data": {
      "text/html": [
       "<div>\n",
       "<style scoped>\n",
       "    .dataframe tbody tr th:only-of-type {\n",
       "        vertical-align: middle;\n",
       "    }\n",
       "\n",
       "    .dataframe tbody tr th {\n",
       "        vertical-align: top;\n",
       "    }\n",
       "\n",
       "    .dataframe thead th {\n",
       "        text-align: right;\n",
       "    }\n",
       "</style>\n",
       "<table border=\"1\" class=\"dataframe\">\n",
       "  <thead>\n",
       "    <tr style=\"text-align: right;\">\n",
       "      <th></th>\n",
       "      <th>total_income</th>\n",
       "      <th>debt</th>\n",
       "      <th>categorize</th>\n",
       "    </tr>\n",
       "  </thead>\n",
       "  <tbody>\n",
       "    <tr>\n",
       "      <th>0</th>\n",
       "      <td>253875</td>\n",
       "      <td>0</td>\n",
       "      <td>очень высокий</td>\n",
       "    </tr>\n",
       "    <tr>\n",
       "      <th>1</th>\n",
       "      <td>112080</td>\n",
       "      <td>0</td>\n",
       "      <td>средний</td>\n",
       "    </tr>\n",
       "    <tr>\n",
       "      <th>2</th>\n",
       "      <td>145885</td>\n",
       "      <td>0</td>\n",
       "      <td>высокий</td>\n",
       "    </tr>\n",
       "    <tr>\n",
       "      <th>3</th>\n",
       "      <td>267628</td>\n",
       "      <td>0</td>\n",
       "      <td>очень высокий</td>\n",
       "    </tr>\n",
       "    <tr>\n",
       "      <th>4</th>\n",
       "      <td>158616</td>\n",
       "      <td>0</td>\n",
       "      <td>высокий</td>\n",
       "    </tr>\n",
       "  </tbody>\n",
       "</table>\n",
       "</div>"
      ],
      "text/plain": [
       "   total_income  debt     categorize\n",
       "0        253875     0  очень высокий\n",
       "1        112080     0        средний\n",
       "2        145885     0        высокий\n",
       "3        267628     0  очень высокий\n",
       "4        158616     0        высокий"
      ]
     },
     "execution_count": 28,
     "metadata": {},
     "output_type": "execute_result"
    }
   ],
   "source": [
    "categorize_income_4= ['низкий', 'средний', 'высокий', 'очень высокий']\n",
    "\n",
    "total_income['categorize'] = pd.qcut(total_income['total_income'],q=4, labels=categorize_income_4)\n",
    "total_income.head()"
   ]
  },
  {
   "cell_type": "markdown",
   "id": "5954f767",
   "metadata": {
    "deletable": false,
    "id": "dc3f7ee8"
   },
   "source": [
    "Сгруппируем данные  по уровню дохода, посчитаем общее число заемщиков по каждому уровню и количество заемщиков, кто не вернул в срок кредит."
   ]
  },
  {
   "cell_type": "code",
   "execution_count": 29,
   "id": "78d1ce22",
   "metadata": {
    "deletable": false,
    "id": "cd7e3720"
   },
   "outputs": [],
   "source": [
    "total_income=total_income.groupby('categorize')['debt'].agg(['count', 'sum']).rename(columns= {'count':'count_category','sum':'not_returned'})"
   ]
  },
  {
   "cell_type": "markdown",
   "id": "87195d3e",
   "metadata": {
    "deletable": false,
    "id": "2cacfc4a"
   },
   "source": [
    "Добавим в сводную таблицу столбец где буден виден процент таких заемщиков от общего числа"
   ]
  },
  {
   "cell_type": "code",
   "execution_count": 30,
   "id": "fbde81a9",
   "metadata": {},
   "outputs": [
    {
     "data": {
      "text/html": [
       "<div>\n",
       "<style scoped>\n",
       "    .dataframe tbody tr th:only-of-type {\n",
       "        vertical-align: middle;\n",
       "    }\n",
       "\n",
       "    .dataframe tbody tr th {\n",
       "        vertical-align: top;\n",
       "    }\n",
       "\n",
       "    .dataframe thead th {\n",
       "        text-align: right;\n",
       "    }\n",
       "</style>\n",
       "<table border=\"1\" class=\"dataframe\">\n",
       "  <thead>\n",
       "    <tr style=\"text-align: right;\">\n",
       "      <th></th>\n",
       "      <th>count_category</th>\n",
       "      <th>not_returned</th>\n",
       "      <th>percent</th>\n",
       "    </tr>\n",
       "    <tr>\n",
       "      <th>categorize</th>\n",
       "      <th></th>\n",
       "      <th></th>\n",
       "      <th></th>\n",
       "    </tr>\n",
       "  </thead>\n",
       "  <tbody>\n",
       "    <tr>\n",
       "      <th>очень высокий</th>\n",
       "      <td>5332</td>\n",
       "      <td>381</td>\n",
       "      <td>7.15</td>\n",
       "    </tr>\n",
       "    <tr>\n",
       "      <th>низкий</th>\n",
       "      <td>5333</td>\n",
       "      <td>427</td>\n",
       "      <td>8.01</td>\n",
       "    </tr>\n",
       "    <tr>\n",
       "      <th>высокий</th>\n",
       "      <td>5216</td>\n",
       "      <td>444</td>\n",
       "      <td>8.51</td>\n",
       "    </tr>\n",
       "    <tr>\n",
       "      <th>средний</th>\n",
       "      <td>5450</td>\n",
       "      <td>480</td>\n",
       "      <td>8.81</td>\n",
       "    </tr>\n",
       "  </tbody>\n",
       "</table>\n",
       "</div>"
      ],
      "text/plain": [
       "               count_category  not_returned  percent\n",
       "categorize                                          \n",
       "очень высокий            5332           381     7.15\n",
       "низкий                   5333           427     8.01\n",
       "высокий                  5216           444     8.51\n",
       "средний                  5450           480     8.81"
      ]
     },
     "execution_count": 30,
     "metadata": {},
     "output_type": "execute_result"
    }
   ],
   "source": [
    "total_income['percent'] = round((total_income['not_returned']/total_income['count_category']*100).astype('float'),2)\n",
    "total_income.sort_values(by='percent')"
   ]
  },
  {
   "cell_type": "markdown",
   "id": "bfe3898d",
   "metadata": {
    "deletable": false,
    "id": "e8593def"
   },
   "source": [
    "**Вывод:** "
   ]
  },
  {
   "cell_type": "markdown",
   "id": "a335e570",
   "metadata": {},
   "source": [
    "Данные показывают что уровень дохода не оказывает сильного влияния на возврат кредита в срок:\n",
    "\n",
    "- Клиенты с очень высоким доходом имеют самый низкий процент просрочек.\n",
    "\n",
    "- Клиенты с низким доходом возвращают кредит на 0,5%-0,8% чаще в срок, чем клиенты с высоким и средним доходом"
   ]
  },
  {
   "cell_type": "markdown",
   "id": "e86c5213",
   "metadata": {
    "deletable": false,
    "editable": false,
    "id": "99ecbd1f"
   },
   "source": [
    "#### 3.4 Как разные цели кредита влияют на его возврат в срок?"
   ]
  },
  {
   "cell_type": "markdown",
   "id": "1c651f18",
   "metadata": {},
   "source": [
    "Сгруппируем данные  по категориям целей на кредит, посчитаем общее число заемщиков по категориям и количество заемщиков, кто не вернул в срок кредит."
   ]
  },
  {
   "cell_type": "code",
   "execution_count": 31,
   "id": "fa381fdd",
   "metadata": {
    "deletable": false,
    "id": "2b687290"
   },
   "outputs": [],
   "source": [
    "purpose_category=data.groupby('purpose_category')['debt'].agg(['count', 'sum']).rename(columns= {'count':'count_category','sum':'not_returned'})"
   ]
  },
  {
   "cell_type": "markdown",
   "id": "a3d64064",
   "metadata": {},
   "source": [
    "Добавим в сводную таблицу столбик где буден виден процент таких заемщиков от общего числа"
   ]
  },
  {
   "cell_type": "code",
   "execution_count": 32,
   "id": "3f2667e9",
   "metadata": {},
   "outputs": [
    {
     "data": {
      "text/html": [
       "<div>\n",
       "<style scoped>\n",
       "    .dataframe tbody tr th:only-of-type {\n",
       "        vertical-align: middle;\n",
       "    }\n",
       "\n",
       "    .dataframe tbody tr th {\n",
       "        vertical-align: top;\n",
       "    }\n",
       "\n",
       "    .dataframe thead th {\n",
       "        text-align: right;\n",
       "    }\n",
       "</style>\n",
       "<table border=\"1\" class=\"dataframe\">\n",
       "  <thead>\n",
       "    <tr style=\"text-align: right;\">\n",
       "      <th></th>\n",
       "      <th>count_category</th>\n",
       "      <th>not_returned</th>\n",
       "      <th>percent</th>\n",
       "    </tr>\n",
       "    <tr>\n",
       "      <th>purpose_category</th>\n",
       "      <th></th>\n",
       "      <th></th>\n",
       "      <th></th>\n",
       "    </tr>\n",
       "  </thead>\n",
       "  <tbody>\n",
       "    <tr>\n",
       "      <th>операции с недвижимостью</th>\n",
       "      <td>10751</td>\n",
       "      <td>780</td>\n",
       "      <td>7.26</td>\n",
       "    </tr>\n",
       "    <tr>\n",
       "      <th>проведение свадьбы</th>\n",
       "      <td>2313</td>\n",
       "      <td>183</td>\n",
       "      <td>7.91</td>\n",
       "    </tr>\n",
       "    <tr>\n",
       "      <th>получение образования</th>\n",
       "      <td>3988</td>\n",
       "      <td>369</td>\n",
       "      <td>9.25</td>\n",
       "    </tr>\n",
       "    <tr>\n",
       "      <th>операции с автомобилем</th>\n",
       "      <td>4279</td>\n",
       "      <td>400</td>\n",
       "      <td>9.35</td>\n",
       "    </tr>\n",
       "  </tbody>\n",
       "</table>\n",
       "</div>"
      ],
      "text/plain": [
       "                          count_category  not_returned  percent\n",
       "purpose_category                                               \n",
       "операции с недвижимостью           10751           780     7.26\n",
       "проведение свадьбы                  2313           183     7.91\n",
       "получение образования               3988           369     9.25\n",
       "операции с автомобилем              4279           400     9.35"
      ]
     },
     "execution_count": 32,
     "metadata": {},
     "output_type": "execute_result"
    }
   ],
   "source": [
    "purpose_category['percent'] = round((purpose_category['not_returned']/purpose_category['count_category']*100).astype('float'),2)\n",
    "purpose_category.sort_values(by='percent')"
   ]
  },
  {
   "cell_type": "markdown",
   "id": "dbec5b44",
   "metadata": {
    "deletable": false,
    "id": "b4bb2ce6"
   },
   "source": [
    "**Вывод:** "
   ]
  },
  {
   "cell_type": "markdown",
   "id": "d89b99af",
   "metadata": {},
   "source": [
    "Данные показывают, что клиенты, выбиравшие разные цели для кредита по-разному погашают кредит в срок:\n",
    "\n",
    "Клиенты, оформившие кредит для операций с недвижимостью на 2% лучше отдают кредиты по сравнению с клиентами, взявшими кредит на получение образования или на операции с автомобилем. Клиенты, оформившие кредит для проведения свадьбы отдают кредит во время примерно на том же уровне, что и клиенты взявшие кредит для операций с недвижимостью."
   ]
  },
  {
   "cell_type": "markdown",
   "id": "4231e97e",
   "metadata": {
    "deletable": false,
    "editable": false,
    "id": "09c3ac4c"
   },
   "source": [
    "#### 3.5 Возможные причины появления пропусков в исходных данных."
   ]
  },
  {
   "cell_type": "markdown",
   "id": "2bc12b86",
   "metadata": {
    "deletable": false,
    "id": "9da2ceda"
   },
   "source": [
    "Количество значений в столбцах days_employed и total_income различается. Значит, в данных есть пропущенные значения. На практике было бы правильно установить причину пропусков и восстановить данные. Такой возможности нет.\n",
    "\n",
    "Но можно предположить, что эти графы остались пустыми т.к. клиент никогда не работал (days_employed — общий трудовой стаж в днях) и не имеет ежемесячного дохода (total_income — ежемесячный доход) т.к. не работает в настоящий момент. Это можно проверить, выбрав строки с пустыми значениями total_income — ежемесячный доход и посмотреть, что стоит в income_type — тип занятости.\n",
    "\n",
    "Просмотрев строки. Я пришла к выводу что, при выгрузке данных произошёл сбой, и пропуски появились по не известному нам принципу в одних и тех же строках в двух столбцах. \n"
   ]
  },
  {
   "cell_type": "markdown",
   "id": "f0f9ee74",
   "metadata": {
    "deletable": false,
    "editable": false,
    "id": "7b0487d6"
   },
   "source": [
    "#### 3.6 Почему заполнить пропуски медианным значением — лучшее решение для количественных переменных."
   ]
  },
  {
   "cell_type": "markdown",
   "id": "4ee83c4a",
   "metadata": {
    "deletable": false,
    "id": "7ecf2b8e"
   },
   "source": [
    "Так как пропуски в таблице присутствуют в столбцах с количественных переменными, их стоит заполнить медианным значением по столбцу так как на ее величину не влияют случайные выбросы."
   ]
  },
  {
   "cell_type": "markdown",
   "id": "9c8f6436",
   "metadata": {
    "deletable": false,
    "editable": false,
    "id": "6db5255a"
   },
   "source": [
    "### Шаг 4: общий вывод."
   ]
  },
  {
   "cell_type": "markdown",
   "id": "ab70ebcc",
   "metadata": {
    "deletable": false,
    "id": "bad65432"
   },
   "source": [
    "\n",
    "Перед проверкой гипотез был проведен обзор и предобработка данных:\n",
    "- Проверка данных на пропущенные значения выявила пропуски в двух столбцах. Они были заполнены медианным значением.\n",
    "- Затем, были удалены артефакты (аномалии) — значения, которые не отражают действительность и появились по какой-то ошибке и строки-дубликаты.\n",
    "- Для проведения анализа о влиянии размера дохода на срок возвращения кредита, все клиенты были разделены на категории в зависимости от  размера их дохода.\n",
    "- Так же для ответа на вопрос  как разные цели кредита влияют на его возврат в срок, необходимо было произвести категоризацию  целей кредита \n",
    "\n",
    "\n",
    "Мы проверили четыре гипотезы и установили:\n",
    "\n",
    "1. Бездетные клиенты отдают кредиты на примерно 2 % лучше по сравнению с клиентами у которых есть дети. При этом само количество детей не сильно влияет на  процент возврата кредита вовремя.\n",
    "\n",
    "2. Клиенты, которые официально оформляют брак более ответственно подходят и к срокам возврата кредита. Даже если их брак расторгнут или они овдовели.\n",
    "\n",
    "3. Клиенты, имеющие очень высокий доход, отдают кредит в срок на 1-1,5% выше, чем клиенты со средним доходом, что возможно ожидаемо. Но как оказалось даже клиенты, с низким доходом возвращают кредит на 0,5%-0,8% чаще в срок, чем клиенты с высоким и средним доходом.\n",
    "Этот результат мог оказаться иным, если бы не пропуски в данных.\n",
    "\n",
    "4. Клиенты планирующие потрать заемные средства на недвижимость, более ответственно подходят к возврату кредита в срок чем клиенты желающие приобрести автомобиль или оплатить образование. Так же клиенты, вступающие в брак показали себя лучше чем автолюбители.\n",
    "\n",
    "Из проведённого анализа можно сделать вывод, что клиент, состоящий в браке в прошлом или на сегодняшний день, не имеющий детей, является предпочтительным клиентом для получения кредита  с целью приобрести недвижимость.\n"
   ]
  },
  {
   "cell_type": "code",
   "execution_count": null,
   "id": "ec43f581",
   "metadata": {},
   "outputs": [],
   "source": []
  }
 ],
 "metadata": {
  "ExecuteTimeLog": [
   {
    "duration": 460,
    "start_time": "2023-02-01T17:34:50.663Z"
   },
   {
    "duration": 64,
    "start_time": "2023-02-01T17:45:34.303Z"
   },
   {
    "duration": 73,
    "start_time": "2023-02-01T17:45:42.838Z"
   },
   {
    "duration": 21,
    "start_time": "2023-02-01T17:45:42.912Z"
   },
   {
    "duration": 44,
    "start_time": "2023-02-01T17:45:42.934Z"
   },
   {
    "duration": 11,
    "start_time": "2023-02-01T17:45:42.981Z"
   },
   {
    "duration": 34,
    "start_time": "2023-02-01T17:45:42.994Z"
   },
   {
    "duration": 3,
    "start_time": "2023-02-01T17:45:43.030Z"
   },
   {
    "duration": 27,
    "start_time": "2023-02-01T17:45:43.034Z"
   },
   {
    "duration": 6,
    "start_time": "2023-02-01T17:45:43.065Z"
   },
   {
    "duration": 16,
    "start_time": "2023-02-01T17:45:43.074Z"
   },
   {
    "duration": 13,
    "start_time": "2023-02-01T17:45:43.092Z"
   },
   {
    "duration": 61,
    "start_time": "2023-02-01T17:45:43.106Z"
   },
   {
    "duration": 13,
    "start_time": "2023-02-01T17:45:43.170Z"
   },
   {
    "duration": 20,
    "start_time": "2023-02-01T17:45:43.185Z"
   },
   {
    "duration": 111,
    "start_time": "2023-02-01T17:45:43.207Z"
   },
   {
    "duration": 24,
    "start_time": "2023-02-01T17:45:43.320Z"
   },
   {
    "duration": 17,
    "start_time": "2023-02-01T17:45:43.345Z"
   },
   {
    "duration": 4,
    "start_time": "2023-02-01T17:45:43.363Z"
   },
   {
    "duration": 28,
    "start_time": "2023-02-01T17:45:43.369Z"
   },
   {
    "duration": 14,
    "start_time": "2023-02-01T17:45:43.399Z"
   },
   {
    "duration": 8,
    "start_time": "2023-02-01T17:45:43.415Z"
   },
   {
    "duration": 13,
    "start_time": "2023-02-01T17:45:43.425Z"
   },
   {
    "duration": 9,
    "start_time": "2023-02-01T17:45:46.926Z"
   },
   {
    "duration": 1237,
    "start_time": "2023-02-01T17:46:07.262Z"
   },
   {
    "duration": 14,
    "start_time": "2023-02-01T17:48:41.198Z"
   },
   {
    "duration": 66,
    "start_time": "2023-02-01T17:55:49.580Z"
   },
   {
    "duration": 70,
    "start_time": "2023-02-01T17:57:36.245Z"
   },
   {
    "duration": 6,
    "start_time": "2023-02-01T18:05:39.815Z"
   },
   {
    "duration": 9,
    "start_time": "2023-02-01T18:12:30.484Z"
   },
   {
    "duration": 27,
    "start_time": "2023-02-01T18:13:50.632Z"
   },
   {
    "duration": 7,
    "start_time": "2023-02-01T18:14:12.119Z"
   },
   {
    "duration": 7,
    "start_time": "2023-02-01T18:16:55.184Z"
   },
   {
    "duration": 56,
    "start_time": "2023-02-01T18:21:14.643Z"
   },
   {
    "duration": 8,
    "start_time": "2023-02-01T18:21:33.085Z"
   },
   {
    "duration": 10,
    "start_time": "2023-02-01T18:22:43.986Z"
   },
   {
    "duration": 19,
    "start_time": "2023-02-01T18:22:49.423Z"
   },
   {
    "duration": 29,
    "start_time": "2023-02-01T18:22:59.270Z"
   },
   {
    "duration": 30,
    "start_time": "2023-02-01T18:24:14.026Z"
   },
   {
    "duration": 8,
    "start_time": "2023-02-01T18:25:29.143Z"
   },
   {
    "duration": 8,
    "start_time": "2023-02-01T18:25:33.782Z"
   },
   {
    "duration": 59,
    "start_time": "2023-02-01T18:25:37.542Z"
   },
   {
    "duration": 9,
    "start_time": "2023-02-01T18:26:41.788Z"
   },
   {
    "duration": 9,
    "start_time": "2023-02-01T18:26:54.517Z"
   },
   {
    "duration": 10,
    "start_time": "2023-02-01T18:27:00.981Z"
   },
   {
    "duration": 8,
    "start_time": "2023-02-01T18:27:54.529Z"
   },
   {
    "duration": 46,
    "start_time": "2023-02-01T18:28:00.495Z"
   },
   {
    "duration": 73,
    "start_time": "2023-02-01T18:28:33.550Z"
   },
   {
    "duration": 7,
    "start_time": "2023-02-01T18:28:40.622Z"
   },
   {
    "duration": 8,
    "start_time": "2023-02-01T18:29:02.094Z"
   },
   {
    "duration": 55,
    "start_time": "2023-02-01T18:29:10.052Z"
   },
   {
    "duration": 450,
    "start_time": "2023-02-02T05:11:07.886Z"
   },
   {
    "duration": 21,
    "start_time": "2023-02-02T05:11:08.338Z"
   },
   {
    "duration": 18,
    "start_time": "2023-02-02T05:11:08.360Z"
   },
   {
    "duration": 14,
    "start_time": "2023-02-02T05:11:08.379Z"
   },
   {
    "duration": 44,
    "start_time": "2023-02-02T05:11:08.395Z"
   },
   {
    "duration": 4,
    "start_time": "2023-02-02T05:11:08.441Z"
   },
   {
    "duration": 11,
    "start_time": "2023-02-02T05:11:08.446Z"
   },
   {
    "duration": 4,
    "start_time": "2023-02-02T05:11:08.459Z"
   },
   {
    "duration": 8,
    "start_time": "2023-02-02T05:11:08.465Z"
   },
   {
    "duration": 4,
    "start_time": "2023-02-02T05:11:08.475Z"
   },
   {
    "duration": 56,
    "start_time": "2023-02-02T05:11:08.481Z"
   },
   {
    "duration": 10,
    "start_time": "2023-02-02T05:11:08.539Z"
   },
   {
    "duration": 4,
    "start_time": "2023-02-02T05:11:08.550Z"
   },
   {
    "duration": 10,
    "start_time": "2023-02-02T05:11:08.557Z"
   },
   {
    "duration": 19,
    "start_time": "2023-02-02T05:11:08.568Z"
   },
   {
    "duration": 15,
    "start_time": "2023-02-02T05:11:08.589Z"
   },
   {
    "duration": 32,
    "start_time": "2023-02-02T05:11:08.605Z"
   },
   {
    "duration": 10,
    "start_time": "2023-02-02T05:11:08.639Z"
   },
   {
    "duration": 13,
    "start_time": "2023-02-02T05:11:08.651Z"
   },
   {
    "duration": 6,
    "start_time": "2023-02-02T05:11:08.665Z"
   },
   {
    "duration": 12,
    "start_time": "2023-02-02T05:11:08.673Z"
   },
   {
    "duration": 7,
    "start_time": "2023-02-02T05:11:31.723Z"
   },
   {
    "duration": 8,
    "start_time": "2023-02-02T05:11:49.333Z"
   },
   {
    "duration": 8,
    "start_time": "2023-02-02T05:23:05.716Z"
   },
   {
    "duration": 5,
    "start_time": "2023-02-02T05:26:48.489Z"
   },
   {
    "duration": 8,
    "start_time": "2023-02-02T05:26:54.651Z"
   },
   {
    "duration": 83,
    "start_time": "2023-02-02T05:27:36.139Z"
   },
   {
    "duration": 1252,
    "start_time": "2023-02-02T05:27:48.920Z"
   },
   {
    "duration": 1230,
    "start_time": "2023-02-02T05:31:20.943Z"
   },
   {
    "duration": 1182,
    "start_time": "2023-02-02T05:42:29.358Z"
   },
   {
    "duration": 88,
    "start_time": "2023-02-02T06:07:18.396Z"
   },
   {
    "duration": 75,
    "start_time": "2023-02-02T06:07:36.582Z"
   },
   {
    "duration": 72,
    "start_time": "2023-02-02T06:07:41.785Z"
   },
   {
    "duration": 78,
    "start_time": "2023-02-02T06:07:54.460Z"
   },
   {
    "duration": 96,
    "start_time": "2023-02-02T06:08:21.763Z"
   },
   {
    "duration": 1237,
    "start_time": "2023-02-02T06:08:44.181Z"
   },
   {
    "duration": 1216,
    "start_time": "2023-02-02T06:08:58.690Z"
   },
   {
    "duration": 1169,
    "start_time": "2023-02-02T06:09:37.152Z"
   },
   {
    "duration": 3,
    "start_time": "2023-02-02T06:10:21.882Z"
   },
   {
    "duration": 1125,
    "start_time": "2023-02-02T06:10:32.989Z"
   },
   {
    "duration": 3,
    "start_time": "2023-02-02T06:12:00.050Z"
   },
   {
    "duration": 31,
    "start_time": "2023-02-02T06:12:03.138Z"
   },
   {
    "duration": 1105,
    "start_time": "2023-02-02T06:29:58.872Z"
   },
   {
    "duration": 10,
    "start_time": "2023-02-02T06:32:49.371Z"
   },
   {
    "duration": 8,
    "start_time": "2023-02-02T06:33:01.272Z"
   },
   {
    "duration": 12,
    "start_time": "2023-02-02T06:33:22.412Z"
   },
   {
    "duration": 11,
    "start_time": "2023-02-02T06:39:09.845Z"
   },
   {
    "duration": 79,
    "start_time": "2023-02-02T06:40:34.936Z"
   },
   {
    "duration": 12,
    "start_time": "2023-02-02T06:40:42.468Z"
   },
   {
    "duration": 7,
    "start_time": "2023-02-02T06:41:50.341Z"
   },
   {
    "duration": 11,
    "start_time": "2023-02-02T06:43:08.772Z"
   },
   {
    "duration": 1126,
    "start_time": "2023-02-02T06:43:50.039Z"
   },
   {
    "duration": 8,
    "start_time": "2023-02-02T06:57:11.177Z"
   },
   {
    "duration": 14,
    "start_time": "2023-02-02T06:57:18.498Z"
   },
   {
    "duration": 9,
    "start_time": "2023-02-02T07:02:52.788Z"
   },
   {
    "duration": 9,
    "start_time": "2023-02-02T07:03:16.611Z"
   },
   {
    "duration": 7,
    "start_time": "2023-02-02T07:07:13.943Z"
   },
   {
    "duration": 1134,
    "start_time": "2023-02-02T07:07:32.548Z"
   },
   {
    "duration": 7,
    "start_time": "2023-02-02T07:07:58.237Z"
   },
   {
    "duration": 8,
    "start_time": "2023-02-02T07:08:00.541Z"
   },
   {
    "duration": 9,
    "start_time": "2023-02-02T07:10:32.478Z"
   },
   {
    "duration": 9,
    "start_time": "2023-02-02T07:10:48.141Z"
   },
   {
    "duration": 7,
    "start_time": "2023-02-02T07:10:56.189Z"
   },
   {
    "duration": 7,
    "start_time": "2023-02-02T07:11:43.851Z"
   },
   {
    "duration": 8,
    "start_time": "2023-02-02T07:14:20.858Z"
   },
   {
    "duration": 8,
    "start_time": "2023-02-02T07:18:15.288Z"
   },
   {
    "duration": 9,
    "start_time": "2023-02-02T07:18:25.744Z"
   },
   {
    "duration": 8,
    "start_time": "2023-02-02T07:18:32.657Z"
   },
   {
    "duration": 6,
    "start_time": "2023-02-02T07:18:35.583Z"
   },
   {
    "duration": 9,
    "start_time": "2023-02-02T07:18:37.831Z"
   },
   {
    "duration": 72,
    "start_time": "2023-02-02T07:26:42.713Z"
   },
   {
    "duration": 3,
    "start_time": "2023-02-02T07:29:16.546Z"
   },
   {
    "duration": 6,
    "start_time": "2023-02-02T07:29:27.025Z"
   },
   {
    "duration": 4,
    "start_time": "2023-02-02T07:31:22.644Z"
   },
   {
    "duration": 8,
    "start_time": "2023-02-02T07:33:30.578Z"
   },
   {
    "duration": 1138,
    "start_time": "2023-02-02T07:34:03.292Z"
   },
   {
    "duration": 8,
    "start_time": "2023-02-02T07:34:21.819Z"
   },
   {
    "duration": 9,
    "start_time": "2023-02-02T07:35:28.784Z"
   },
   {
    "duration": 8,
    "start_time": "2023-02-02T07:36:07.558Z"
   },
   {
    "duration": 8,
    "start_time": "2023-02-02T07:36:14.542Z"
   },
   {
    "duration": 8,
    "start_time": "2023-02-02T07:37:25.495Z"
   },
   {
    "duration": 16,
    "start_time": "2023-02-02T07:37:40.553Z"
   },
   {
    "duration": 4,
    "start_time": "2023-02-02T07:37:44.660Z"
   },
   {
    "duration": 7,
    "start_time": "2023-02-02T07:37:45.841Z"
   },
   {
    "duration": 12,
    "start_time": "2023-02-02T07:37:46.449Z"
   },
   {
    "duration": 9,
    "start_time": "2023-02-02T07:37:52.002Z"
   },
   {
    "duration": 9,
    "start_time": "2023-02-02T07:38:19.248Z"
   },
   {
    "duration": 9,
    "start_time": "2023-02-02T07:38:33.536Z"
   },
   {
    "duration": 4,
    "start_time": "2023-02-02T07:38:35.791Z"
   },
   {
    "duration": 6,
    "start_time": "2023-02-02T07:38:37.415Z"
   },
   {
    "duration": 9,
    "start_time": "2023-02-02T07:38:39.079Z"
   },
   {
    "duration": 6,
    "start_time": "2023-02-02T07:47:53.463Z"
   },
   {
    "duration": 14,
    "start_time": "2023-02-02T07:48:59.643Z"
   },
   {
    "duration": 127,
    "start_time": "2023-02-02T07:49:36.098Z"
   },
   {
    "duration": 14,
    "start_time": "2023-02-02T07:49:36.227Z"
   },
   {
    "duration": 14,
    "start_time": "2023-02-02T07:49:36.242Z"
   },
   {
    "duration": 9,
    "start_time": "2023-02-02T07:49:36.258Z"
   },
   {
    "duration": 29,
    "start_time": "2023-02-02T07:49:36.268Z"
   },
   {
    "duration": 3,
    "start_time": "2023-02-02T07:49:36.299Z"
   },
   {
    "duration": 9,
    "start_time": "2023-02-02T07:49:36.303Z"
   },
   {
    "duration": 15,
    "start_time": "2023-02-02T07:49:36.337Z"
   },
   {
    "duration": 7,
    "start_time": "2023-02-02T07:49:36.354Z"
   },
   {
    "duration": 6,
    "start_time": "2023-02-02T07:49:36.364Z"
   },
   {
    "duration": 33,
    "start_time": "2023-02-02T07:49:36.371Z"
   },
   {
    "duration": 8,
    "start_time": "2023-02-02T07:49:36.405Z"
   },
   {
    "duration": 3,
    "start_time": "2023-02-02T07:49:36.415Z"
   },
   {
    "duration": 29,
    "start_time": "2023-02-02T07:49:36.419Z"
   },
   {
    "duration": 17,
    "start_time": "2023-02-02T07:49:36.450Z"
   },
   {
    "duration": 16,
    "start_time": "2023-02-02T07:49:36.468Z"
   },
   {
    "duration": 4,
    "start_time": "2023-02-02T07:49:36.486Z"
   },
   {
    "duration": 11,
    "start_time": "2023-02-02T07:49:36.492Z"
   },
   {
    "duration": 5,
    "start_time": "2023-02-02T07:49:36.504Z"
   },
   {
    "duration": 32,
    "start_time": "2023-02-02T07:49:36.511Z"
   },
   {
    "duration": 10,
    "start_time": "2023-02-02T07:49:36.544Z"
   },
   {
    "duration": 7,
    "start_time": "2023-02-02T07:49:36.555Z"
   },
   {
    "duration": 6,
    "start_time": "2023-02-02T07:49:36.564Z"
   },
   {
    "duration": 11,
    "start_time": "2023-02-02T07:49:36.571Z"
   },
   {
    "duration": 6,
    "start_time": "2023-02-02T07:49:36.584Z"
   },
   {
    "duration": 6,
    "start_time": "2023-02-02T07:49:36.592Z"
   },
   {
    "duration": 9,
    "start_time": "2023-02-02T07:49:36.599Z"
   },
   {
    "duration": 195,
    "start_time": "2023-02-02T08:05:02.546Z"
   },
   {
    "duration": 6,
    "start_time": "2023-02-02T09:23:35.579Z"
   },
   {
    "duration": 7,
    "start_time": "2023-02-02T09:24:11.585Z"
   },
   {
    "duration": 6,
    "start_time": "2023-02-02T09:24:13.302Z"
   },
   {
    "duration": 6,
    "start_time": "2023-02-02T09:24:37.618Z"
   },
   {
    "duration": 9,
    "start_time": "2023-02-02T09:24:40.065Z"
   },
   {
    "duration": 7,
    "start_time": "2023-02-02T09:27:54.883Z"
   },
   {
    "duration": 9,
    "start_time": "2023-02-02T09:28:05.367Z"
   },
   {
    "duration": 7,
    "start_time": "2023-02-02T09:28:33.888Z"
   },
   {
    "duration": 6,
    "start_time": "2023-02-02T09:28:35.488Z"
   },
   {
    "duration": 7,
    "start_time": "2023-02-02T09:29:23.742Z"
   },
   {
    "duration": 6,
    "start_time": "2023-02-02T09:29:25.326Z"
   },
   {
    "duration": 8,
    "start_time": "2023-02-02T09:29:35.517Z"
   },
   {
    "duration": 1175,
    "start_time": "2023-02-02T09:29:37.800Z"
   },
   {
    "duration": 9,
    "start_time": "2023-02-02T09:29:48.709Z"
   },
   {
    "duration": 5,
    "start_time": "2023-02-02T09:30:06.204Z"
   },
   {
    "duration": 9,
    "start_time": "2023-02-02T09:30:08.019Z"
   },
   {
    "duration": 1118,
    "start_time": "2023-02-02T09:30:43.985Z"
   },
   {
    "duration": 7,
    "start_time": "2023-02-02T09:31:25.535Z"
   },
   {
    "duration": 7,
    "start_time": "2023-02-02T09:31:28.294Z"
   },
   {
    "duration": 1264,
    "start_time": "2023-02-02T09:31:29.855Z"
   },
   {
    "duration": 68,
    "start_time": "2023-02-02T09:31:44.237Z"
   },
   {
    "duration": 1196,
    "start_time": "2023-02-02T09:31:49.865Z"
   },
   {
    "duration": 9,
    "start_time": "2023-02-02T09:32:15.787Z"
   },
   {
    "duration": 9,
    "start_time": "2023-02-02T09:32:34.469Z"
   },
   {
    "duration": 894,
    "start_time": "2023-02-02T09:48:13.881Z"
   },
   {
    "duration": 44,
    "start_time": "2023-02-02T10:35:03.552Z"
   },
   {
    "duration": 168,
    "start_time": "2023-02-02T10:35:27.625Z"
   },
   {
    "duration": 150,
    "start_time": "2023-02-02T10:36:08.038Z"
   },
   {
    "duration": 124,
    "start_time": "2023-02-02T10:39:10.215Z"
   },
   {
    "duration": 134,
    "start_time": "2023-02-02T10:44:56.976Z"
   },
   {
    "duration": 2,
    "start_time": "2023-02-02T10:48:24.088Z"
   },
   {
    "duration": 13,
    "start_time": "2023-02-02T10:53:17.387Z"
   },
   {
    "duration": 13,
    "start_time": "2023-02-02T10:53:48.177Z"
   },
   {
    "duration": 109,
    "start_time": "2023-02-02T10:55:09.183Z"
   },
   {
    "duration": 552,
    "start_time": "2023-02-02T11:02:55.528Z"
   },
   {
    "duration": 1768,
    "start_time": "2023-02-02T11:09:21.095Z"
   },
   {
    "duration": 421,
    "start_time": "2023-02-02T11:43:26.651Z"
   },
   {
    "duration": 456,
    "start_time": "2023-02-02T11:43:34.715Z"
   },
   {
    "duration": 1658,
    "start_time": "2023-02-02T11:43:41.379Z"
   },
   {
    "duration": 56,
    "start_time": "2023-02-02T11:46:22.716Z"
   },
   {
    "duration": 6,
    "start_time": "2023-02-02T11:46:25.627Z"
   },
   {
    "duration": 459,
    "start_time": "2023-02-02T11:46:45.580Z"
   },
   {
    "duration": 20,
    "start_time": "2023-02-02T11:46:46.041Z"
   },
   {
    "duration": 50,
    "start_time": "2023-02-02T11:46:46.062Z"
   },
   {
    "duration": 15,
    "start_time": "2023-02-02T11:46:46.114Z"
   },
   {
    "duration": 39,
    "start_time": "2023-02-02T11:46:46.130Z"
   },
   {
    "duration": 3,
    "start_time": "2023-02-02T11:46:46.171Z"
   },
   {
    "duration": 29,
    "start_time": "2023-02-02T11:46:46.175Z"
   },
   {
    "duration": 23,
    "start_time": "2023-02-02T11:46:46.206Z"
   },
   {
    "duration": 38,
    "start_time": "2023-02-02T11:46:46.230Z"
   },
   {
    "duration": 20,
    "start_time": "2023-02-02T11:46:46.270Z"
   },
   {
    "duration": 34,
    "start_time": "2023-02-02T11:46:46.291Z"
   },
   {
    "duration": 9,
    "start_time": "2023-02-02T11:46:46.327Z"
   },
   {
    "duration": 14,
    "start_time": "2023-02-02T11:46:46.337Z"
   },
   {
    "duration": 17,
    "start_time": "2023-02-02T11:46:46.352Z"
   },
   {
    "duration": 19,
    "start_time": "2023-02-02T11:46:46.371Z"
   },
   {
    "duration": 14,
    "start_time": "2023-02-02T11:46:46.392Z"
   },
   {
    "duration": 14,
    "start_time": "2023-02-02T11:46:46.408Z"
   },
   {
    "duration": 32,
    "start_time": "2023-02-02T11:46:46.424Z"
   },
   {
    "duration": 15,
    "start_time": "2023-02-02T11:46:46.458Z"
   },
   {
    "duration": 13,
    "start_time": "2023-02-02T11:46:46.475Z"
   },
   {
    "duration": 13,
    "start_time": "2023-02-02T11:46:46.489Z"
   },
   {
    "duration": 14,
    "start_time": "2023-02-02T11:46:46.503Z"
   },
   {
    "duration": 17,
    "start_time": "2023-02-02T11:46:46.518Z"
   },
   {
    "duration": 18,
    "start_time": "2023-02-02T11:46:46.537Z"
   },
   {
    "duration": 11,
    "start_time": "2023-02-02T11:46:46.556Z"
   },
   {
    "duration": 14,
    "start_time": "2023-02-02T11:46:46.568Z"
   },
   {
    "duration": 13,
    "start_time": "2023-02-02T11:46:46.584Z"
   },
   {
    "duration": 719,
    "start_time": "2023-02-02T11:46:50.506Z"
   },
   {
    "duration": 1565,
    "start_time": "2023-02-02T11:46:53.147Z"
   },
   {
    "duration": 56,
    "start_time": "2023-02-02T12:00:11.537Z"
   },
   {
    "duration": 8,
    "start_time": "2023-02-02T12:00:22.022Z"
   },
   {
    "duration": 119,
    "start_time": "2023-02-02T12:01:03.533Z"
   },
   {
    "duration": 8,
    "start_time": "2023-02-02T12:01:10.084Z"
   },
   {
    "duration": 82,
    "start_time": "2023-02-02T12:02:55.272Z"
   },
   {
    "duration": 7,
    "start_time": "2023-02-02T12:03:00.313Z"
   },
   {
    "duration": 6,
    "start_time": "2023-02-02T12:03:06.495Z"
   },
   {
    "duration": 5,
    "start_time": "2023-02-02T12:03:31.694Z"
   },
   {
    "duration": 34,
    "start_time": "2023-02-02T12:06:54.327Z"
   },
   {
    "duration": 52,
    "start_time": "2023-02-02T14:06:47.736Z"
   },
   {
    "duration": 489,
    "start_time": "2023-02-02T14:06:53.970Z"
   },
   {
    "duration": 21,
    "start_time": "2023-02-02T14:06:54.461Z"
   },
   {
    "duration": 13,
    "start_time": "2023-02-02T14:06:54.484Z"
   },
   {
    "duration": 8,
    "start_time": "2023-02-02T14:06:54.500Z"
   },
   {
    "duration": 32,
    "start_time": "2023-02-02T14:06:54.510Z"
   },
   {
    "duration": 3,
    "start_time": "2023-02-02T14:06:54.544Z"
   },
   {
    "duration": 26,
    "start_time": "2023-02-02T14:06:54.548Z"
   },
   {
    "duration": 23,
    "start_time": "2023-02-02T14:06:54.575Z"
   },
   {
    "duration": 20,
    "start_time": "2023-02-02T14:06:54.599Z"
   },
   {
    "duration": 8,
    "start_time": "2023-02-02T14:06:54.622Z"
   },
   {
    "duration": 44,
    "start_time": "2023-02-02T14:06:54.631Z"
   },
   {
    "duration": 8,
    "start_time": "2023-02-02T14:06:54.677Z"
   },
   {
    "duration": 15,
    "start_time": "2023-02-02T14:06:54.687Z"
   },
   {
    "duration": 25,
    "start_time": "2023-02-02T14:06:54.704Z"
   },
   {
    "duration": 37,
    "start_time": "2023-02-02T14:06:54.730Z"
   },
   {
    "duration": 16,
    "start_time": "2023-02-02T14:06:54.768Z"
   },
   {
    "duration": 4,
    "start_time": "2023-02-02T14:06:54.785Z"
   },
   {
    "duration": 29,
    "start_time": "2023-02-02T14:06:54.791Z"
   },
   {
    "duration": 9,
    "start_time": "2023-02-02T14:06:54.821Z"
   },
   {
    "duration": 12,
    "start_time": "2023-02-02T14:06:54.831Z"
   },
   {
    "duration": 21,
    "start_time": "2023-02-02T14:06:54.844Z"
   },
   {
    "duration": 12,
    "start_time": "2023-02-02T14:06:54.867Z"
   },
   {
    "duration": 20,
    "start_time": "2023-02-02T14:06:54.881Z"
   },
   {
    "duration": 13,
    "start_time": "2023-02-02T14:06:54.902Z"
   },
   {
    "duration": 24,
    "start_time": "2023-02-02T14:06:54.916Z"
   },
   {
    "duration": 10,
    "start_time": "2023-02-02T14:06:54.941Z"
   },
   {
    "duration": 17,
    "start_time": "2023-02-02T14:06:54.952Z"
   },
   {
    "duration": 4,
    "start_time": "2023-02-02T14:07:48.139Z"
   },
   {
    "duration": 3,
    "start_time": "2023-02-02T14:09:13.711Z"
   },
   {
    "duration": 40,
    "start_time": "2023-02-02T14:09:38.479Z"
   },
   {
    "duration": 4,
    "start_time": "2023-02-02T14:10:58.264Z"
   },
   {
    "duration": 12,
    "start_time": "2023-02-02T14:13:27.188Z"
   },
   {
    "duration": 7,
    "start_time": "2023-02-02T14:13:31.244Z"
   },
   {
    "duration": 5,
    "start_time": "2023-02-02T14:13:32.708Z"
   },
   {
    "duration": 159624,
    "start_time": "2023-02-02T14:13:34.427Z"
   },
   {
    "duration": 4,
    "start_time": "2023-02-02T14:16:14.055Z"
   },
   {
    "duration": 158913,
    "start_time": "2023-02-02T14:16:43.465Z"
   },
   {
    "duration": 11,
    "start_time": "2023-02-02T14:23:12.965Z"
   },
   {
    "duration": 25,
    "start_time": "2023-02-02T14:24:20.285Z"
   },
   {
    "duration": 66,
    "start_time": "2023-02-02T14:26:59.107Z"
   },
   {
    "duration": 12,
    "start_time": "2023-02-02T14:27:25.685Z"
   },
   {
    "duration": 7,
    "start_time": "2023-02-02T14:27:46.555Z"
   },
   {
    "duration": 8,
    "start_time": "2023-02-02T14:27:48.675Z"
   },
   {
    "duration": 7,
    "start_time": "2023-02-02T14:27:52.467Z"
   },
   {
    "duration": 4,
    "start_time": "2023-02-02T14:27:53.812Z"
   },
   {
    "duration": 12,
    "start_time": "2023-02-02T14:27:55.874Z"
   },
   {
    "duration": 3,
    "start_time": "2023-02-02T14:29:05.315Z"
   },
   {
    "duration": 13,
    "start_time": "2023-02-02T14:29:07.576Z"
   },
   {
    "duration": 13,
    "start_time": "2023-02-02T14:29:28.975Z"
   },
   {
    "duration": 5,
    "start_time": "2023-02-02T14:34:24.404Z"
   },
   {
    "duration": 8,
    "start_time": "2023-02-02T14:39:10.258Z"
   },
   {
    "duration": 12,
    "start_time": "2023-02-02T14:39:14.340Z"
   },
   {
    "duration": 8,
    "start_time": "2023-02-02T14:39:45.282Z"
   },
   {
    "duration": 11,
    "start_time": "2023-02-02T14:45:15.906Z"
   },
   {
    "duration": 10,
    "start_time": "2023-02-02T14:46:22.128Z"
   },
   {
    "duration": 10,
    "start_time": "2023-02-02T14:48:50.569Z"
   },
   {
    "duration": 10,
    "start_time": "2023-02-02T14:50:48.283Z"
   },
   {
    "duration": 10,
    "start_time": "2023-02-02T14:51:37.827Z"
   },
   {
    "duration": 67,
    "start_time": "2023-02-02T14:51:45.158Z"
   },
   {
    "duration": 14,
    "start_time": "2023-02-02T14:51:45.227Z"
   },
   {
    "duration": 42,
    "start_time": "2023-02-02T14:51:45.242Z"
   },
   {
    "duration": 34,
    "start_time": "2023-02-02T14:51:45.286Z"
   },
   {
    "duration": 55,
    "start_time": "2023-02-02T14:51:45.322Z"
   },
   {
    "duration": 19,
    "start_time": "2023-02-02T14:51:45.379Z"
   },
   {
    "duration": 33,
    "start_time": "2023-02-02T14:51:45.399Z"
   },
   {
    "duration": 31,
    "start_time": "2023-02-02T14:51:45.434Z"
   },
   {
    "duration": 34,
    "start_time": "2023-02-02T14:51:45.467Z"
   },
   {
    "duration": 30,
    "start_time": "2023-02-02T14:51:45.505Z"
   },
   {
    "duration": 79,
    "start_time": "2023-02-02T14:51:45.537Z"
   },
   {
    "duration": 18,
    "start_time": "2023-02-02T14:51:45.618Z"
   },
   {
    "duration": 47,
    "start_time": "2023-02-02T14:51:45.638Z"
   },
   {
    "duration": 45,
    "start_time": "2023-02-02T14:51:45.687Z"
   },
   {
    "duration": 58,
    "start_time": "2023-02-02T14:51:45.733Z"
   },
   {
    "duration": 38,
    "start_time": "2023-02-02T14:51:45.792Z"
   },
   {
    "duration": 9,
    "start_time": "2023-02-02T14:51:45.832Z"
   },
   {
    "duration": 44,
    "start_time": "2023-02-02T14:51:45.842Z"
   },
   {
    "duration": 36,
    "start_time": "2023-02-02T14:51:45.888Z"
   },
   {
    "duration": 22,
    "start_time": "2023-02-02T14:51:45.926Z"
   },
   {
    "duration": 59,
    "start_time": "2023-02-02T14:51:45.949Z"
   },
   {
    "duration": 30,
    "start_time": "2023-02-02T14:51:46.010Z"
   },
   {
    "duration": 17,
    "start_time": "2023-02-02T14:51:46.041Z"
   },
   {
    "duration": 35,
    "start_time": "2023-02-02T14:51:46.059Z"
   },
   {
    "duration": 23,
    "start_time": "2023-02-02T14:51:46.096Z"
   },
   {
    "duration": 54,
    "start_time": "2023-02-02T14:51:46.121Z"
   },
   {
    "duration": 28,
    "start_time": "2023-02-02T14:51:46.177Z"
   },
   {
    "duration": 9,
    "start_time": "2023-02-02T14:51:49.474Z"
   },
   {
    "duration": 6,
    "start_time": "2023-02-02T14:52:31.871Z"
   },
   {
    "duration": 10,
    "start_time": "2023-02-02T14:52:36.175Z"
   },
   {
    "duration": 1272,
    "start_time": "2023-02-02T14:55:07.512Z"
   },
   {
    "duration": 7,
    "start_time": "2023-02-02T14:55:18.743Z"
   },
   {
    "duration": 8,
    "start_time": "2023-02-02T14:55:22.087Z"
   },
   {
    "duration": 8,
    "start_time": "2023-02-02T14:55:50.102Z"
   },
   {
    "duration": 56,
    "start_time": "2023-02-02T17:04:20.014Z"
   },
   {
    "duration": 42,
    "start_time": "2023-02-02T17:06:58.396Z"
   },
   {
    "duration": 698,
    "start_time": "2023-02-02T17:07:09.495Z"
   },
   {
    "duration": 22,
    "start_time": "2023-02-02T17:07:10.195Z"
   },
   {
    "duration": 15,
    "start_time": "2023-02-02T17:07:10.219Z"
   },
   {
    "duration": 9,
    "start_time": "2023-02-02T17:07:10.236Z"
   },
   {
    "duration": 50,
    "start_time": "2023-02-02T17:07:10.246Z"
   },
   {
    "duration": 3,
    "start_time": "2023-02-02T17:07:10.298Z"
   },
   {
    "duration": 13,
    "start_time": "2023-02-02T17:07:10.302Z"
   },
   {
    "duration": 4,
    "start_time": "2023-02-02T17:07:10.317Z"
   },
   {
    "duration": 10,
    "start_time": "2023-02-02T17:07:10.323Z"
   },
   {
    "duration": 5,
    "start_time": "2023-02-02T17:07:10.335Z"
   },
   {
    "duration": 59,
    "start_time": "2023-02-02T17:07:10.341Z"
   },
   {
    "duration": 9,
    "start_time": "2023-02-02T17:07:10.402Z"
   },
   {
    "duration": 5,
    "start_time": "2023-02-02T17:07:10.412Z"
   },
   {
    "duration": 12,
    "start_time": "2023-02-02T17:07:10.419Z"
   },
   {
    "duration": 18,
    "start_time": "2023-02-02T17:07:10.432Z"
   },
   {
    "duration": 42,
    "start_time": "2023-02-02T17:07:10.452Z"
   },
   {
    "duration": 3,
    "start_time": "2023-02-02T17:07:10.496Z"
   },
   {
    "duration": 13,
    "start_time": "2023-02-02T17:07:10.500Z"
   },
   {
    "duration": 6,
    "start_time": "2023-02-02T17:07:10.515Z"
   },
   {
    "duration": 5,
    "start_time": "2023-02-02T17:07:10.522Z"
   },
   {
    "duration": 11,
    "start_time": "2023-02-02T17:07:10.529Z"
   },
   {
    "duration": 6,
    "start_time": "2023-02-02T17:07:10.542Z"
   },
   {
    "duration": 33,
    "start_time": "2023-02-02T17:07:10.550Z"
   },
   {
    "duration": 7,
    "start_time": "2023-02-02T17:07:10.585Z"
   },
   {
    "duration": 12,
    "start_time": "2023-02-02T17:07:10.593Z"
   },
   {
    "duration": 13,
    "start_time": "2023-02-02T17:07:10.606Z"
   },
   {
    "duration": 10,
    "start_time": "2023-02-02T17:07:10.621Z"
   },
   {
    "duration": 12,
    "start_time": "2023-02-02T17:07:10.634Z"
   },
   {
    "duration": 37,
    "start_time": "2023-02-02T17:07:10.648Z"
   },
   {
    "duration": 18,
    "start_time": "2023-02-02T17:07:10.687Z"
   },
   {
    "duration": 14,
    "start_time": "2023-02-02T17:07:10.707Z"
   },
   {
    "duration": 11,
    "start_time": "2023-02-02T17:07:14.051Z"
   },
   {
    "duration": 68,
    "start_time": "2023-02-02T17:10:01.182Z"
   },
   {
    "duration": 72,
    "start_time": "2023-02-02T17:20:58.779Z"
   },
   {
    "duration": 17,
    "start_time": "2023-02-02T17:20:58.853Z"
   },
   {
    "duration": 39,
    "start_time": "2023-02-02T17:20:58.872Z"
   },
   {
    "duration": 29,
    "start_time": "2023-02-02T17:20:58.914Z"
   },
   {
    "duration": 59,
    "start_time": "2023-02-02T17:20:58.945Z"
   },
   {
    "duration": 3,
    "start_time": "2023-02-02T17:20:59.006Z"
   },
   {
    "duration": 39,
    "start_time": "2023-02-02T17:20:59.011Z"
   },
   {
    "duration": 38,
    "start_time": "2023-02-02T17:20:59.052Z"
   },
   {
    "duration": 41,
    "start_time": "2023-02-02T17:20:59.092Z"
   },
   {
    "duration": 23,
    "start_time": "2023-02-02T17:20:59.136Z"
   },
   {
    "duration": 63,
    "start_time": "2023-02-02T17:20:59.161Z"
   },
   {
    "duration": 36,
    "start_time": "2023-02-02T17:20:59.226Z"
   },
   {
    "duration": 38,
    "start_time": "2023-02-02T17:20:59.264Z"
   },
   {
    "duration": 40,
    "start_time": "2023-02-02T17:20:59.303Z"
   },
   {
    "duration": 43,
    "start_time": "2023-02-02T17:20:59.345Z"
   },
   {
    "duration": 35,
    "start_time": "2023-02-02T17:20:59.390Z"
   },
   {
    "duration": 12,
    "start_time": "2023-02-02T17:20:59.427Z"
   },
   {
    "duration": 34,
    "start_time": "2023-02-02T17:20:59.440Z"
   },
   {
    "duration": 18,
    "start_time": "2023-02-02T17:20:59.476Z"
   },
   {
    "duration": 17,
    "start_time": "2023-02-02T17:20:59.495Z"
   },
   {
    "duration": 35,
    "start_time": "2023-02-02T17:20:59.513Z"
   },
   {
    "duration": 30,
    "start_time": "2023-02-02T17:20:59.550Z"
   },
   {
    "duration": 33,
    "start_time": "2023-02-02T17:20:59.582Z"
   },
   {
    "duration": 37,
    "start_time": "2023-02-02T17:20:59.617Z"
   },
   {
    "duration": 24,
    "start_time": "2023-02-02T17:20:59.656Z"
   },
   {
    "duration": 41,
    "start_time": "2023-02-02T17:20:59.681Z"
   },
   {
    "duration": 23,
    "start_time": "2023-02-02T17:20:59.724Z"
   },
   {
    "duration": 38,
    "start_time": "2023-02-02T17:20:59.750Z"
   },
   {
    "duration": 14,
    "start_time": "2023-02-02T17:20:59.790Z"
   },
   {
    "duration": 37,
    "start_time": "2023-02-02T17:20:59.806Z"
   },
   {
    "duration": 29,
    "start_time": "2023-02-02T17:20:59.845Z"
   },
   {
    "duration": 36,
    "start_time": "2023-02-02T17:20:59.876Z"
   },
   {
    "duration": 536,
    "start_time": "2023-02-03T12:10:50.626Z"
   },
   {
    "duration": 24,
    "start_time": "2023-02-03T12:10:51.165Z"
   },
   {
    "duration": 42,
    "start_time": "2023-02-03T12:10:51.191Z"
   },
   {
    "duration": 10,
    "start_time": "2023-02-03T12:10:51.235Z"
   },
   {
    "duration": 35,
    "start_time": "2023-02-03T12:10:51.247Z"
   },
   {
    "duration": 4,
    "start_time": "2023-02-03T12:10:51.283Z"
   },
   {
    "duration": 18,
    "start_time": "2023-02-03T12:10:51.289Z"
   },
   {
    "duration": 5,
    "start_time": "2023-02-03T12:10:51.315Z"
   },
   {
    "duration": 21,
    "start_time": "2023-02-03T12:10:51.322Z"
   },
   {
    "duration": 3,
    "start_time": "2023-02-03T12:10:51.345Z"
   },
   {
    "duration": 36,
    "start_time": "2023-02-03T12:10:51.349Z"
   },
   {
    "duration": 9,
    "start_time": "2023-02-03T12:10:51.386Z"
   },
   {
    "duration": 4,
    "start_time": "2023-02-03T12:10:51.396Z"
   },
   {
    "duration": 13,
    "start_time": "2023-02-03T12:10:51.403Z"
   },
   {
    "duration": 22,
    "start_time": "2023-02-03T12:10:51.418Z"
   },
   {
    "duration": 16,
    "start_time": "2023-02-03T12:10:51.442Z"
   },
   {
    "duration": 3,
    "start_time": "2023-02-03T12:10:51.460Z"
   },
   {
    "duration": 11,
    "start_time": "2023-02-03T12:10:51.465Z"
   },
   {
    "duration": 5,
    "start_time": "2023-02-03T12:10:51.477Z"
   },
   {
    "duration": 40,
    "start_time": "2023-02-03T12:10:51.484Z"
   },
   {
    "duration": 484,
    "start_time": "2023-02-03T12:11:00.056Z"
   },
   {
    "duration": 67,
    "start_time": "2023-02-03T12:11:34.737Z"
   },
   {
    "duration": 16,
    "start_time": "2023-02-03T12:11:34.806Z"
   },
   {
    "duration": 15,
    "start_time": "2023-02-03T12:11:34.823Z"
   },
   {
    "duration": 9,
    "start_time": "2023-02-03T12:11:34.840Z"
   },
   {
    "duration": 32,
    "start_time": "2023-02-03T12:11:34.851Z"
   },
   {
    "duration": 3,
    "start_time": "2023-02-03T12:11:34.885Z"
   },
   {
    "duration": 13,
    "start_time": "2023-02-03T12:11:34.910Z"
   },
   {
    "duration": 3,
    "start_time": "2023-02-03T12:11:34.924Z"
   },
   {
    "duration": 7,
    "start_time": "2023-02-03T12:11:34.929Z"
   },
   {
    "duration": 4,
    "start_time": "2023-02-03T12:11:34.939Z"
   },
   {
    "duration": 37,
    "start_time": "2023-02-03T12:11:34.944Z"
   },
   {
    "duration": 30,
    "start_time": "2023-02-03T12:11:34.983Z"
   },
   {
    "duration": 3,
    "start_time": "2023-02-03T12:11:35.015Z"
   },
   {
    "duration": 16,
    "start_time": "2023-02-03T12:11:35.020Z"
   },
   {
    "duration": 24,
    "start_time": "2023-02-03T12:11:35.037Z"
   },
   {
    "duration": 23,
    "start_time": "2023-02-03T12:11:35.062Z"
   },
   {
    "duration": 22,
    "start_time": "2023-02-03T12:11:35.087Z"
   },
   {
    "duration": 15,
    "start_time": "2023-02-03T12:11:35.111Z"
   },
   {
    "duration": 6,
    "start_time": "2023-02-03T12:11:35.127Z"
   },
   {
    "duration": 5,
    "start_time": "2023-02-03T12:11:35.134Z"
   },
   {
    "duration": 10,
    "start_time": "2023-02-03T12:11:35.141Z"
   },
   {
    "duration": 6,
    "start_time": "2023-02-03T12:11:35.153Z"
   },
   {
    "duration": 9,
    "start_time": "2023-02-03T12:11:35.160Z"
   },
   {
    "duration": 8,
    "start_time": "2023-02-03T12:11:35.171Z"
   },
   {
    "duration": 33,
    "start_time": "2023-02-03T12:11:35.180Z"
   },
   {
    "duration": 12,
    "start_time": "2023-02-03T12:11:35.215Z"
   },
   {
    "duration": 10,
    "start_time": "2023-02-03T12:11:35.228Z"
   },
   {
    "duration": 12,
    "start_time": "2023-02-03T12:11:35.242Z"
   },
   {
    "duration": 8,
    "start_time": "2023-02-03T12:11:35.256Z"
   },
   {
    "duration": 16,
    "start_time": "2023-02-03T12:11:35.266Z"
   },
   {
    "duration": 9,
    "start_time": "2023-02-03T12:11:35.310Z"
   },
   {
    "duration": 11,
    "start_time": "2023-02-03T12:11:35.321Z"
   }
  ],
  "colab": {
   "name": "dpp_template_part2.ipynb",
   "provenance": []
  },
  "kernelspec": {
   "display_name": "Python 3",
   "language": "python",
   "name": "python3"
  },
  "language_info": {
   "codemirror_mode": {
    "name": "ipython",
    "version": 3
   },
   "file_extension": ".py",
   "mimetype": "text/x-python",
   "name": "python",
   "nbconvert_exporter": "python",
   "pygments_lexer": "ipython3",
   "version": "3.8.8"
  },
  "toc": {
   "base_numbering": 1,
   "nav_menu": {
    "height": "63.9931px",
    "width": "160px"
   },
   "number_sections": true,
   "sideBar": true,
   "skip_h1_title": true,
   "title_cell": "Содержание",
   "title_sidebar": "Contents",
   "toc_cell": false,
   "toc_position": {
    "height": "calc(100% - 180px)",
    "left": "10px",
    "top": "150px",
    "width": "366.181px"
   },
   "toc_section_display": true,
   "toc_window_display": true
  }
 },
 "nbformat": 4,
 "nbformat_minor": 5
}
